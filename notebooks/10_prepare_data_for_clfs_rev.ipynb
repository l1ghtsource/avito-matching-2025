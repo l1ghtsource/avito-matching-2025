{
 "cells": [
  {
   "cell_type": "code",
   "execution_count": 1,
   "id": "f0ab5180",
   "metadata": {
    "_cell_guid": "b1076dfc-b9ad-4769-8c92-a6c4dae69d19",
    "_uuid": "8f2839f25d086af736a60e9eeb907d3b93b6e0e5",
    "execution": {
     "iopub.execute_input": "2025-05-08T16:42:39.853230Z",
     "iopub.status.busy": "2025-05-08T16:42:39.852981Z",
     "iopub.status.idle": "2025-05-08T16:42:41.575027Z",
     "shell.execute_reply": "2025-05-08T16:42:41.569477Z"
    },
    "papermill": {
     "duration": 1.729723,
     "end_time": "2025-05-08T16:42:41.577643",
     "exception": false,
     "start_time": "2025-05-08T16:42:39.847920",
     "status": "completed"
    },
    "tags": []
   },
   "outputs": [],
   "source": [
    "import pandas as pd\n",
    "import gc"
   ]
  },
  {
   "cell_type": "code",
   "execution_count": 2,
   "id": "55dcde4a",
   "metadata": {
    "execution": {
     "iopub.execute_input": "2025-05-08T16:42:41.584348Z",
     "iopub.status.busy": "2025-05-08T16:42:41.584069Z",
     "iopub.status.idle": "2025-05-08T16:42:41.591807Z",
     "shell.execute_reply": "2025-05-08T16:42:41.588542Z"
    },
    "papermill": {
     "duration": 0.016609,
     "end_time": "2025-05-08T16:42:41.596014",
     "exception": false,
     "start_time": "2025-05-08T16:42:41.579405",
     "status": "completed"
    },
    "tags": []
   },
   "outputs": [],
   "source": [
    "DESC_N = 1000"
   ]
  },
  {
   "cell_type": "code",
   "execution_count": null,
   "id": "04a1ac32",
   "metadata": {
    "execution": {
     "iopub.execute_input": "2025-05-08T16:42:41.602108Z",
     "iopub.status.busy": "2025-05-08T16:42:41.601866Z",
     "iopub.status.idle": "2025-05-08T16:44:29.004133Z",
     "shell.execute_reply": "2025-05-08T16:44:28.998360Z"
    },
    "papermill": {
     "duration": 107.409469,
     "end_time": "2025-05-08T16:44:29.007017",
     "exception": false,
     "start_time": "2025-05-08T16:42:41.597548",
     "status": "completed"
    },
    "tags": []
   },
   "outputs": [],
   "source": [
    "df1 = pd.read_parquet('../data/preprocessed/train_texts.parquet')\n",
    "df1['description_1'] = df1['description_1'].apply(lambda x: x[:DESC_N])\n",
    "df1['description_2'] = df1['description_2'].apply(lambda x: x[:DESC_N])\n",
    "\n",
    "cat_cols = [\n",
    "    'category_level_1_1', 'category_level_1_2', \n",
    "    'category_level_2_1', 'category_level_2_2',\n",
    "    'category_level_3_1', 'category_level_3_2', \n",
    "    'category_level_4_1', 'category_level_4_2'\n",
    "]\n",
    "\n",
    "for col in cat_cols:\n",
    "    df1[col] = df1[col].fillna('none')\n",
    "\n",
    "df1['product_row'] = 'NAME1: ' + df1['name_2'] + '; NAME2: ' + df1['name_1'] + '\\nCATEGORY1: ' + df1['category_level_1_2'] + '->' + df1['category_level_2_2'] + '->' + df1['category_level_3_2'] + '->' + df1['category_level_4_2'] + '; CATEGORY2: ' + df1['category_level_1_1'] + '->' + df1['category_level_2_1'] + '->' + df1['category_level_3_1'] + '->' + df1['category_level_4_1'] + '\\nDESCRIPTION1: ' + df1['description_2'] + '; DESCRIPTION2: ' + df1['description_1']\n",
    "\n",
    "gc.collect()\n",
    "\n",
    "df1 = df1[['variantid_1', 'variantid_2', 'product_row', 'group_id', 'is_double']]\n",
    "\n",
    "df1.to_parquet('avito-for-dl-train-rev.parquet')"
   ]
  },
  {
   "cell_type": "code",
   "execution_count": null,
   "id": "fc2306ee",
   "metadata": {
    "execution": {
     "iopub.execute_input": "2025-05-08T16:44:29.013653Z",
     "iopub.status.busy": "2025-05-08T16:44:29.013364Z",
     "iopub.status.idle": "2025-05-08T16:44:53.185421Z",
     "shell.execute_reply": "2025-05-08T16:44:53.181073Z"
    },
    "papermill": {
     "duration": 24.179623,
     "end_time": "2025-05-08T16:44:53.188273",
     "exception": false,
     "start_time": "2025-05-08T16:44:29.008650",
     "status": "completed"
    },
    "tags": []
   },
   "outputs": [],
   "source": [
    "df1 = pd.read_parquet('../data/preprocessed/test_texts.parquet')\n",
    "df1['description_1'] = df1['description_1'].apply(lambda x: x[:DESC_N])\n",
    "df1['description_2'] = df1['description_2'].apply(lambda x: x[:DESC_N])\n",
    "\n",
    "cat_cols = [\n",
    "    'category_level_1_1', 'category_level_1_2', \n",
    "    'category_level_2_1', 'category_level_2_2',\n",
    "    'category_level_3_1', 'category_level_3_2', \n",
    "    'category_level_4_1', 'category_level_4_2'\n",
    "]\n",
    "\n",
    "for col in cat_cols:\n",
    "    df1[col] = df1[col].fillna('none')\n",
    "\n",
    "df1['product_row'] = 'NAME1: ' + df1['name_2'] + '; NAME2: ' + df1['name_1'] + '\\nCATEGORY1: ' + df1['category_level_1_2'] + '->' + df1['category_level_2_2'] + '->' + df1['category_level_3_2'] + '->' + df1['category_level_4_2'] + '; CATEGORY2: ' + df1['category_level_1_1'] + '->' + df1['category_level_2_1'] + '->' + df1['category_level_3_1'] + '->' + df1['category_level_4_1'] + '\\nDESCRIPTION1: ' + df1['description_2'] + '; DESCRIPTION2: ' + df1['description_1']\n",
    "\n",
    "gc.collect()\n",
    "\n",
    "df1 = df1[['variantid_1', 'variantid_2', 'product_row']]\n",
    "\n",
    "df1.to_parquet('avito-for-dl-test-rev.parquet')"
   ]
  }
 ],
 "metadata": {
  "kaggle": {
   "accelerator": "tpu1vmV38",
   "dataSources": [
    {
     "datasetId": 7260659,
     "sourceId": 11579984,
     "sourceType": "datasetVersion"
    }
   ],
   "dockerImageVersionId": 31012,
   "isGpuEnabled": false,
   "isInternetEnabled": true,
   "language": "python",
   "sourceType": "notebook"
  },
  "kernelspec": {
   "display_name": "Python 3",
   "language": "python",
   "name": "python3"
  },
  "language_info": {
   "codemirror_mode": {
    "name": "ipython",
    "version": 3
   },
   "file_extension": ".py",
   "mimetype": "text/x-python",
   "name": "python",
   "nbconvert_exporter": "python",
   "pygments_lexer": "ipython3",
   "version": "3.10.16"
  },
  "papermill": {
   "default_parameters": {},
   "duration": 139.783423,
   "end_time": "2025-05-08T16:44:56.407918",
   "environment_variables": {},
   "exception": null,
   "input_path": "__notebook__.ipynb",
   "output_path": "__notebook__.ipynb",
   "parameters": {},
   "start_time": "2025-05-08T16:42:36.624495",
   "version": "2.6.0"
  }
 },
 "nbformat": 4,
 "nbformat_minor": 5
}
