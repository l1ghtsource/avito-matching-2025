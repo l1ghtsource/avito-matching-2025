{
 "cells": [
  {
   "cell_type": "code",
   "execution_count": null,
   "id": "f8a0b7fa",
   "metadata": {},
   "outputs": [],
   "source": [
    "import gc\n",
    "import polars as pl\n",
    "from pathlib import Path"
   ]
  },
  {
   "cell_type": "code",
   "execution_count": 2,
   "id": "cb476fb0",
   "metadata": {},
   "outputs": [],
   "source": [
    "pl.enable_string_cache()"
   ]
  },
  {
   "cell_type": "code",
   "execution_count": 3,
   "id": "00f6c8db",
   "metadata": {},
   "outputs": [],
   "source": [
    "MAIN_DIR = Path('../data/preprocessed')"
   ]
  },
  {
   "cell_type": "code",
   "execution_count": 4,
   "id": "d07e0c05",
   "metadata": {},
   "outputs": [],
   "source": [
    "data = pl.read_parquet(MAIN_DIR / Path('all_products_preprocessed.parquet'))\n",
    "train_pairs = pl.read_parquet(MAIN_DIR / Path('train_pairs.parquet'))\n",
    "test_pairs = pl.read_parquet(MAIN_DIR / Path('test_pairs.parquet'))"
   ]
  },
  {
   "cell_type": "code",
   "execution_count": 5,
   "id": "61ac1274",
   "metadata": {},
   "outputs": [],
   "source": [
    "data_1 = data.select([pl.col(col).alias(f'{col}_1') for col in data.columns])\n",
    "data_2 = data.select([pl.col(col).alias(f'{col}_2') for col in data.columns])"
   ]
  },
  {
   "cell_type": "code",
   "execution_count": 6,
   "id": "21af8539",
   "metadata": {},
   "outputs": [
    {
     "data": {
      "text/plain": [
       "0"
      ]
     },
     "execution_count": 6,
     "metadata": {},
     "output_type": "execute_result"
    }
   ],
   "source": [
    "del data\n",
    "gc.collect()"
   ]
  },
  {
   "cell_type": "code",
   "execution_count": 7,
   "id": "758a9c56",
   "metadata": {},
   "outputs": [],
   "source": [
    "train_df = train_pairs.join(data_1, on='variantid_1')\n",
    "train_df = train_df.join(data_2, on='variantid_2')"
   ]
  },
  {
   "cell_type": "code",
   "execution_count": 8,
   "id": "2106192b",
   "metadata": {},
   "outputs": [],
   "source": [
    "test_df = test_pairs.join(data_1, on='variantid_1')\n",
    "test_df = test_df.join(data_2, on='variantid_2')"
   ]
  },
  {
   "cell_type": "code",
   "execution_count": null,
   "id": "f37fc308",
   "metadata": {},
   "outputs": [],
   "source": [
    "len(train_df), len(test_df)"
   ]
  },
  {
   "cell_type": "code",
   "execution_count": null,
   "id": "1e5e4133",
   "metadata": {},
   "outputs": [],
   "source": [
    "train_df = train_df.unique(subset=['variantid_1', 'variantid_2'])\n",
    "test_df = test_df.unique(subset=['variantid_1', 'variantid_2'])"
   ]
  },
  {
   "cell_type": "code",
   "execution_count": null,
   "id": "6b4e5c5d",
   "metadata": {},
   "outputs": [],
   "source": [
    "len(train_df), len(test_df)"
   ]
  },
  {
   "cell_type": "code",
   "execution_count": 10,
   "id": "88f1bd55",
   "metadata": {},
   "outputs": [],
   "source": [
    "train_df.write_parquet('../data/merged/train_df.parquet')\n",
    "test_df.write_parquet('../data/merged/test_df.parquet')"
   ]
  }
 ],
 "metadata": {
  "kernelspec": {
   "display_name": "Python 3",
   "language": "python",
   "name": "python3"
  },
  "language_info": {
   "codemirror_mode": {
    "name": "ipython",
    "version": 3
   },
   "file_extension": ".py",
   "mimetype": "text/x-python",
   "name": "python",
   "nbconvert_exporter": "python",
   "pygments_lexer": "ipython3",
   "version": "3.10.12"
  }
 },
 "nbformat": 4,
 "nbformat_minor": 5
}
