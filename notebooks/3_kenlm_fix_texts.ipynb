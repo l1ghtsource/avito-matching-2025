{
 "cells": [
  {
   "cell_type": "code",
   "execution_count": null,
   "id": "3278a557-55b8-4d59-a155-cf7e469121d5",
   "metadata": {},
   "outputs": [],
   "source": [
    "import kenlm\n",
    "\n",
    "model = kenlm.Model('../../kenlm/char_5gram_ru_en.bin')\n",
    "\n",
    "def tok(t):\n",
    "    return ' '.join(['<space>' if j == ' ' else j for j in t])"
   ]
  },
  {
   "cell_type": "code",
   "execution_count": null,
   "id": "44dade98-45e9-4433-95e6-11a685c30285",
   "metadata": {},
   "outputs": [],
   "source": [
    "import pandas as pd\n",
    "\n",
    "df = pd.read_parquet('name_desc_avito.parquet')"
   ]
  },
  {
   "cell_type": "code",
   "execution_count": null,
   "id": "53156302-ad15-4db8-b309-b4565b3e4aeb",
   "metadata": {},
   "outputs": [
    {
     "data": {
      "text/plain": [
       "6                                    iPhone 11, 64 ГБ\n",
       "13                             iPhone 13 mini, 256 ГБ\n",
       "16                  Frederic malle french rover 10 ml\n",
       "37                                  PS4 Интеpaктивнoе\n",
       "45                   Eva/Эвa/Евa ковpики в aвтомобиль\n",
       "                              ...                    \n",
       "3263497       TTP111VPC Пpиемопеpедaтчик видеоcигнaлa\n",
       "3263514                         iPhone 15 Pro, 128 ГБ\n",
       "3263541                             Nokia type: CUW-2\n",
       "3263543                        iPhone 15 Plus, 128 ГБ\n",
       "3263548    My BMW Connected Drive Пpиложение Подпиcкa\n",
       "Name: name, Length: 375464, dtype: object"
      ]
     },
     "execution_count": 290,
     "metadata": {},
     "output_type": "execute_result"
    }
   ],
   "source": [
    "import re\n",
    "\n",
    "df_name_eng = df['name'][df['name'].str.match('[a-zA-Z]')]\n",
    "df_name_eng"
   ]
  },
  {
   "cell_type": "code",
   "execution_count": 291,
   "id": "85e2a5d7-3caf-442a-bb66-0e081daab560",
   "metadata": {},
   "outputs": [
    {
     "data": {
      "text/plain": [
       "6          iPhone 11 64gb\\n\\nЕмкоcть АКБ 87%\\n\\nФейc paбо...\n",
       "29         Denon AH-D1200 — Идеaльные пoлнopaзмеpные нaуш...\n",
       "37         The Dark Pictures Anthology: \\r\\n-Little Hope ...\n",
       "42         pегулиpуемый paзмеp кольцa. cтеклышко ~20мм (ф...\n",
       "43         Sakura SASP377XE Кapтpидж cовмеcтимый Сaкуpa S...\n",
       "                                 ...                        \n",
       "3263531    CET CET7906 Вaл pезиновый 022N02374 Pressure R...\n",
       "3263541                                    Nokia type: CUW-2\n",
       "3263543    iPhоne 15 Plus, 128 GB, Pink. Новый, зaпeчaтaн...\n",
       "3263554    Cactus CS-C731M (987395)\\n\\nСaмовывоз в <ADDRE...\n",
       "3263556    ATP - 102\\n\\nАлюминиевый paдиaтop двигaтеля ув...\n",
       "Name: description, Length: 201538, dtype: object"
      ]
     },
     "execution_count": 291,
     "metadata": {},
     "output_type": "execute_result"
    }
   ],
   "source": [
    "df_desc_eng = df['description'][df['description'].str.match('[a-zA-Z]')]\n",
    "df_desc_eng"
   ]
  },
  {
   "cell_type": "code",
   "execution_count": 286,
   "id": "6dc986c0-028e-4b49-b0c4-57b3cdd9e7cb",
   "metadata": {},
   "outputs": [],
   "source": [
    "# from transformers import BertTokenizer, BertModel\n",
    "# tokenizer = BertTokenizer.from_pretrained('bert-base-multilingual-uncased')"
   ]
  },
  {
   "cell_type": "code",
   "execution_count": 287,
   "id": "39dd472c-405d-47de-aaa5-5d298b6a4364",
   "metadata": {},
   "outputs": [],
   "source": [
    "# tokenizer('Sakura SASP377XE Кapтpидж cовмеcтимый Сaкуpa SP-377XE чеpный', return_length=True)['length']"
   ]
  },
  {
   "cell_type": "code",
   "execution_count": null,
   "id": "abf68dae-9c0e-47f7-bc91-fb465fdc9fbe",
   "metadata": {},
   "outputs": [
    {
     "name": "stdout",
     "output_type": "stream",
     "text": [
      "\u001b[0;30;41mi\u001b[0m\u001b[0;30;41mP\u001b[0m\u001b[0;30;41mh\u001b[0m\u001b[0;30;41mo\u001b[0m\u001b[0;30;41mn\u001b[0m\u001b[0;30;41me\u001b[0m 11 64\u001b[0;30;41mg\u001b[0m\u001b[0;30;41mb\u001b[0m\n",
      "\n",
      "Емко\u001b[0;30;41mc\u001b[0mть АКБ 87%\n",
      "\n",
      "Фей\u001b[0;30;41mc\u001b[0m \u001b[0;30;41mp\u001b[0m\u001b[0;30;41ma\u001b[0mбот\u001b[0;30;41ma\u001b[0mет \n",
      "Полно\u001b[0;30;41mc\u001b[0mтью \u001b[0;30;41mc\u001b[0mоответ\u001b[0;30;41mc\u001b[0mтвует фотог\u001b[0;30;41mp\u001b[0m\u001b[0;30;41ma\u001b[0mфиям.\n",
      "\n",
      "🔥 Р\u001b[0;30;41ma\u001b[0m\u001b[0;30;41mc\u001b[0m\u001b[0;30;41mc\u001b[0m\u001b[0;30;41mp\u001b[0mочк\u001b[0;30;41ma\u001b[0m - к\u001b[0;30;41mp\u001b[0mедит, от 18 \n",
      "\n",
      "👉без пе\u001b[0;30;41mp\u001b[0mвон\u001b[0;30;41ma\u001b[0mч\u001b[0;30;41ma\u001b[0mльного взно\u001b[0;30;41mc\u001b[0m\u001b[0;30;41ma\u001b[0m \n",
      "\n",
      "👉без офици\u001b[0;30;41ma\u001b[0mльной \u001b[0;30;41mp\u001b[0m\u001b[0;30;41ma\u001b[0mботы.\n",
      "\n",
      "🍎 СКУПКА РЕМОНТ ОБМЕН\n",
      "\n",
      "🔥Отп\u001b[0;30;41mp\u001b[0m\u001b[0;30;41ma\u001b[0mвляем по в\u001b[0;30;41mc\u001b[0mей Ро\u001b[0;30;41mc\u001b[0m\u001b[0;30;41mc\u001b[0mии, до\u001b[0;30;41mc\u001b[0mт\u001b[0;30;41ma\u001b[0mвк\u001b[0;30;41ma\u001b[0m \u001b[0;30;41ma\u001b[0mвито или любым удобным \u001b[0;30;41mc\u001b[0mпо\u001b[0;30;41mc\u001b[0mобом.\n",
      "\n",
      "👍Имеет\u001b[0;30;41mc\u001b[0mя оптов\u001b[0;30;41ma\u001b[0mя п\u001b[0;30;41mp\u001b[0mод\u001b[0;30;41ma\u001b[0mж\u001b[0;30;41ma\u001b[0m, \n",
      "\n",
      "🥳В н\u001b[0;30;41ma\u001b[0mличие куч\u001b[0;30;41ma\u001b[0m \u001b[0;30;41ma\u001b[0mк\u001b[0;30;41mc\u001b[0mе\u001b[0;30;41mc\u001b[0m\u001b[0;30;41mc\u001b[0mу\u001b[0;30;41ma\u001b[0m\u001b[0;30;41mp\u001b[0mов: пе\u001b[0;30;41mp\u001b[0mеходник / шну\u001b[0;30;41mp\u001b[0m / блок / з\u001b[0;30;41ma\u001b[0m\u001b[0;30;41mp\u001b[0mядк\u001b[0;30;41ma\u001b[0m / \u001b[0;30;41ma\u001b[0mук\u001b[0;30;41mc\u001b[0m / \u001b[0;30;41ma\u001b[0m\u001b[0;30;41mu\u001b[0m\u001b[0;30;41mx\u001b[0m / флешк\u001b[0;30;41ma\u001b[0m / и т.д.\n"
     ]
    }
   ],
   "source": [
    "def color_eng(text):\n",
    "    out = []\n",
    "    for c in text:\n",
    "        if c.lower() in 'qwertyuiopasdfghjklzxcvbnm':\n",
    "            out.append('\\x1b[0;30;41m' + c + '\\x1b[0m')\n",
    "        else:\n",
    "            out.append(c)\n",
    "    print(''.join(out))\n",
    "    \n",
    "color_eng(df_desc_eng.iloc[0])"
   ]
  },
  {
   "cell_type": "code",
   "execution_count": null,
   "id": "29a10f96-a4e5-42ba-b323-a2ad4dbb6e8b",
   "metadata": {},
   "outputs": [],
   "source": [
    "MAPPING_EN_RU = {\n",
    "    'e': 'е',\n",
    "    'y': 'у',\n",
    "    'o': 'о',\n",
    "    'p': 'р',\n",
    "    'a': 'а',\n",
    "    'k': 'к',\n",
    "    'x': 'х',\n",
    "    'c': 'с',\n",
    "    'E': 'Е',\n",
    "    'T': 'Т',\n",
    "    'O': 'О',\n",
    "    'P': 'Р',\n",
    "    'A': 'А',\n",
    "    'H': 'Н',\n",
    "    'K': 'К',\n",
    "    'X': 'Х',\n",
    "    'C': 'С',\n",
    "    'B': 'В',\n",
    "    'M': 'М',\n",
    "}\n",
    "MAPPING_RU_EN = {v: k for k, v in MAPPING_EN_RU.items()}\n",
    "\n",
    "import kenlm\n",
    "\n",
    "model = kenlm.Model('../../kenlm/char_5gram_ru_en.bin')\n",
    "\n",
    "import re\n",
    "\n",
    "has_eng = re.compile('[a-zA-Z]')\n",
    "r1 = re.compile(r'\\b[a-zA-Zа-яА-ЯёЁ]+\\b')\n",
    "r2 = re.compile(r'[a-zA-Z]+')\n",
    "r3 = re.compile(r'[а-яА-ЯёЁ]+')\n",
    "\n",
    "def fix_text_shit(\n",
    "    text, \n",
    "    lookaround=2, \n",
    "    # pad_thr=4, \n",
    "    skip_less_than=3,\n",
    "):\n",
    "    if not has_eng.match(text):\n",
    "        return text\n",
    "    ret_text = [i for i in text]\n",
    "    for match in r1.finditer(text):\n",
    "        # print(match, text[match.span()[1]:match.span()[0]])\n",
    "        # print(re.fullmatch('[а-яА-ЯёЁ]+', text[match.span()[1]:match.span()[0]]))\n",
    "        if match.span()[1] - match.span()[0] < skip_less_than:\n",
    "            continue # pass if word too small\n",
    "        if r2.fullmatch(text[match.span()[0]:match.span()[1]]):\n",
    "            continue # pass if only eng\n",
    "        if r3.fullmatch(text[match.span()[0]:match.span()[1]]):\n",
    "            continue # pass if only ru\n",
    "        slice_ = slice(match.span()[0] - lookaround, match.span()[1] + lookaround)\n",
    "        # slice_ = slice(match.span()[0] - lookaround, match.span()[1] + lookaround) if match.span()[1] - match.span()[0] > pad_thr else slice(match.span()[0] - lookaround - 1, match.span()[1] + lookaround + 1)\n",
    "        splitted = [i for i in text[slice_].lower()]\n",
    "        splitted_ru = ''.join([MAPPING_EN_RU.get(i, i) for i in splitted])\n",
    "        splitted_en = ''.join([MAPPING_RU_EN.get(i, i) for i in splitted])\n",
    "        ppl_ru = model.perplexity(tok(splitted_ru))\n",
    "        ppl_en = model.perplexity(tok(splitted_en))\n",
    "        # ppl_ru = ppl(splitted_ru)\n",
    "        # ppl_en = ppl(splitted_en)\n",
    "        # print(splitted_ru, 'vs', splitted_en)\n",
    "        if ppl_ru < ppl_en:\n",
    "            # print('-- conflict resolved towards ru', match, ppl_ru, ppl_en)\n",
    "            ret_text[match.span()[0]:match.span()[1]] = [MAPPING_EN_RU.get(i, i) for i in text[match.span()[0]:match.span()[1]]]\n",
    "        elif ppl_ru > ppl_en:\n",
    "            # print('-- conflict resolved towards en', match, ppl_ru, ppl_en)\n",
    "            ret_text[match.span()[0]:match.span()[1]] = [MAPPING_RU_EN.get(i, i) for i in text[match.span()[0]:match.span()[1]]]\n",
    "        else:\n",
    "            # print('-- leave as is', match, ppl_ru, ppl_en)\n",
    "            continue # leave as is\n",
    "        \n",
    "    res = ''.join(ret_text)\n",
    "    res = res.replace('нa', 'на').replace(' c ', ' с ').replace(\n",
    "        ' cо ', ' со ').replace(' сo ', ' со ').replace(\n",
    "        ' co ', ' со ').replace('вo', 'во').replace(\n",
    "        ' кo ', ' ко ').replace(' o ', ' о ').replace(\n",
    "        'oб', 'об').replace('oт', 'от').replace(\n",
    "        'зa', 'за').replace('пo', 'по').replace(\n",
    "        'дo', 'до').replace(' y ', ' у ').replace(\n",
    "        'cм', 'см').replace('гp', 'гр').replace(\n",
    "        'пpo', 'про').replace('дa', 'да').replace(\n",
    "        'нe', 'не').replace('тo', 'то').replace(\n",
    "        'жe', 'же').replace('pyб', 'руб').replace(\n",
    "        'eд', 'ед').replace('oна', 'она').replace(\n",
    "        'онa', 'она').replace('oнa', 'она').replace(\n",
    "        'oн', 'он').replace('eго', 'его').replace(\n",
    "        'егo', 'его').replace('eгo', 'его').replace(\n",
    "        'ниx', 'них').replace('иx', 'их').replace(\n",
    "        'вcе', 'все').replace('всe', 'все').replace('вce', 'все')\n",
    "        \n",
    "    return res"
   ]
  },
  {
   "cell_type": "code",
   "execution_count": 298,
   "id": "88806b8e-ac56-426a-a7c9-c8cc16d8a8ec",
   "metadata": {},
   "outputs": [
    {
     "name": "stdout",
     "output_type": "stream",
     "text": [
      "\u001b[0;30;41mS\u001b[0m\u001b[0;30;41ma\u001b[0m\u001b[0;30;41mk\u001b[0m\u001b[0;30;41mu\u001b[0m\u001b[0;30;41mr\u001b[0m\u001b[0;30;41ma\u001b[0m \u001b[0;30;41mS\u001b[0m\u001b[0;30;41mA\u001b[0m\u001b[0;30;41mS\u001b[0m\u001b[0;30;41mP\u001b[0m377\u001b[0;30;41mX\u001b[0m\u001b[0;30;41mE\u001b[0m К\u001b[0;30;41ma\u001b[0m\u001b[0;30;41mp\u001b[0mт\u001b[0;30;41mp\u001b[0mидж \u001b[0;30;41mc\u001b[0mовме\u001b[0;30;41mc\u001b[0mтимый С\u001b[0;30;41ma\u001b[0mку\u001b[0;30;41mp\u001b[0m\u001b[0;30;41ma\u001b[0m \u001b[0;30;41mS\u001b[0m\u001b[0;30;41mP\u001b[0m-377\u001b[0;30;41mX\u001b[0m\u001b[0;30;41mE\u001b[0m че\u001b[0;30;41mp\u001b[0mный \u001b[0;30;41mB\u001b[0m\u001b[0;30;41ml\u001b[0m\u001b[0;30;41ma\u001b[0m\u001b[0;30;41mc\u001b[0m\u001b[0;30;41mk\u001b[0m 6.4\u001b[0;30;41mK\u001b[0m для \u001b[0;30;41mR\u001b[0m\u001b[0;30;41mi\u001b[0m\u001b[0;30;41mc\u001b[0m\u001b[0;30;41mo\u001b[0m\u001b[0;30;41mh\u001b[0m \u001b[0;30;41mA\u001b[0m\u001b[0;30;41mf\u001b[0m\u001b[0;30;41mi\u001b[0m\u001b[0;30;41mc\u001b[0m\u001b[0;30;41mi\u001b[0m\u001b[0;30;41mo\u001b[0m \u001b[0;30;41mS\u001b[0m\u001b[0;30;41mP\u001b[0m-377\u001b[0;30;41mD\u001b[0m\u001b[0;30;41mN\u001b[0m\u001b[0;30;41mw\u001b[0m\u001b[0;30;41mX\u001b[0m \u001b[0;30;41mS\u001b[0m\u001b[0;30;41mP\u001b[0m-377, \u001b[0;30;41mS\u001b[0m\u001b[0;30;41mP\u001b[0m-377\u001b[0;30;41mS\u001b[0m\u001b[0;30;41mF\u001b[0m\u001b[0;30;41mN\u001b[0m\u001b[0;30;41mw\u001b[0m\u001b[0;30;41mX\u001b[0m\n",
      "\n",
      "С\u001b[0;30;41ma\u001b[0mмовывоз в <\u001b[0;30;41mA\u001b[0m\u001b[0;30;41mD\u001b[0m\u001b[0;30;41mD\u001b[0m\u001b[0;30;41mR\u001b[0m\u001b[0;30;41mE\u001b[0m\u001b[0;30;41mS\u001b[0m\u001b[0;30;41mS\u001b[0m-#0>, до\u001b[0;30;41mc\u001b[0mт\u001b[0;30;41ma\u001b[0mвк\u001b[0;30;41ma\u001b[0m по <\u001b[0;30;41mA\u001b[0m\u001b[0;30;41mD\u001b[0m\u001b[0;30;41mD\u001b[0m\u001b[0;30;41mR\u001b[0m\u001b[0;30;41mE\u001b[0m\u001b[0;30;41mS\u001b[0m\u001b[0;30;41mS\u001b[0m-#1> и <\u001b[0;30;41mA\u001b[0m\u001b[0;30;41mD\u001b[0m\u001b[0;30;41mD\u001b[0m\u001b[0;30;41mR\u001b[0m\u001b[0;30;41mE\u001b[0m\u001b[0;30;41mS\u001b[0m\u001b[0;30;41mS\u001b[0m-#2>.\n",
      "\n",
      "П\u001b[0;30;41mp\u001b[0mедопл\u001b[0;30;41ma\u001b[0mт\u001b[0;30;41ma\u001b[0m 100%. В\u001b[0;30;41ma\u001b[0m\u001b[0;30;41mp\u001b[0mи\u001b[0;30;41ma\u001b[0mнты опл\u001b[0;30;41ma\u001b[0mты: к\u001b[0;30;41ma\u001b[0m\u001b[0;30;41mp\u001b[0mтой, пе\u001b[0;30;41mp\u001b[0mеводом, \u001b[0;30;41mQ\u001b[0m\u001b[0;30;41mR\u001b[0m кодом\n",
      "\n",
      "Цен\u001b[0;30;41ma\u001b[0m \u001b[0;30;41mc\u001b[0m НДС. Полный комплект документов.\n",
      "\n",
      "Н\u001b[0;30;41ma\u001b[0mличие н\u001b[0;30;41ma\u001b[0m 15-02-2024 08:34 - 100 шт. отг\u001b[0;30;41mp\u001b[0mузк\u001b[0;30;41ma\u001b[0m че\u001b[0;30;41mp\u001b[0mез 2 дня;\n",
      "\n",
      "Х\u001b[0;30;41ma\u001b[0m\u001b[0;30;41mp\u001b[0m\u001b[0;30;41ma\u001b[0mкте\u001b[0;30;41mp\u001b[0mи\u001b[0;30;41mc\u001b[0mтики:\n",
      "\t\t\t\n",
      "— \u001b[0;30;41mI\u001b[0m\u001b[0;30;41mL\u001b[0m: 1370574\n",
      "\n",
      "\t\t\t— Тип: К\u001b[0;30;41ma\u001b[0m\u001b[0;30;41mp\u001b[0mт\u001b[0;30;41mp\u001b[0mидж\n",
      "— Тип че\u001b[0;30;41mp\u001b[0mнил: \u001b[0;30;41mL\u001b[0m\u001b[0;30;41ma\u001b[0m\u001b[0;30;41ms\u001b[0m\u001b[0;30;41me\u001b[0m\u001b[0;30;41mr\u001b[0m\n",
      "— Се\u001b[0;30;41mp\u001b[0mия: \u001b[0;30;41mS\u001b[0m\u001b[0;30;41mP\u001b[0m 377\n",
      "— Номе\u001b[0;30;41mp\u001b[0m: \u001b[0;30;41mS\u001b[0m\u001b[0;30;41mP\u001b[0m-377\u001b[0;30;41mX\u001b[0m\u001b[0;30;41mE\u001b[0m\n",
      "— Цвет: че\u001b[0;30;41mp\u001b[0mный\n",
      "— Совме\u001b[0;30;41mc\u001b[0mтимо\u001b[0;30;41mc\u001b[0mть: \u001b[0;30;41mR\u001b[0m\u001b[0;30;41mi\u001b[0m\u001b[0;30;41mc\u001b[0m\u001b[0;30;41mo\u001b[0m\u001b[0;30;41mh\u001b[0m \u001b[0;30;41mA\u001b[0m\u001b[0;30;41mf\u001b[0m\u001b[0;30;41mi\u001b[0m\u001b[0;30;41mc\u001b[0m\u001b[0;30;41mi\u001b[0m\u001b[0;30;41mo\u001b[0m \u001b[0;30;41mS\u001b[0m\u001b[0;30;41mP\u001b[0m-377\u001b[0;30;41mD\u001b[0m\u001b[0;30;41mN\u001b[0m\u001b[0;30;41mw\u001b[0m\u001b[0;30;41mX\u001b[0m \u001b[0;30;41mS\u001b[0m\u001b[0;30;41mP\u001b[0m-377, \u001b[0;30;41mS\u001b[0m\u001b[0;30;41mP\u001b[0m-377\u001b[0;30;41mS\u001b[0m\u001b[0;30;41mF\u001b[0m\u001b[0;30;41mN\u001b[0m\u001b[0;30;41mw\u001b[0m\u001b[0;30;41mX\u001b[0m\n",
      "— Ре\u001b[0;30;41mc\u001b[0mу\u001b[0;30;41mp\u001b[0m\u001b[0;30;41mc\u001b[0m: 6400 \u001b[0;30;41mc\u001b[0mт\u001b[0;30;41mp\u001b[0m\n"
     ]
    }
   ],
   "source": [
    "test_text = df_desc_eng.iloc[4]\n",
    "color_eng(test_text)"
   ]
  },
  {
   "cell_type": "code",
   "execution_count": 299,
   "id": "3dfd306b-ee1e-469a-998b-9835639401d9",
   "metadata": {},
   "outputs": [
    {
     "name": "stdout",
     "output_type": "stream",
     "text": [
      "\u001b[0;30;41mS\u001b[0m\u001b[0;30;41ma\u001b[0m\u001b[0;30;41mk\u001b[0m\u001b[0;30;41mu\u001b[0m\u001b[0;30;41mr\u001b[0m\u001b[0;30;41ma\u001b[0m \u001b[0;30;41mS\u001b[0m\u001b[0;30;41mA\u001b[0m\u001b[0;30;41mS\u001b[0m\u001b[0;30;41mP\u001b[0m377\u001b[0;30;41mX\u001b[0m\u001b[0;30;41mE\u001b[0m Картридж совместимый Сакура \u001b[0;30;41mS\u001b[0m\u001b[0;30;41mP\u001b[0m-377\u001b[0;30;41mX\u001b[0m\u001b[0;30;41mE\u001b[0m черный \u001b[0;30;41mB\u001b[0m\u001b[0;30;41ml\u001b[0m\u001b[0;30;41ma\u001b[0m\u001b[0;30;41mc\u001b[0m\u001b[0;30;41mk\u001b[0m 6.4\u001b[0;30;41mK\u001b[0m для \u001b[0;30;41mR\u001b[0m\u001b[0;30;41mi\u001b[0m\u001b[0;30;41mc\u001b[0m\u001b[0;30;41mo\u001b[0m\u001b[0;30;41mh\u001b[0m \u001b[0;30;41mA\u001b[0m\u001b[0;30;41mf\u001b[0m\u001b[0;30;41mi\u001b[0m\u001b[0;30;41mc\u001b[0m\u001b[0;30;41mi\u001b[0m\u001b[0;30;41mo\u001b[0m \u001b[0;30;41mS\u001b[0m\u001b[0;30;41mP\u001b[0m-377\u001b[0;30;41mD\u001b[0m\u001b[0;30;41mN\u001b[0m\u001b[0;30;41mw\u001b[0m\u001b[0;30;41mX\u001b[0m \u001b[0;30;41mS\u001b[0m\u001b[0;30;41mP\u001b[0m-377, \u001b[0;30;41mS\u001b[0m\u001b[0;30;41mP\u001b[0m-377\u001b[0;30;41mS\u001b[0m\u001b[0;30;41mF\u001b[0m\u001b[0;30;41mN\u001b[0m\u001b[0;30;41mw\u001b[0m\u001b[0;30;41mX\u001b[0m\n",
      "\n",
      "Самовывоз в <\u001b[0;30;41mA\u001b[0m\u001b[0;30;41mD\u001b[0m\u001b[0;30;41mD\u001b[0m\u001b[0;30;41mR\u001b[0m\u001b[0;30;41mE\u001b[0m\u001b[0;30;41mS\u001b[0m\u001b[0;30;41mS\u001b[0m-#0>, доставка по <\u001b[0;30;41mA\u001b[0m\u001b[0;30;41mD\u001b[0m\u001b[0;30;41mD\u001b[0m\u001b[0;30;41mR\u001b[0m\u001b[0;30;41mE\u001b[0m\u001b[0;30;41mS\u001b[0m\u001b[0;30;41mS\u001b[0m-#1> и <\u001b[0;30;41mA\u001b[0m\u001b[0;30;41mD\u001b[0m\u001b[0;30;41mD\u001b[0m\u001b[0;30;41mR\u001b[0m\u001b[0;30;41mE\u001b[0m\u001b[0;30;41mS\u001b[0m\u001b[0;30;41mS\u001b[0m-#2>.\n",
      "\n",
      "Предоплата 100%. Варианты оплаты: картой, переводом, \u001b[0;30;41mQ\u001b[0m\u001b[0;30;41mR\u001b[0m кодом\n",
      "\n",
      "Цена с НДС. Полный комплект документов.\n",
      "\n",
      "Наличие на 15-02-2024 08:34 - 100 шт. отгрузка через 2 дня;\n",
      "\n",
      "Характеристики:\n",
      "\t\t\t\n",
      "— \u001b[0;30;41mI\u001b[0m\u001b[0;30;41mL\u001b[0m: 1370574\n",
      "\n",
      "\t\t\t— Тип: Картридж\n",
      "— Тип чернил: \u001b[0;30;41mL\u001b[0m\u001b[0;30;41ma\u001b[0m\u001b[0;30;41ms\u001b[0m\u001b[0;30;41me\u001b[0m\u001b[0;30;41mr\u001b[0m\n",
      "— Серия: \u001b[0;30;41mS\u001b[0m\u001b[0;30;41mP\u001b[0m 377\n",
      "— Номер: \u001b[0;30;41mS\u001b[0m\u001b[0;30;41mP\u001b[0m-377\u001b[0;30;41mX\u001b[0m\u001b[0;30;41mE\u001b[0m\n",
      "— Цвет: черный\n",
      "— Совместимость: \u001b[0;30;41mR\u001b[0m\u001b[0;30;41mi\u001b[0m\u001b[0;30;41mc\u001b[0m\u001b[0;30;41mo\u001b[0m\u001b[0;30;41mh\u001b[0m \u001b[0;30;41mA\u001b[0m\u001b[0;30;41mf\u001b[0m\u001b[0;30;41mi\u001b[0m\u001b[0;30;41mc\u001b[0m\u001b[0;30;41mi\u001b[0m\u001b[0;30;41mo\u001b[0m \u001b[0;30;41mS\u001b[0m\u001b[0;30;41mP\u001b[0m-377\u001b[0;30;41mD\u001b[0m\u001b[0;30;41mN\u001b[0m\u001b[0;30;41mw\u001b[0m\u001b[0;30;41mX\u001b[0m \u001b[0;30;41mS\u001b[0m\u001b[0;30;41mP\u001b[0m-377, \u001b[0;30;41mS\u001b[0m\u001b[0;30;41mP\u001b[0m-377\u001b[0;30;41mS\u001b[0m\u001b[0;30;41mF\u001b[0m\u001b[0;30;41mN\u001b[0m\u001b[0;30;41mw\u001b[0m\u001b[0;30;41mX\u001b[0m\n",
      "— Ресурс: 6400 \u001b[0;30;41mc\u001b[0mт\u001b[0;30;41mp\u001b[0m\n"
     ]
    }
   ],
   "source": [
    "color_eng(fix_text_shit(test_text, lookaround=2, skip_less_than=3))"
   ]
  },
  {
   "cell_type": "code",
   "execution_count": 300,
   "id": "6255cba7-5cf3-4b04-a971-829ec7fd8caa",
   "metadata": {},
   "outputs": [
    {
     "name": "stdout",
     "output_type": "stream",
     "text": [
      "401 µs ± 3.96 µs per loop (mean ± std. dev. of 7 runs, 1,000 loops each)\n"
     ]
    }
   ],
   "source": [
    "%timeit fix_text_shit(test_text)"
   ]
  },
  {
   "cell_type": "code",
   "execution_count": 304,
   "id": "dec18498-ae9a-495b-b3c6-be224d5bd60f",
   "metadata": {},
   "outputs": [
    {
     "data": {
      "text/plain": [
       "197524"
      ]
     },
     "execution_count": 304,
     "metadata": {},
     "output_type": "execute_result"
    }
   ],
   "source": [
    "sum(df_desc_eng_fixed != df['description'])"
   ]
  },
  {
   "cell_type": "code",
   "execution_count": 305,
   "id": "fd63f521-398c-4c99-91f2-3c3ac278c435",
   "metadata": {},
   "outputs": [
    {
     "data": {
      "text/plain": [
       "131085"
      ]
     },
     "execution_count": 305,
     "metadata": {},
     "output_type": "execute_result"
    }
   ],
   "source": [
    "sum(df_name_eng_fixed != df['name'])"
   ]
  },
  {
   "cell_type": "code",
   "execution_count": 301,
   "id": "5940bd9f-9b0d-4d8e-8064-b510317ba733",
   "metadata": {},
   "outputs": [],
   "source": [
    "from tqdm import tqdm\n",
    "tqdm.pandas()"
   ]
  },
  {
   "cell_type": "code",
   "execution_count": null,
   "id": "e9147c84-4086-4073-bfbe-14ac36863acf",
   "metadata": {},
   "outputs": [
    {
     "name": "stderr",
     "output_type": "stream",
     "text": [
      "100%|█████████████████████████████████████████████████████████████████████| 3263574/3263574 [04:12<00:00, 12900.86it/s]\n",
      "100%|████████████████████████████████████████████████████████████████████| 3263574/3263574 [00:11<00:00, 285598.07it/s]\n"
     ]
    }
   ],
   "source": [
    "# def fix(x): \n",
    "#     return fix_text_shit(x) if has_eng.match(x) else x\n",
    "\n",
    "df_desc_eng_fixed = df['description'].progress_apply(fix_text_shit)\n",
    "df_name_eng_fixed = df['name'].progress_apply(fix_text_shit)"
   ]
  },
  {
   "cell_type": "code",
   "execution_count": 279,
   "id": "e2f02bf9-224f-4274-9da2-a48135a3bffa",
   "metadata": {},
   "outputs": [],
   "source": [
    "df['description_fixed'] = df_desc_eng_fixed\n",
    "df['name_fixed'] = df_name_eng_fixed"
   ]
  },
  {
   "cell_type": "code",
   "execution_count": 281,
   "id": "3678bd1e-1593-44da-8f6a-371b6669317e",
   "metadata": {},
   "outputs": [
    {
     "data": {
      "text/html": [
       "<div>\n",
       "<style scoped>\n",
       "    .dataframe tbody tr th:only-of-type {\n",
       "        vertical-align: middle;\n",
       "    }\n",
       "\n",
       "    .dataframe tbody tr th {\n",
       "        vertical-align: top;\n",
       "    }\n",
       "\n",
       "    .dataframe thead th {\n",
       "        text-align: right;\n",
       "    }\n",
       "</style>\n",
       "<table border=\"1\" class=\"dataframe\">\n",
       "  <thead>\n",
       "    <tr style=\"text-align: right;\">\n",
       "      <th></th>\n",
       "      <th>name_fixed</th>\n",
       "      <th>description_fixed</th>\n",
       "    </tr>\n",
       "  </thead>\n",
       "  <tbody>\n",
       "    <tr>\n",
       "      <th>0</th>\n",
       "      <td>Детcкие cкaзки</td>\n",
       "      <td>Пpодaм по 50 p шт</td>\n",
       "    </tr>\n",
       "    <tr>\n",
       "      <th>1</th>\n",
       "      <td>Тpaнcфоpмaтоp тcл 100/10/6 квa б/у</td>\n",
       "      <td>Сухие тpaнcфоpмaтоpы 100-10 типa ТСЛ облaдaют ...</td>\n",
       "    </tr>\n",
       "    <tr>\n",
       "      <th>2</th>\n",
       "      <td>Ковaные диcки Rush R21 Ultimate Series R0990</td>\n",
       "      <td>В пpодaже комплект ковaных оpигинaльных диcков...</td>\n",
       "    </tr>\n",
       "    <tr>\n",
       "      <th>3</th>\n",
       "      <td>Рaзветвитель пpикуpивaтеля</td>\n",
       "      <td>Рaзветвитель пpикуpивaтеля в нaличии 3  штуки,...</td>\n",
       "    </tr>\n",
       "    <tr>\n",
       "      <th>4</th>\n",
       "      <td>Фapa пеpедняя LF7003 ASP</td>\n",
       "      <td>Бpенд: ASP, apтикул: LF7003, Фapa пеpедняя. \\n...</td>\n",
       "    </tr>\n",
       "    <tr>\n",
       "      <th>...</th>\n",
       "      <td>...</td>\n",
       "      <td>...</td>\n",
       "    </tr>\n",
       "    <tr>\n",
       "      <th>3263569</th>\n",
       "      <td>Дивaн лондон</td>\n",
       "      <td>- НЕ БЕРЕМ ПРЕДОПЛАТУ - ОПЛАТА ПО ФАКТУ\\n\\n- Д...</td>\n",
       "    </tr>\n",
       "    <tr>\n",
       "      <th>3263570</th>\n",
       "      <td>Блузкa женcкaя 44 46</td>\n",
       "      <td>Кpacивый блузон доpогой мapки, выглядит потpяc...</td>\n",
       "    </tr>\n",
       "    <tr>\n",
       "      <th>3263571</th>\n",
       "      <td>Сумкa нoвaя</td>\n",
       "      <td>Нoвaя женcкaя cумкa c pучкaми, еcть pемешoк!!!</td>\n",
       "    </tr>\n",
       "    <tr>\n",
       "      <th>3263572</th>\n",
       "      <td>Темapи. Ручнaя вышивкa. Тaлиcмaн нa удaчу</td>\n",
       "      <td>Темapи- дpевнее япoнcкoе иcкуccтвo. Ручнaя выш...</td>\n",
       "    </tr>\n",
       "    <tr>\n",
       "      <th>3263573</th>\n",
       "      <td>Кpoccoвки женcкие 37</td>\n",
       "      <td>Женcкие кpoccoвки белoгo цветa, paзмеp 37,5. И...</td>\n",
       "    </tr>\n",
       "  </tbody>\n",
       "</table>\n",
       "<p>3263574 rows × 2 columns</p>\n",
       "</div>"
      ],
      "text/plain": [
       "                                           name_fixed  \\\n",
       "0                                      Детcкие cкaзки   \n",
       "1                  Тpaнcфоpмaтоp тcл 100/10/6 квa б/у   \n",
       "2        Ковaные диcки Rush R21 Ultimate Series R0990   \n",
       "3                          Рaзветвитель пpикуpивaтеля   \n",
       "4                            Фapa пеpедняя LF7003 ASP   \n",
       "...                                               ...   \n",
       "3263569                                  Дивaн лондон   \n",
       "3263570                          Блузкa женcкaя 44 46   \n",
       "3263571                                   Сумкa нoвaя   \n",
       "3263572     Темapи. Ручнaя вышивкa. Тaлиcмaн нa удaчу   \n",
       "3263573                          Кpoccoвки женcкие 37   \n",
       "\n",
       "                                         description_fixed  \n",
       "0                                        Пpодaм по 50 p шт  \n",
       "1        Сухие тpaнcфоpмaтоpы 100-10 типa ТСЛ облaдaют ...  \n",
       "2        В пpодaже комплект ковaных оpигинaльных диcков...  \n",
       "3        Рaзветвитель пpикуpивaтеля в нaличии 3  штуки,...  \n",
       "4        Бpенд: ASP, apтикул: LF7003, Фapa пеpедняя. \\n...  \n",
       "...                                                    ...  \n",
       "3263569  - НЕ БЕРЕМ ПРЕДОПЛАТУ - ОПЛАТА ПО ФАКТУ\\n\\n- Д...  \n",
       "3263570  Кpacивый блузон доpогой мapки, выглядит потpяc...  \n",
       "3263571     Нoвaя женcкaя cумкa c pучкaми, еcть pемешoк!!!  \n",
       "3263572  Темapи- дpевнее япoнcкoе иcкуccтвo. Ручнaя выш...  \n",
       "3263573  Женcкие кpoccoвки белoгo цветa, paзмеp 37,5. И...  \n",
       "\n",
       "[3263574 rows x 2 columns]"
      ]
     },
     "execution_count": 281,
     "metadata": {},
     "output_type": "execute_result"
    }
   ],
   "source": [
    "df = df[['name_fixed', 'description_fixed']]\n",
    "df"
   ]
  },
  {
   "cell_type": "code",
   "execution_count": 282,
   "id": "60a685e8-db7b-4123-97f3-4a0c92c5a8b8",
   "metadata": {},
   "outputs": [],
   "source": [
    "df.to_parquet('names_descs_avito_fixed.parquet')"
   ]
  }
 ],
 "metadata": {
  "kernelspec": {
   "display_name": "Python 3 (ipykernel)",
   "language": "python",
   "name": "python3"
  },
  "language_info": {
   "codemirror_mode": {
    "name": "ipython",
    "version": 3
   },
   "file_extension": ".py",
   "mimetype": "text/x-python",
   "name": "python",
   "nbconvert_exporter": "python",
   "pygments_lexer": "ipython3",
   "version": "3.11.9"
  }
 },
 "nbformat": 4,
 "nbformat_minor": 5
}
