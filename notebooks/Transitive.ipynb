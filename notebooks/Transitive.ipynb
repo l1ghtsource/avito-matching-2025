{
 "cells": [
  {
   "cell_type": "code",
   "execution_count": 13,
   "id": "56d77c2b",
   "metadata": {},
   "outputs": [],
   "source": [
    "from pathlib import Path \n",
    "import os\n",
    "import gc \n",
    "\n",
    "import polars as pl \n",
    "import numpy as np \n",
    "import networkx as nx\n",
    "from tqdm.notebook import tqdm"
   ]
  },
  {
   "cell_type": "code",
   "execution_count": 14,
   "id": "7350f206",
   "metadata": {},
   "outputs": [],
   "source": [
    "DATA_PATH = Path('../data/avito-orig-data')\n",
    "train_path_list = [DATA_PATH / i for i in os.listdir(DATA_PATH) if 'train' in i]"
   ]
  },
  {
   "cell_type": "code",
   "execution_count": 15,
   "id": "73af5166",
   "metadata": {},
   "outputs": [],
   "source": [
    "RENAME_MAPPING = {\n",
    "    'base_item_id': 'variantid_1', \n",
    "    'cand_item_id': 'variantid_2',\n",
    "    'base_title': 'name_1',\n",
    "    'cand_title': 'name_2',\n",
    "    'base_description': 'description_1',\n",
    "    'cand_description': 'description_2',\n",
    "    'base_category_name': 'category_level_1_1',\n",
    "    'cand_category_name': 'category_level_1_2',\n",
    "    'base_subcategory_name': 'category_level_2_1',\n",
    "    'cand_subcategory_name': 'category_level_2_2',\n",
    "    'base_param1': 'category_level_3_1',\n",
    "    'cand_param1': 'category_level_3_2',\n",
    "    'base_param2': 'category_level_4_1',\n",
    "    'cand_param2': 'category_level_4_2',\n",
    "    'base_json_params': 'characteristic_attributes_mapping_1',\n",
    "    'cand_json_params': 'characteristic_attributes_mapping_2',\n",
    "    'base_count_images': 'n_images_1',\n",
    "    'cand_count_images': 'n_images_2',\n",
    "    'base_price': 'price_1',\n",
    "    'cand_price': 'price_2'\n",
    "}\n",
    "\n",
    "IDS = ['variantid_1', 'variantid_2']\n",
    "FOR_SPLIT = ['group_id', 'action_date']\n",
    "IMAGE_PATHS = ['base_title_image', 'cand_title_image']\n",
    "BINARY_FEATURES = ['is_same_location', 'is_same_region']\n",
    "TARGET = 'is_double'"
   ]
  },
  {
   "cell_type": "code",
   "execution_count": 16,
   "id": "40be4e39",
   "metadata": {},
   "outputs": [
    {
     "data": {
      "application/vnd.jupyter.widget-view+json": {
       "model_id": "0f76cfaf9da84d5881de431ad2f065a6",
       "version_major": 2,
       "version_minor": 0
      },
      "text/plain": [
       "  0%|          | 0/4 [00:00<?, ?it/s]"
      ]
     },
     "metadata": {},
     "output_type": "display_data"
    },
    {
     "name": "stdout",
     "output_type": "stream",
     "text": [
      "train_df.shape=(500000, 28)\n",
      "train_df.shape=(1000000, 28)\n",
      "train_df.shape=(1500000, 28)\n",
      "train_df.shape=(1879555, 28)\n"
     ]
    }
   ],
   "source": [
    "train_df = pl.DataFrame()\n",
    "\n",
    "for file in tqdm(train_path_list):\n",
    "\n",
    "    chunk = pl.read_parquet(file)\n",
    "    train_df = pl.concat([train_df, chunk])\n",
    "    print(f'{train_df.shape=}')\n",
    "\n",
    "del chunk \n",
    "gc.collect()\n",
    "train_df = train_df.rename(mapping=RENAME_MAPPING)"
   ]
  },
  {
   "cell_type": "code",
   "execution_count": 42,
   "id": "b815d66d",
   "metadata": {},
   "outputs": [
    {
     "name": "stdout",
     "output_type": "stream",
     "text": [
      "idx_df.shape=(1879555, 3)\n"
     ]
    }
   ],
   "source": [
    "idx_df = train_df.select(['variantid_1', 'variantid_2', 'is_double'])\n",
    "print(f'{idx_df.shape=}')"
   ]
  },
  {
   "cell_type": "code",
   "execution_count": null,
   "id": "81a14e54",
   "metadata": {},
   "outputs": [],
   "source": [
    "def apply_k_level_transitivity_with_networkx(\n",
    "    df: pl.DataFrame, \n",
    "    K: int = 1, \n",
    "    verbose: bool = True\n",
    ") -> pl.DataFrame:\n",
    "\n",
    "    def get_nodes_at_distance(start_node, distance):\n",
    "        return {node for node in nx.single_source_shortest_path_length(G, start_node, cutoff=distance) \n",
    "                if nx.shortest_path_length(G, start_node, node) == distance}\n",
    "\n",
    "    G = nx.Graph()\n",
    "    edges = df.select(['variantid_1', 'variantid_2']).rows()\n",
    "    G.add_edges_from(edges)\n",
    "    \n",
    "    existing_edges = set(frozenset(edge) for edge in edges)\n",
    "    new_edges = set()\n",
    "    \n",
    "    for level in range(1, K+1):\n",
    "        current_level_edges = set()\n",
    "        \n",
    "        for node in G.nodes():\n",
    "            nodes_at_level = get_nodes_at_distance(node, level)\n",
    "            \n",
    "            for u in nodes_at_level:\n",
    "                for v in nodes_at_level:\n",
    "                    if u < v:  # Вроде так должен избежать дубликатов...\n",
    "                        edge = frozenset({u, v})\n",
    "                        if edge not in existing_edges and edge not in new_edges:\n",
    "                            current_level_edges.add(edge)\n",
    "        \n",
    "        new_edges.update(current_level_edges)\n",
    "        \n",
    "        if verbose and current_level_edges:\n",
    "            print(f\"Уровень {level}: добавлено {len(current_level_edges)} новых пар\")\n",
    "    \n",
    "    if new_edges:\n",
    "        new_rows = pl.DataFrame(\n",
    "            {\n",
    "                'variantid_1': [tuple(edge)[0] for edge in new_edges],\n",
    "                'variantid_2': [tuple(edge)[1] for edge in new_edges],\n",
    "                'is_double': 1\n",
    "            }, \n",
    "            schema={\n",
    "                'variantid_1': pl.String,  \n",
    "                'variantid_2': pl.String,\n",
    "                'is_double': pl.Int64\n",
    "            }\n",
    "        )\n",
    "        df_expanded = pl.concat([df, new_rows]).unique(subset=['variantid_1', 'variantid_2'])\n",
    "    else:\n",
    "        df_expanded = df.clone()\n",
    "    \n",
    "    if verbose:\n",
    "        print(f\"\\nВсего добавлено новых пар: {len(new_edges) if new_edges else 0}\")\n",
    "        print(f\"Общее количество пар после расширения: {len(df_expanded)}\")\n",
    "    \n",
    "    return df_expanded"
   ]
  },
  {
   "cell_type": "code",
   "execution_count": 46,
   "id": "02864a47",
   "metadata": {},
   "outputs": [
    {
     "name": "stdout",
     "output_type": "stream",
     "text": [
      "Уровень 1: добавлено 68803 новых пар\n",
      "\n",
      "Всего добавлено новых пар: 68803\n",
      "Общее количество пар после расширения: 173861\n"
     ]
    },
    {
     "data": {
      "text/html": [
       "<div><style>\n",
       ".dataframe > thead > tr,\n",
       ".dataframe > tbody > tr {\n",
       "  text-align: right;\n",
       "  white-space: pre-wrap;\n",
       "}\n",
       "</style>\n",
       "<small>shape: (173_861, 3)</small><table border=\"1\" class=\"dataframe\"><thead><tr><th>variantid_1</th><th>variantid_2</th><th>is_double</th></tr><tr><td>str</td><td>str</td><td>i64</td></tr></thead><tbody><tr><td>&quot;8a76827c486b623d811ed02e49d384…</td><td>&quot;82720486240f5667f1a4fac4f54ab5…</td><td>1</td></tr><tr><td>&quot;410231d0a5921f617e8c3135232fe4…</td><td>&quot;e492e963e1108d1ea5d6d954bc0e95…</td><td>1</td></tr><tr><td>&quot;51a87e951352dcd8b1a0254d14e2d1…</td><td>&quot;b270beb837d109c4c71c2952b01b74…</td><td>1</td></tr><tr><td>&quot;79e1c8f9dcfd1cda8610d47450722d…</td><td>&quot;6f4ffd0ebab5a74441ab57a30af832…</td><td>1</td></tr><tr><td>&quot;4b89ba324aebbc776e035db0e2baa0…</td><td>&quot;55f3091e597a43a39ec1b0e635e44d…</td><td>1</td></tr><tr><td>&hellip;</td><td>&hellip;</td><td>&hellip;</td></tr><tr><td>&quot;b15b9413fbdb49fe783de72c9a9b0b…</td><td>&quot;1208d850c2ba05f3fa692f7d27573f…</td><td>1</td></tr><tr><td>&quot;fc09e448583122d3fb7a7ffb57034c…</td><td>&quot;eb440f3b456f7cef168b00538e78d9…</td><td>1</td></tr><tr><td>&quot;becb3e9f0a359540ba3bf0e79dd6cf…</td><td>&quot;6d084c8cfee8e22be53c146515063c…</td><td>1</td></tr><tr><td>&quot;4400e8fda58f006974242014ff8ca2…</td><td>&quot;3320e24e3c1ed59ab9b3d924fae354…</td><td>1</td></tr><tr><td>&quot;33c99f5479dd076d1adbaebf2ac05a…</td><td>&quot;77c2b9c3d249869bc6871038ad1773…</td><td>1</td></tr></tbody></table></div>"
      ],
      "text/plain": [
       "shape: (173_861, 3)\n",
       "┌─────────────────────────────────┬─────────────────────────────────┬───────────┐\n",
       "│ variantid_1                     ┆ variantid_2                     ┆ is_double │\n",
       "│ ---                             ┆ ---                             ┆ ---       │\n",
       "│ str                             ┆ str                             ┆ i64       │\n",
       "╞═════════════════════════════════╪═════════════════════════════════╪═══════════╡\n",
       "│ 8a76827c486b623d811ed02e49d384… ┆ 82720486240f5667f1a4fac4f54ab5… ┆ 1         │\n",
       "│ 410231d0a5921f617e8c3135232fe4… ┆ e492e963e1108d1ea5d6d954bc0e95… ┆ 1         │\n",
       "│ 51a87e951352dcd8b1a0254d14e2d1… ┆ b270beb837d109c4c71c2952b01b74… ┆ 1         │\n",
       "│ 79e1c8f9dcfd1cda8610d47450722d… ┆ 6f4ffd0ebab5a74441ab57a30af832… ┆ 1         │\n",
       "│ 4b89ba324aebbc776e035db0e2baa0… ┆ 55f3091e597a43a39ec1b0e635e44d… ┆ 1         │\n",
       "│ …                               ┆ …                               ┆ …         │\n",
       "│ b15b9413fbdb49fe783de72c9a9b0b… ┆ 1208d850c2ba05f3fa692f7d27573f… ┆ 1         │\n",
       "│ fc09e448583122d3fb7a7ffb57034c… ┆ eb440f3b456f7cef168b00538e78d9… ┆ 1         │\n",
       "│ becb3e9f0a359540ba3bf0e79dd6cf… ┆ 6d084c8cfee8e22be53c146515063c… ┆ 1         │\n",
       "│ 4400e8fda58f006974242014ff8ca2… ┆ 3320e24e3c1ed59ab9b3d924fae354… ┆ 1         │\n",
       "│ 33c99f5479dd076d1adbaebf2ac05a… ┆ 77c2b9c3d249869bc6871038ad1773… ┆ 1         │\n",
       "└─────────────────────────────────┴─────────────────────────────────┴───────────┘"
      ]
     },
     "execution_count": 46,
     "metadata": {},
     "output_type": "execute_result"
    }
   ],
   "source": [
    "apply_k_level_transitivity_with_networkx(idx_df.filter(pl.col('is_double') == 1))"
   ]
  },
  {
   "cell_type": "code",
   "execution_count": 47,
   "id": "10cd8b00",
   "metadata": {},
   "outputs": [],
   "source": [
    "def apply_k_level_transitivity_with_networkx_save_disbalance(\n",
    "    df: pl.DataFrame, \n",
    "    K: int = 1,\n",
    "    verbose: bool = True\n",
    ") -> pl.DataFrame:\n",
    "\n",
    "    df_1 = df.filter(pl.col('is_double') == 1)\n",
    "    G_1 = nx.Graph()\n",
    "    edges_1 = df_1.select(['variantid_1', 'variantid_2']).rows()\n",
    "    G_1.add_edges_from(edges_1)\n",
    "    \n",
    "    existing_edges = set(frozenset(edge) for edge in edges_1)\n",
    "    new_edges_1 = set()\n",
    "    \n",
    "    def get_nodes_at_distance(start_node, distance):\n",
    "        return {node for node in nx.single_source_shortest_path_length(G_1, start_node, cutoff=distance)\n",
    "                if nx.shortest_path_length(G_1, start_node, node) == distance}\n",
    "    \n",
    "    for level in range(1, K+1):\n",
    "        current_level_edges = set()\n",
    "        \n",
    "        for node in G_1.nodes():\n",
    "            nodes_at_level = get_nodes_at_distance(node, level)\n",
    "            \n",
    "            for u in nodes_at_level:\n",
    "                for v in nodes_at_level:\n",
    "                    if u < v:\n",
    "                        edge = frozenset({u, v})\n",
    "                        if edge not in existing_edges and edge not in new_edges_1:\n",
    "                            current_level_edges.add(edge)\n",
    "        \n",
    "        new_edges_1.update(current_level_edges)\n",
    "        \n",
    "        if verbose and current_level_edges:\n",
    "            print(f\"is_double=1, уровень {level}: добавлено {len(current_level_edges)} новых пар\")\n",
    "    \n",
    "    df_0 = df.filter(pl.col('is_double') == 0)\n",
    "    G_0 = nx.Graph()\n",
    "    edges_0 = df_0.select(['variantid_1', 'variantid_2']).rows()\n",
    "    G_0.add_edges_from(edges_0)\n",
    "    \n",
    "    existing_edges_0 = set(frozenset(edge) for edge in edges_0)\n",
    "    new_edges_0 = set()\n",
    "    \n",
    "    max_new_pairs = len(new_edges_1)\n",
    "    generated_pairs = 0\n",
    "    \n",
    "    for node in G_0.nodes():\n",
    "        neighbors = list(G_0.neighbors(node))\n",
    "        \n",
    "        for i in range(len(neighbors)):\n",
    "            for j in range(i+1, len(neighbors)):\n",
    "                if generated_pairs >= max_new_pairs:\n",
    "                    break\n",
    "                \n",
    "                edge = frozenset({neighbors[i], neighbors[j]})\n",
    "                if edge not in existing_edges_0 and edge not in new_edges_0:\n",
    "                    new_edges_0.add(edge)\n",
    "                    generated_pairs += 1\n",
    "        \n",
    "        if generated_pairs >= max_new_pairs:\n",
    "            break\n",
    "    \n",
    "    if verbose:\n",
    "        print(f\"\\nДля is_double=1 добавлено {len(new_edges_1)} новых пар\")\n",
    "        print(f\"Для is_double=0 добавлено {len(new_edges_0)} новых пар\")\n",
    "    \n",
    "    new_rows = []\n",
    "    \n",
    "    if new_edges_1:\n",
    "        new_rows.append(pl.DataFrame(\n",
    "            {\n",
    "                'variantid_1': [tuple(edge)[0] for edge in new_edges_1],\n",
    "                'variantid_2': [tuple(edge)[1] for edge in new_edges_1],\n",
    "                'is_double': 1\n",
    "            },\n",
    "            schema=df.schema\n",
    "        ))\n",
    "    \n",
    "    if new_edges_0:\n",
    "        new_rows.append(pl.DataFrame(\n",
    "            {\n",
    "                'variantid_1': [tuple(edge)[0] for edge in new_edges_0],\n",
    "                'variantid_2': [tuple(edge)[1] for edge in new_edges_0],\n",
    "                'is_double': 0\n",
    "            },\n",
    "            schema=df.schema\n",
    "        ))\n",
    "    \n",
    "    if new_rows:\n",
    "        df_expanded = pl.concat([df] + new_rows).unique(subset=['variantid_1', 'variantid_2'])\n",
    "    else:\n",
    "        df_expanded = df.clone()\n",
    "    \n",
    "    if verbose:\n",
    "        print(f\"\\nОбщее количество пар после расширения: {len(df_expanded)}\")\n",
    "    \n",
    "    return df_expanded"
   ]
  },
  {
   "cell_type": "code",
   "execution_count": 48,
   "id": "117368e5",
   "metadata": {},
   "outputs": [
    {
     "name": "stdout",
     "output_type": "stream",
     "text": [
      "is_double=1, уровень 1: добавлено 68803 новых пар\n",
      "\n",
      "Для is_double=1 добавлено 68803 новых пар\n",
      "Для is_double=0 добавлено 68803 новых пар\n",
      "\n",
      "Общее количество пар после расширения: 2017103\n"
     ]
    },
    {
     "data": {
      "text/html": [
       "<div><style>\n",
       ".dataframe > thead > tr,\n",
       ".dataframe > tbody > tr {\n",
       "  text-align: right;\n",
       "  white-space: pre-wrap;\n",
       "}\n",
       "</style>\n",
       "<small>shape: (2_017_103, 3)</small><table border=\"1\" class=\"dataframe\"><thead><tr><th>variantid_1</th><th>variantid_2</th><th>is_double</th></tr><tr><td>str</td><td>str</td><td>i64</td></tr></thead><tbody><tr><td>&quot;382624dfbd10bddbfa5c98512f29ca…</td><td>&quot;0a97cd09420f21b09d984cc656af63…</td><td>0</td></tr><tr><td>&quot;280deded198898f7b219ba18efde1c…</td><td>&quot;94e7f806698ac69fff996eca93e067…</td><td>0</td></tr><tr><td>&quot;a198b1f0b3fd7ab434dd6bb1371040…</td><td>&quot;159eb9ffc752d554c05b5bfd6f8234…</td><td>0</td></tr><tr><td>&quot;a4ca91db8be510c0f53aba2cb46e0c…</td><td>&quot;78c28e6a4efbb4c1eac8218f169426…</td><td>0</td></tr><tr><td>&quot;caa7574ebc153fe594576560390b35…</td><td>&quot;353f30c31a8a8b8cedd5d1061e4383…</td><td>0</td></tr><tr><td>&hellip;</td><td>&hellip;</td><td>&hellip;</td></tr><tr><td>&quot;e418adbd1bdafe9faa816c107f3ddd…</td><td>&quot;d7aed4d5a45f97f0279cb44b85a26c…</td><td>0</td></tr><tr><td>&quot;6b13ca674929df840877a66a6c048d…</td><td>&quot;2b59857c70037af96db1fa5b9c6ab7…</td><td>0</td></tr><tr><td>&quot;574a9ae3af5a6333668fe92d2620a1…</td><td>&quot;982d87e5c00a78e7ad92c75589bf9d…</td><td>0</td></tr><tr><td>&quot;5427e7f70d7d45cecf2fe16d6a03ce…</td><td>&quot;bf5322b86c64881dc2ef87e00e6b24…</td><td>0</td></tr><tr><td>&quot;9123972dbd46e6c088274662299d2d…</td><td>&quot;b44ac0c11df3558e73d78813bc7da4…</td><td>0</td></tr></tbody></table></div>"
      ],
      "text/plain": [
       "shape: (2_017_103, 3)\n",
       "┌─────────────────────────────────┬─────────────────────────────────┬───────────┐\n",
       "│ variantid_1                     ┆ variantid_2                     ┆ is_double │\n",
       "│ ---                             ┆ ---                             ┆ ---       │\n",
       "│ str                             ┆ str                             ┆ i64       │\n",
       "╞═════════════════════════════════╪═════════════════════════════════╪═══════════╡\n",
       "│ 382624dfbd10bddbfa5c98512f29ca… ┆ 0a97cd09420f21b09d984cc656af63… ┆ 0         │\n",
       "│ 280deded198898f7b219ba18efde1c… ┆ 94e7f806698ac69fff996eca93e067… ┆ 0         │\n",
       "│ a198b1f0b3fd7ab434dd6bb1371040… ┆ 159eb9ffc752d554c05b5bfd6f8234… ┆ 0         │\n",
       "│ a4ca91db8be510c0f53aba2cb46e0c… ┆ 78c28e6a4efbb4c1eac8218f169426… ┆ 0         │\n",
       "│ caa7574ebc153fe594576560390b35… ┆ 353f30c31a8a8b8cedd5d1061e4383… ┆ 0         │\n",
       "│ …                               ┆ …                               ┆ …         │\n",
       "│ e418adbd1bdafe9faa816c107f3ddd… ┆ d7aed4d5a45f97f0279cb44b85a26c… ┆ 0         │\n",
       "│ 6b13ca674929df840877a66a6c048d… ┆ 2b59857c70037af96db1fa5b9c6ab7… ┆ 0         │\n",
       "│ 574a9ae3af5a6333668fe92d2620a1… ┆ 982d87e5c00a78e7ad92c75589bf9d… ┆ 0         │\n",
       "│ 5427e7f70d7d45cecf2fe16d6a03ce… ┆ bf5322b86c64881dc2ef87e00e6b24… ┆ 0         │\n",
       "│ 9123972dbd46e6c088274662299d2d… ┆ b44ac0c11df3558e73d78813bc7da4… ┆ 0         │\n",
       "└─────────────────────────────────┴─────────────────────────────────┴───────────┘"
      ]
     },
     "execution_count": 48,
     "metadata": {},
     "output_type": "execute_result"
    }
   ],
   "source": [
    "apply_k_level_transitivity_with_networkx_save_disbalance(idx_df)"
   ]
  },
  {
   "cell_type": "code",
   "execution_count": null,
   "id": "8203b811",
   "metadata": {},
   "outputs": [],
   "source": []
  }
 ],
 "metadata": {
  "kernelspec": {
   "display_name": ".env",
   "language": "python",
   "name": "python3"
  },
  "language_info": {
   "codemirror_mode": {
    "name": "ipython",
    "version": 3
   },
   "file_extension": ".py",
   "mimetype": "text/x-python",
   "name": "python",
   "nbconvert_exporter": "python",
   "pygments_lexer": "ipython3",
   "version": "3.12.9"
  }
 },
 "nbformat": 4,
 "nbformat_minor": 5
}
