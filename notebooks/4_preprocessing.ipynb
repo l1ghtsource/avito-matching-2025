{
 "cells": [
  {
   "cell_type": "code",
   "execution_count": 1,
   "id": "679a3890",
   "metadata": {
    "_cell_guid": "b1076dfc-b9ad-4769-8c92-a6c4dae69d19",
    "_uuid": "8f2839f25d086af736a60e9eeb907d3b93b6e0e5",
    "execution": {
     "iopub.execute_input": "2025-04-20T09:19:31.173002Z",
     "iopub.status.busy": "2025-04-20T09:19:31.172636Z",
     "iopub.status.idle": "2025-04-20T09:19:34.174731Z",
     "shell.execute_reply": "2025-04-20T09:19:34.173680Z"
    },
    "papermill": {
     "duration": 3.014431,
     "end_time": "2025-04-20T09:19:34.176798",
     "exception": false,
     "start_time": "2025-04-20T09:19:31.162367",
     "status": "completed"
    },
    "tags": []
   },
   "outputs": [],
   "source": [
    "import polars as pl\n",
    "import re\n",
    "import numpy as np\n",
    "import json\n",
    "import pickle\n",
    "import gc\n",
    "import re\n",
    "\n",
    "from collections import Counter\n",
    "from typing import List, Dict, Callable\n",
    "from pathlib import Path\n",
    "\n",
    "from sklearn.feature_extraction.text import TfidfVectorizer\n",
    "\n",
    "import scipy.sparse as sp\n",
    "from tqdm.notebook import tqdm"
   ]
  },
  {
   "cell_type": "code",
   "execution_count": 2,
   "id": "174efe22",
   "metadata": {},
   "outputs": [],
   "source": [
    "pl.enable_string_cache()"
   ]
  },
  {
   "cell_type": "code",
   "execution_count": 3,
   "id": "fd9114d7",
   "metadata": {
    "execution": {
     "iopub.execute_input": "2025-04-20T09:19:34.196189Z",
     "iopub.status.busy": "2025-04-20T09:19:34.195673Z",
     "iopub.status.idle": "2025-04-20T09:19:34.200852Z",
     "shell.execute_reply": "2025-04-20T09:19:34.199771Z"
    },
    "papermill": {
     "duration": 0.016983,
     "end_time": "2025-04-20T09:19:34.202786",
     "exception": false,
     "start_time": "2025-04-20T09:19:34.185803",
     "status": "completed"
    },
    "tags": []
   },
   "outputs": [],
   "source": [
    "MAIN_DIR = Path('../data/avito-orig-data/')\n",
    "FIX_ND_DIR = Path('../data/fix-letters-kenlm/')\n",
    "\n",
    "FILE_PATHES = [\n",
    "    MAIN_DIR / Path('train_part_0001.snappy.parquet'),\n",
    "    MAIN_DIR / Path('train_part_0002.snappy.parquet'),\n",
    "    MAIN_DIR / Path('train_part_0003.snappy.parquet'),\n",
    "    MAIN_DIR / Path('train_part_0004.snappy.parquet'),\n",
    "    MAIN_DIR / Path('test_part_0001.snappy.parquet'),\n",
    "    MAIN_DIR / Path('test_part_0002.snappy.parquet'),\n",
    "]\n",
    "\n",
    "BnC_DIR = Path('../data/brands-and-colors/')"
   ]
  },
  {
   "cell_type": "code",
   "execution_count": 4,
   "id": "8c812f25",
   "metadata": {
    "execution": {
     "iopub.execute_input": "2025-04-20T09:19:34.221306Z",
     "iopub.status.busy": "2025-04-20T09:19:34.220898Z",
     "iopub.status.idle": "2025-04-20T09:19:34.226801Z",
     "shell.execute_reply": "2025-04-20T09:19:34.225671Z"
    },
    "papermill": {
     "duration": 0.01701,
     "end_time": "2025-04-20T09:19:34.228511",
     "exception": false,
     "start_time": "2025-04-20T09:19:34.211501",
     "status": "completed"
    },
    "tags": []
   },
   "outputs": [],
   "source": [
    "RENAME_MAPPING = {\n",
    "    'base_item_id': 'variantid_1', \n",
    "    'cand_item_id': 'variantid_2',\n",
    "    'base_title': 'name_1',\n",
    "    'cand_title': 'name_2',\n",
    "    'base_description': 'description_1',\n",
    "    'cand_description': 'description_2',\n",
    "    'base_category_name': 'category_level_1_1',\n",
    "    'cand_category_name': 'category_level_1_2',\n",
    "    'base_subcategory_name': 'category_level_2_1',\n",
    "    'cand_subcategory_name': 'category_level_2_2',\n",
    "    'base_param1': 'category_level_3_1',\n",
    "    'cand_param1': 'category_level_3_2',\n",
    "    'base_param2': 'category_level_4_1',\n",
    "    'cand_param2': 'category_level_4_2',\n",
    "    'base_json_params': 'characteristic_attributes_mapping_1',\n",
    "    'cand_json_params': 'characteristic_attributes_mapping_2',\n",
    "    'base_count_images': 'n_images_1',\n",
    "    'cand_count_images': 'n_images_2',\n",
    "    'base_price': 'price_1',\n",
    "    'cand_price': 'price_2'\n",
    "}\n",
    "\n",
    "IDS = ['variantid_1', 'variantid_2']\n",
    "FOR_SPLIT = ['group_id', 'action_date']\n",
    "IMAGE_PATHS = ['base_title_image', 'cand_title_image']\n",
    "BINARY_FEATURES = ['is_same_location', 'is_same_region']\n",
    "TARGET = 'is_double'"
   ]
  },
  {
   "cell_type": "code",
   "execution_count": 5,
   "id": "5aedd7a3",
   "metadata": {
    "execution": {
     "iopub.execute_input": "2025-04-20T09:19:34.247041Z",
     "iopub.status.busy": "2025-04-20T09:19:34.246655Z",
     "iopub.status.idle": "2025-04-20T09:19:54.601202Z",
     "shell.execute_reply": "2025-04-20T09:19:54.599932Z"
    },
    "papermill": {
     "duration": 20.36588,
     "end_time": "2025-04-20T09:19:54.602894",
     "exception": false,
     "start_time": "2025-04-20T09:19:34.237014",
     "status": "completed"
    },
    "tags": []
   },
   "outputs": [
    {
     "data": {
      "application/vnd.jupyter.widget-view+json": {
       "model_id": "ed651de627764ff28e33f5c8f080e4df",
       "version_major": 2,
       "version_minor": 0
      },
      "text/plain": [
       "  0%|          | 0/6 [00:00<?, ?it/s]"
      ]
     },
     "metadata": {},
     "output_type": "display_data"
    },
    {
     "name": "stdout",
     "output_type": "stream",
     "text": [
      "full_df.shape=(500000, 28)\n",
      "full_df.shape=(1000000, 28)\n",
      "full_df.shape=(1500000, 28)\n",
      "full_df.shape=(1879555, 28)\n",
      "full_df.shape=(2129555, 28)\n",
      "full_df.shape=(2379555, 28)\n"
     ]
    }
   ],
   "source": [
    "full_df = pl.DataFrame()\n",
    "\n",
    "for file in tqdm(FILE_PATHES):\n",
    "    chunk = pl.read_parquet(file)\n",
    "    if 'is_double' not in chunk.columns:\n",
    "        chunk = chunk.with_columns(\n",
    "            is_double=pl.lit(-1),\n",
    "            action_date=pl.lit(-1),\n",
    "            group_id=pl.lit(-1)\n",
    "        )\n",
    "        chunk = chunk.select(full_df.columns)\n",
    "    full_df = pl.concat([full_df, chunk], how='diagonal_relaxed')\n",
    "    print(f'{full_df.shape=}')\n",
    "\n",
    "del chunk \n",
    "gc.collect()\n",
    "full_df = full_df.rename(mapping=RENAME_MAPPING)"
   ]
  },
  {
   "cell_type": "code",
   "execution_count": 6,
   "id": "3cd3025d",
   "metadata": {
    "execution": {
     "iopub.execute_input": "2025-04-20T09:19:54.623168Z",
     "iopub.status.busy": "2025-04-20T09:19:54.622779Z",
     "iopub.status.idle": "2025-04-20T09:19:54.679342Z",
     "shell.execute_reply": "2025-04-20T09:19:54.678296Z"
    },
    "papermill": {
     "duration": 0.069047,
     "end_time": "2025-04-20T09:19:54.681455",
     "exception": false,
     "start_time": "2025-04-20T09:19:54.612408",
     "status": "completed"
    },
    "tags": []
   },
   "outputs": [],
   "source": [
    "with open(BnC_DIR / Path('brands.pkl'), 'rb') as f: # потом с ллм отфильтровать бренды\n",
    "    brands = pickle.load(f)\n",
    "\n",
    "colors = pl.read_csv(BnC_DIR / Path('ruscorpora_content_colors.csv'), separator=';')['word_0'].to_list()"
   ]
  },
  {
   "cell_type": "code",
   "execution_count": 7,
   "id": "851837c9",
   "metadata": {},
   "outputs": [
    {
     "name": "stdout",
     "output_type": "stream",
     "text": [
      "data.shape=(3263574, 10)\n"
     ]
    }
   ],
   "source": [
    "data_1 = full_df.select(\n",
    "    [col for col in full_df.columns if col.endswith('_1')]\n",
    ").rename({col: col[:-2] for col in full_df.columns if col.endswith('_1')}).unique()\n",
    "\n",
    "data_2 = full_df.select(\n",
    "    [col for col in full_df.columns if col.endswith('_2')]\n",
    ").rename({col: col[:-2] for col in full_df.columns if col.endswith('_2')}).unique()\n",
    "\n",
    "data = pl.concat([data_1, data_2], how='vertical').unique()\n",
    "\n",
    "del data_1, data_2\n",
    "gc.collect()\n",
    "\n",
    "print(f'{data.shape=}')"
   ]
  },
  {
   "cell_type": "code",
   "execution_count": 8,
   "id": "5330f082",
   "metadata": {},
   "outputs": [
    {
     "name": "stdout",
     "output_type": "stream",
     "text": [
      "names_and_descs_kenlm.shape=(2379555, 10)\n"
     ]
    }
   ],
   "source": [
    "names_and_descs_kenlm = pl.read_parquet(FIX_ND_DIR / Path('avito_bad_people_fixed.parquet'))\n",
    "print(f'{names_and_descs_kenlm.shape=}')"
   ]
  },
  {
   "cell_type": "code",
   "execution_count": 9,
   "id": "e48125a3",
   "metadata": {},
   "outputs": [],
   "source": [
    "names_and_descs_kenlm = names_and_descs_kenlm.rename(mapping={\n",
    "    'name_1_fixed': 'name_1',\n",
    "    'desc_1_fixed': 'description_1',\n",
    "    'name_1_ratio_fixed': 'name_broken_perc_1',\n",
    "    'desc_1_ratio_fixed': 'description_broken_perc_1',\n",
    "    'name_2_fixed': 'name_2',\n",
    "    'desc_2_fixed': 'description_2',\n",
    "    'name_2_ratio_fixed': 'name_broken_perc_2',\n",
    "    'desc_2_ratio_fixed': 'description_broken_perc_2',\n",
    "})"
   ]
  },
  {
   "cell_type": "code",
   "execution_count": 10,
   "id": "b7b7bc69",
   "metadata": {},
   "outputs": [],
   "source": [
    "full_df = full_df.sort(by=['variantid_1', 'variantid_2'])\n",
    "names_and_descs_kenlm = names_and_descs_kenlm.sort(by=['variantid_1', 'variantid_2'])"
   ]
  },
  {
   "cell_type": "code",
   "execution_count": 11,
   "id": "1cc97084",
   "metadata": {},
   "outputs": [],
   "source": [
    "full_df = full_df.with_columns(names_and_descs_kenlm[\"name_1\"].alias(\"name_1\"))\n",
    "full_df = full_df.with_columns(names_and_descs_kenlm[\"description_1\"].alias(\"description_1\"))\n",
    "full_df = full_df.with_columns(names_and_descs_kenlm[\"name_broken_perc_1\"].alias(\"name_broken_perc_1\"))\n",
    "full_df = full_df.with_columns(names_and_descs_kenlm[\"description_broken_perc_1\"].alias(\"description_broken_perc_1\"))\n",
    "\n",
    "full_df = full_df.with_columns(names_and_descs_kenlm[\"name_2\"].alias(\"name_2\"))\n",
    "full_df = full_df.with_columns(names_and_descs_kenlm[\"description_2\"].alias(\"description_2\"))\n",
    "full_df = full_df.with_columns(names_and_descs_kenlm[\"name_broken_perc_2\"].alias(\"name_broken_perc_2\"))\n",
    "full_df = full_df.with_columns(names_and_descs_kenlm[\"description_broken_perc_2\"].alias(\"description_broken_perc_2\"))"
   ]
  },
  {
   "cell_type": "code",
   "execution_count": 12,
   "id": "1d7d658a",
   "metadata": {},
   "outputs": [
    {
     "data": {
      "text/plain": [
       "((2379555, 32), (2379555, 10))"
      ]
     },
     "execution_count": 12,
     "metadata": {},
     "output_type": "execute_result"
    }
   ],
   "source": [
    "full_df.shape, names_and_descs_kenlm.shape"
   ]
  },
  {
   "cell_type": "code",
   "execution_count": 13,
   "id": "8e83c5d9",
   "metadata": {
    "execution": {
     "iopub.execute_input": "2025-04-20T09:20:36.979354Z",
     "iopub.status.busy": "2025-04-20T09:20:36.978969Z",
     "iopub.status.idle": "2025-04-20T09:20:36.984562Z",
     "shell.execute_reply": "2025-04-20T09:20:36.983331Z"
    },
    "papermill": {
     "duration": 0.017464,
     "end_time": "2025-04-20T09:20:36.986539",
     "exception": false,
     "start_time": "2025-04-20T09:20:36.969075",
     "status": "completed"
    },
    "tags": []
   },
   "outputs": [],
   "source": [
    "def remove_html_tags_and_emoji(text: str) -> str:\n",
    "    if text is None:\n",
    "        return None\n",
    "    clean = re.compile('<.*?>')\n",
    "    text = re.sub(clean, '', text)\n",
    "    text = text.replace('\\n', ' ')\n",
    "    emoji_pattern = re.compile(\"[\"\n",
    "                               u\"\\U0001F600-\\U0001F64F\"\n",
    "                               u\"\\U0001F300-\\U0001F5FF\"\n",
    "                               u\"\\U0001F680-\\U0001F6FF\"\n",
    "                               u\"\\U0001F1E0-\\U0001F1FF\"\n",
    "                               \"]+\", flags=re.UNICODE)\n",
    "    return emoji_pattern.sub(r'', text)"
   ]
  },
  {
   "cell_type": "code",
   "execution_count": 14,
   "id": "8d9e6f16",
   "metadata": {
    "execution": {
     "iopub.execute_input": "2025-04-20T09:20:37.006376Z",
     "iopub.status.busy": "2025-04-20T09:20:37.005961Z",
     "iopub.status.idle": "2025-04-20T09:20:37.010484Z",
     "shell.execute_reply": "2025-04-20T09:20:37.009508Z"
    },
    "papermill": {
     "duration": 0.016282,
     "end_time": "2025-04-20T09:20:37.012285",
     "exception": false,
     "start_time": "2025-04-20T09:20:36.996003",
     "status": "completed"
    },
    "tags": []
   },
   "outputs": [],
   "source": [
    "def filter_en_text(text: str) -> str:\n",
    "    pattern = r\"\\b[a-zA-Z]+\\b\"\n",
    "    res = ' '.join(re.findall(pattern, text.lower()))\n",
    "    return res"
   ]
  },
  {
   "cell_type": "code",
   "execution_count": 15,
   "id": "01a3ea10",
   "metadata": {
    "execution": {
     "iopub.execute_input": "2025-04-20T09:20:37.032027Z",
     "iopub.status.busy": "2025-04-20T09:20:37.031643Z",
     "iopub.status.idle": "2025-04-20T09:20:37.036352Z",
     "shell.execute_reply": "2025-04-20T09:20:37.035243Z"
    },
    "papermill": {
     "duration": 0.01647,
     "end_time": "2025-04-20T09:20:37.038168",
     "exception": false,
     "start_time": "2025-04-20T09:20:37.021698",
     "status": "completed"
    },
    "tags": []
   },
   "outputs": [],
   "source": [
    "def extract_mixed_words(s: str) -> str:\n",
    "    pattern = r'\\b(?=[A-Za-zА-Яа-яЁё]*\\d)(?=\\d*[A-Za-zА-Яа-яЁё])[A-Za-zА-Яа-яЁё\\d]+\\b'\n",
    "    matches = re.findall(pattern, s)\n",
    "    return ' '.join(matches)"
   ]
  },
  {
   "cell_type": "code",
   "execution_count": 16,
   "id": "8d172932",
   "metadata": {},
   "outputs": [],
   "source": [
    "def mixed_language_words_percentage(text: str) -> float:\n",
    "    words = text.split()\n",
    "    \n",
    "    def is_mixed_language(word: str) -> bool:\n",
    "        if re.search(r'\\d', word):\n",
    "            return False\n",
    "        has_russian = bool(re.search(r'[а-яА-Я]', word))\n",
    "        has_english = bool(re.search(r'[a-zA-Z]', word))\n",
    "        return has_russian and has_english\n",
    "    \n",
    "    mixed_words_count = sum(is_mixed_language(word) for word in words)\n",
    "    \n",
    "    if len(words) == 0:\n",
    "        return 0.0\n",
    "    return (mixed_words_count / len(words)) * 100"
   ]
  },
  {
   "cell_type": "code",
   "execution_count": 17,
   "id": "155f68a4",
   "metadata": {
    "execution": {
     "iopub.execute_input": "2025-04-20T09:20:37.058331Z",
     "iopub.status.busy": "2025-04-20T09:20:37.057891Z",
     "iopub.status.idle": "2025-04-20T09:20:37.063084Z",
     "shell.execute_reply": "2025-04-20T09:20:37.062074Z"
    },
    "papermill": {
     "duration": 0.017247,
     "end_time": "2025-04-20T09:20:37.064898",
     "exception": false,
     "start_time": "2025-04-20T09:20:37.047651",
     "status": "completed"
    },
    "tags": []
   },
   "outputs": [],
   "source": [
    "def normalize(text: str) -> str:\n",
    "    if text is None:\n",
    "        return None\n",
    "    text = text.lower()\n",
    "    chars = []\n",
    "    for char in text:\n",
    "        if char.isalnum():\n",
    "            chars.append(char)\n",
    "        else:\n",
    "            chars.append(' ')\n",
    "    tokens = ''.join(chars).split() \n",
    "    return '_'.join(tokens)"
   ]
  },
  {
   "cell_type": "code",
   "execution_count": 18,
   "id": "b009e730",
   "metadata": {
    "execution": {
     "iopub.execute_input": "2025-04-20T09:20:37.085302Z",
     "iopub.status.busy": "2025-04-20T09:20:37.084901Z",
     "iopub.status.idle": "2025-04-20T09:20:37.096694Z",
     "shell.execute_reply": "2025-04-20T09:20:37.095562Z"
    },
    "papermill": {
     "duration": 0.023703,
     "end_time": "2025-04-20T09:20:37.098408",
     "exception": false,
     "start_time": "2025-04-20T09:20:37.074705",
     "status": "completed"
    },
    "tags": []
   },
   "outputs": [],
   "source": [
    "# переписать на kenlm [DONE, юзаются сразу пофикшенные названия и описания]\n",
    "# def fix_key_layout(text: str, thold: float = 0.6) -> str:\n",
    "#     en_ru_mapping = {\n",
    "#         'e': 'е',\n",
    "#         'y': 'у',\n",
    "#         'o': 'о',\n",
    "#         'p': 'р',\n",
    "#         'a': 'а',\n",
    "#         'k': 'к',\n",
    "#         'x': 'х',\n",
    "#         'c': 'с',\n",
    "#         'E': 'Е',\n",
    "#         'T': 'Т',\n",
    "#         'O': 'О',\n",
    "#         'P': 'Р',\n",
    "#         'A': 'А',\n",
    "#         'H': 'Н',\n",
    "#         'K': 'К',\n",
    "#         'X': 'Х',\n",
    "#         'C': 'С',\n",
    "#         'B': 'В',\n",
    "#         'M': 'М',\n",
    "#     }\n",
    "\n",
    "#     def is_english_letter(char: str) -> bool:\n",
    "#         return 'a' <= char <= 'z' or 'A' <= char <= 'Z'\n",
    "\n",
    "#     def should_apply_mapping(word: str, thold: float = 0.6) -> float:\n",
    "#         if not word:\n",
    "#             return False\n",
    "#         total_letters = sum(c.isalpha() for c in word)\n",
    "#         if total_letters == 0:\n",
    "#             return False\n",
    "#         english_letters = sum(is_english_letter(c) for c in word)\n",
    "#         return (english_letters / total_letters) < thold\n",
    "\n",
    "#     words = text.split()\n",
    "#     fixed_words = []\n",
    "#     for word in words:\n",
    "#         if should_apply_mapping(word):\n",
    "#             fixed_word = ''.join(en_ru_mapping.get(char, char) for char in word)\n",
    "#         else:\n",
    "#             fixed_word = word\n",
    "#         fixed_words.append(fixed_word)\n",
    "\n",
    "#     res = ' '.join(fixed_words)\n",
    "#     res = res.replace('нa', 'на').replace(' c ', ' с ').replace(\n",
    "#         ' cо ', ' со ').replace(' сo ', ' со ').replace(\n",
    "#         ' co ', ' со ').replace(' вo ', ' во ').replace(\n",
    "#         ' кo ', ' ко ').replace(' o ', ' о ').replace(\n",
    "#         ' oб ', ' об ').replace(' oт ', ' от ').replace(\n",
    "#         ' зa ', ' за ').replace(' пo ', ' по ').replace(\n",
    "#         ' дo ', ' до ').replace(' y ', ' у ').replace(\n",
    "#         ' cм ', ' см ').replace(' гp', ' гр ').replace(\n",
    "#         ' пpo ', ' про ').replace(' дa ', ' да ').replace(\n",
    "#         ' нe ', ' не ').replace(' тo ', ' то ').replace(\n",
    "#         ' жe ', ' же ').replace(' pyб ', ' руб ').replace(\n",
    "#         ' eд ', ' ед ').replace(' oна ', ' она ').replace(\n",
    "#         ' онa ', ' она ').replace(' oнa ', ' она ').replace(\n",
    "#         ' oн ', ' он ').replace(' eго ', ' его ').replace(\n",
    "#         ' егo ', ' его ').replace(' eгo ', ' его ').replace(\n",
    "#         ' ниx ', ' них ').replace(' иx ', ' их ').replace(\n",
    "#         ' вcе ', ' все ').replace(' всe ', ' все ').replace(' вce ', ' все ')\n",
    "#     return res"
   ]
  },
  {
   "cell_type": "code",
   "execution_count": 19,
   "id": "3c30fb75",
   "metadata": {},
   "outputs": [],
   "source": [
    "def normalize_names(df: pl.DataFrame) -> pl.DataFrame:\n",
    "    df = df.with_columns(\n",
    "        pl.col('name_1').map_elements(remove_html_tags_and_emoji, return_dtype=pl.Utf8).alias('name_1')\n",
    "    )\n",
    "    # df = df.with_columns(\n",
    "    #     pl.col('name_1').map_elements(fix_key_layout, return_dtype=pl.Utf8).alias('name_1')\n",
    "    # )\n",
    "    df = df.with_columns(\n",
    "        pl.col('name_1').map_elements(normalize, return_dtype=pl.Utf8).alias('name_norm_1'),\n",
    "        pl.col('name_1').str.strip_chars().str.to_lowercase().alias('name_tokens_1'),\n",
    "    )\n",
    "    df = df.with_columns(\n",
    "        pl.col('name_tokens_1').map_elements(lambda x: ' '.join(x.split()), return_dtype=pl.Utf8).alias('name_1'),\n",
    "    )\n",
    "    \n",
    "    df = df.with_columns(\n",
    "        pl.col('name_2').map_elements(remove_html_tags_and_emoji, return_dtype=pl.Utf8).alias('name_2')\n",
    "    )\n",
    "    # df = df.with_columns(\n",
    "    #     pl.col('name_2').map_elements(fix_key_layout, return_dtype=pl.Utf8).alias('name_2')\n",
    "    # )\n",
    "    df = df.with_columns(\n",
    "        pl.col('name_2').map_elements(normalize, return_dtype=pl.Utf8).alias('name_norm_2'),\n",
    "        pl.col('name_2').str.strip_chars().str.to_lowercase().alias('name_tokens_2'),\n",
    "    )\n",
    "    df = df.with_columns(\n",
    "        pl.col('name_tokens_2').map_elements(lambda x: ' '.join(x.split()), return_dtype=pl.Utf8).alias('name_2'),\n",
    "    )\n",
    "    \n",
    "    return df\n"
   ]
  },
  {
   "cell_type": "code",
   "execution_count": 20,
   "id": "d02b429c",
   "metadata": {},
   "outputs": [],
   "source": [
    "def normalize_en_names(df: pl.DataFrame) -> pl.DataFrame:\n",
    "    df = df.with_columns(\n",
    "        pl.col('name_1').map_elements(filter_en_text, return_dtype=pl.Utf8).alias('name_en_1')\n",
    "    )\n",
    "    df = df.with_columns(\n",
    "        pl.col('name_en_1').map_elements(remove_html_tags_and_emoji, return_dtype=pl.Utf8).alias('name_en_1')\n",
    "    )\n",
    "    df = df.with_columns(\n",
    "        pl.col('name_en_1').map_elements(normalize, return_dtype=pl.Utf8).alias('name_en_norm_1'),\n",
    "        pl.col('name_en_1').str.strip_chars().str.to_lowercase().alias('name_en_tokens_1'),\n",
    "    )\n",
    "    df = df.with_columns(\n",
    "        pl.col('name_en_tokens_1').map_elements(lambda x: ' '.join(x.split()), return_dtype=pl.Utf8).alias('name_en_1'),\n",
    "    )\n",
    "    \n",
    "    df = df.with_columns(\n",
    "        pl.col('name_2').map_elements(filter_en_text, return_dtype=pl.Utf8).alias('name_en_2')\n",
    "    )\n",
    "    df = df.with_columns(\n",
    "        pl.col('name_en_2').map_elements(remove_html_tags_and_emoji, return_dtype=pl.Utf8).alias('name_en_2')\n",
    "    )\n",
    "    df = df.with_columns(\n",
    "        pl.col('name_en_2').map_elements(normalize, return_dtype=pl.Utf8).alias('name_en_norm_2'),\n",
    "        pl.col('name_en_2').str.strip_chars().str.to_lowercase().alias('name_en_tokens_2'),\n",
    "    )\n",
    "    df = df.with_columns(\n",
    "        pl.col('name_en_tokens_2').map_elements(lambda x: ' '.join(x.split()), return_dtype=pl.Utf8).alias('name_en_2'),\n",
    "    )\n",
    "    \n",
    "    return df"
   ]
  },
  {
   "cell_type": "code",
   "execution_count": 21,
   "id": "c94303f4",
   "metadata": {
    "execution": {
     "iopub.execute_input": "2025-04-20T09:20:37.118253Z",
     "iopub.status.busy": "2025-04-20T09:20:37.117848Z",
     "iopub.status.idle": "2025-04-20T09:20:37.129370Z",
     "shell.execute_reply": "2025-04-20T09:20:37.127988Z"
    },
    "papermill": {
     "duration": 0.023292,
     "end_time": "2025-04-20T09:20:37.131108",
     "exception": false,
     "start_time": "2025-04-20T09:20:37.107816",
     "status": "completed"
    },
    "tags": []
   },
   "outputs": [],
   "source": [
    "def normalize_mixed_names(df: pl.DataFrame) -> pl.DataFrame:\n",
    "    df = df.with_columns(\n",
    "        pl.col('name_1').map_elements(extract_mixed_words, return_dtype=pl.Utf8).alias('name_mix_1')\n",
    "    )\n",
    "    df = df.with_columns(\n",
    "        pl.col('name_mix_1').map_elements(normalize, return_dtype=pl.Utf8).alias('name_mix_norm_1'),\n",
    "        pl.col('name_mix_1').str.strip_chars().str.to_lowercase().alias('name_mix_tokens_1'),\n",
    "    )\n",
    "    df = df.with_columns(\n",
    "        pl.col('name_mix_tokens_1').map_elements(lambda x: ' '.join(x.split()), return_dtype=pl.Utf8).alias('name_mix_1'),\n",
    "    )\n",
    "\n",
    "    df = df.with_columns(\n",
    "        pl.col('name_2').map_elements(extract_mixed_words, return_dtype=pl.Utf8).alias('name_mix_2')\n",
    "    )\n",
    "    df = df.with_columns(\n",
    "        pl.col('name_mix_2').map_elements(normalize, return_dtype=pl.Utf8).alias('name_mix_norm_2'),\n",
    "        pl.col('name_mix_2').str.strip_chars().str.to_lowercase().alias('name_mix_tokens_2'),\n",
    "    )\n",
    "    df = df.with_columns(\n",
    "        pl.col('name_mix_tokens_2').map_elements(lambda x: ' '.join(x.split()), return_dtype=pl.Utf8).alias('name_mix_2'),\n",
    "    )\n",
    "    \n",
    "    return df"
   ]
  },
  {
   "cell_type": "code",
   "execution_count": 22,
   "id": "5428d1b6",
   "metadata": {},
   "outputs": [],
   "source": [
    "def normalize_desc(df: pl.DataFrame) -> pl.DataFrame:\n",
    "    df = df.with_columns(\n",
    "        pl.col('description_1').map_elements(remove_html_tags_and_emoji, return_dtype=pl.Utf8).alias('description_1')\n",
    "    )\n",
    "    # df = df.with_columns(\n",
    "    #     pl.col('description_1').map_elements(fix_key_layout, return_dtype=pl.Utf8).alias('description_1')\n",
    "    # )\n",
    "    df = df.with_columns(\n",
    "        pl.col('description_1').map_elements(normalize, return_dtype=pl.Utf8).alias('description_norm_1'),\n",
    "        pl.col('description_1').str.strip_chars().str.to_lowercase().alias('description_tokens_1'),\n",
    "    )\n",
    "    df = df.with_columns(\n",
    "        pl.col('description_tokens_1').map_elements(lambda x: ' '.join(x.split()), return_dtype=pl.Utf8).alias('description_1'),\n",
    "    )\n",
    "    \n",
    "    df = df.with_columns(\n",
    "        pl.col('description_2').map_elements(remove_html_tags_and_emoji, return_dtype=pl.Utf8).alias('description_2')\n",
    "    )\n",
    "    # df = df.with_columns(\n",
    "    #     pl.col('description_2').map_elements(fix_key_layout, return_dtype=pl.Utf8).alias('description_2')\n",
    "    # )\n",
    "    df = df.with_columns(\n",
    "        pl.col('description_2').map_elements(normalize, return_dtype=pl.Utf8).alias('description_norm_2'),\n",
    "        pl.col('description_2').str.strip_chars().str.to_lowercase().alias('description_tokens_2'),\n",
    "    )\n",
    "    df = df.with_columns(\n",
    "        pl.col('description_tokens_2').map_elements(lambda x: ' '.join(x.split()), return_dtype=pl.Utf8).alias('description_2'),\n",
    "    )\n",
    "    \n",
    "    return df"
   ]
  },
  {
   "cell_type": "code",
   "execution_count": 23,
   "id": "8d5510af",
   "metadata": {},
   "outputs": [],
   "source": [
    "def normalize_en_desc(df: pl.DataFrame) -> pl.DataFrame:\n",
    "    df = df.with_columns(\n",
    "        pl.col('description_1').map_elements(filter_en_text, return_dtype=pl.Utf8).alias('description_en_1')\n",
    "    )\n",
    "    df = df.with_columns(\n",
    "        pl.col('description_en_1').map_elements(remove_html_tags_and_emoji, return_dtype=pl.Utf8).alias('description_en_1')\n",
    "    )\n",
    "    df = df.with_columns(\n",
    "        pl.col('description_en_1').map_elements(normalize, return_dtype=pl.Utf8).alias('description_en_norm_1'),\n",
    "        pl.col('description_en_1').str.strip_chars().str.to_lowercase().alias('description_en_tokens_1'),\n",
    "    )\n",
    "    df = df.with_columns(\n",
    "        pl.col('description_en_tokens_1').map_elements(lambda x: ' '.join(x.split()), return_dtype=pl.Utf8).alias('description_en_1'),\n",
    "    )\n",
    "\n",
    "    df = df.with_columns(\n",
    "        pl.col('description_2').map_elements(filter_en_text, return_dtype=pl.Utf8).alias('description_en_2')\n",
    "    )\n",
    "    df = df.with_columns(\n",
    "        pl.col('description_en_2').map_elements(remove_html_tags_and_emoji, return_dtype=pl.Utf8).alias('description_en_2')\n",
    "    )\n",
    "    df = df.with_columns(\n",
    "        pl.col('description_en_2').map_elements(normalize, return_dtype=pl.Utf8).alias('description_en_norm_2'),\n",
    "        pl.col('description_en_2').str.strip_chars().str.to_lowercase().alias('description_en_tokens_2'),\n",
    "    )\n",
    "    df = df.with_columns(\n",
    "        pl.col('description_en_tokens_2').map_elements(lambda x: ' '.join(x.split()), return_dtype=pl.Utf8).alias('description_en_2'),\n",
    "    )\n",
    "    \n",
    "    return df"
   ]
  },
  {
   "cell_type": "code",
   "execution_count": 24,
   "id": "5630055a",
   "metadata": {
    "execution": {
     "iopub.execute_input": "2025-04-20T09:20:37.151350Z",
     "iopub.status.busy": "2025-04-20T09:20:37.150937Z",
     "iopub.status.idle": "2025-04-20T09:20:37.167637Z",
     "shell.execute_reply": "2025-04-20T09:20:37.166622Z"
    },
    "papermill": {
     "duration": 0.028587,
     "end_time": "2025-04-20T09:20:37.169263",
     "exception": false,
     "start_time": "2025-04-20T09:20:37.140676",
     "status": "completed"
    },
    "tags": []
   },
   "outputs": [],
   "source": [
    "def normalize_mixed_desc(df: pl.DataFrame) -> pl.DataFrame:\n",
    "    df = df.with_columns(\n",
    "        pl.col('description_1').map_elements(extract_mixed_words, return_dtype=pl.Utf8).alias('description_mix_1')\n",
    "    )\n",
    "    df = df.with_columns(\n",
    "        pl.col('description_mix_1').map_elements(normalize, return_dtype=pl.Utf8).alias('description_mix_norm_1'),\n",
    "        pl.col('description_mix_1').str.strip_chars().str.to_lowercase().alias('description_mix_tokens_1'),\n",
    "    )\n",
    "    df = df.with_columns(\n",
    "        pl.col('description_mix_tokens_1').map_elements(lambda x: ' '.join(x.split()), return_dtype=pl.Utf8).alias('description_mix_1'),\n",
    "    )\n",
    "\n",
    "    df = df.with_columns(\n",
    "        pl.col('description_2').map_elements(extract_mixed_words, return_dtype=pl.Utf8).alias('description_mix_2')\n",
    "    )\n",
    "    df = df.with_columns(\n",
    "        pl.col('description_mix_2').map_elements(normalize, return_dtype=pl.Utf8).alias('description_mix_norm_2'),\n",
    "        pl.col('description_mix_2').str.strip_chars().str.to_lowercase().alias('description_mix_tokens_2'),\n",
    "    )\n",
    "    df = df.with_columns(\n",
    "        pl.col('description_mix_tokens_2').map_elements(lambda x: ' '.join(x.split()), return_dtype=pl.Utf8).alias('description_mix_2'),\n",
    "    )\n",
    "    \n",
    "    return df"
   ]
  },
  {
   "cell_type": "code",
   "execution_count": 25,
   "id": "c54c2861",
   "metadata": {
    "execution": {
     "iopub.execute_input": "2025-04-20T09:20:37.189512Z",
     "iopub.status.busy": "2025-04-20T09:20:37.189095Z",
     "iopub.status.idle": "2025-04-20T09:20:37.196155Z",
     "shell.execute_reply": "2025-04-20T09:20:37.194922Z"
    },
    "papermill": {
     "duration": 0.019271,
     "end_time": "2025-04-20T09:20:37.197903",
     "exception": false,
     "start_time": "2025-04-20T09:20:37.178632",
     "status": "completed"
    },
    "tags": []
   },
   "outputs": [],
   "source": [
    "def normalize_characteristic_attributes(df: pl.DataFrame) -> pl.DataFrame:\n",
    "    def flatten_json(d: dict, parent_key: str = ''):\n",
    "        items = {}\n",
    "        for k, v in d.items():\n",
    "            if isinstance(v, list):\n",
    "                for i in v:\n",
    "                    if isinstance(i, dict):\n",
    "                        items.update(flatten_json(i))\n",
    "                    else:\n",
    "                        items[k] = ','.join(str(x) for x in v)\n",
    "            elif isinstance(v, dict):\n",
    "                items.update(flatten_json(v))\n",
    "            else:\n",
    "                items[k] = str(v)\n",
    "        return items\n",
    "\n",
    "    def process(x):\n",
    "        flat = flatten_json(json.loads(x))\n",
    "        flat_json = json.dumps(flat)\n",
    "        concat_keyval = ' '.join([f\"{k}={v}\" for k, v in flat.items()])\n",
    "        return flat_json, concat_keyval\n",
    "\n",
    "    df = df.with_columns([\n",
    "        pl.col('characteristic_attributes_mapping_1')\n",
    "        .map_elements(lambda x: process(x)[0], return_dtype=pl.String)\n",
    "        .alias('characteristic_attributes_mapping_1'),\n",
    "        pl.col('characteristic_attributes_mapping_1')\n",
    "        .map_elements(lambda x: process(x)[1], return_dtype=pl.String)\n",
    "        .alias('concat_keyval_1')\n",
    "    ])\n",
    "\n",
    "    df = df.with_columns([\n",
    "        pl.col('characteristic_attributes_mapping_2')\n",
    "        .map_elements(lambda x: process(x)[0], return_dtype=pl.String)\n",
    "        .alias('characteristic_attributes_mapping_2'),\n",
    "        pl.col('characteristic_attributes_mapping_2')\n",
    "        .map_elements(lambda x: process(x)[1], return_dtype=pl.String)\n",
    "        .alias('concat_keyval_2')\n",
    "    ])\n",
    "    \n",
    "    return df\n",
    "\n",
    "def normalize_characteristic_attributes_prikol(df: pl.DataFrame) -> pl.DataFrame:\n",
    "    def flatten_json(d: dict, parent_key: str = ''):\n",
    "        items = {}\n",
    "        for k, v in d.items():\n",
    "            if isinstance(v, list):\n",
    "                for i in v:\n",
    "                    if isinstance(i, dict):\n",
    "                        items.update(flatten_json(i))\n",
    "                    else:\n",
    "                        items[k] = ','.join(str(x) for x in v)\n",
    "            elif isinstance(v, dict):\n",
    "                items.update(flatten_json(v))\n",
    "            else:\n",
    "                items[k] = str(v)\n",
    "        return items\n",
    "\n",
    "    def process(x):\n",
    "        flat = flatten_json(json.loads(x))\n",
    "        flat_json = json.dumps(flat)\n",
    "        concat_keyval = ' '.join([f\"{k}={v}\" for k, v in flat.items()])\n",
    "        return flat_json, concat_keyval\n",
    "\n",
    "    return df.with_columns([\n",
    "        pl.col('characteristic_attributes_mapping')\n",
    "        .map_elements(lambda x: process(x)[0], return_dtype=pl.String)\n",
    "        .alias('characteristic_attributes_mapping')\n",
    "    ])"
   ]
  },
  {
   "cell_type": "code",
   "execution_count": 26,
   "id": "9dc8405a",
   "metadata": {
    "execution": {
     "iopub.execute_input": "2025-04-20T09:20:37.217768Z",
     "iopub.status.busy": "2025-04-20T09:20:37.217400Z",
     "iopub.status.idle": "2025-04-20T09:20:37.226079Z",
     "shell.execute_reply": "2025-04-20T09:20:37.224942Z"
    },
    "papermill": {
     "duration": 0.020495,
     "end_time": "2025-04-20T09:20:37.227836",
     "exception": false,
     "start_time": "2025-04-20T09:20:37.207341",
     "status": "completed"
    },
    "tags": []
   },
   "outputs": [],
   "source": [
    "def get_kv_from_attrs(df: pl.DataFrame) -> pl.DataFrame:\n",
    "    def get_list_of_values(values: list) -> list:\n",
    "        values_to_return = []\n",
    "        for value in values:\n",
    "            if isinstance(value, list):\n",
    "                if len(value) > 0 and isinstance(value[0], dict):\n",
    "                    dict_values = [str(i) if i is not None else 'none' for i in value[0].values()]\n",
    "                    values_to_return.extend(dict_values)\n",
    "                else:\n",
    "                    values_to_return.extend([str(i) for i in value])\n",
    "            else:\n",
    "                values_to_return.append(str(value))\n",
    "        return values_to_return\n",
    "    \n",
    "    def get_list_of_keys(json_dict: dict) -> list:\n",
    "        values_to_return = []\n",
    "        for key, value in json_dict.items():\n",
    "            values_to_return.append(str(key))\n",
    "            if isinstance(value, list) and len(value) > 0:\n",
    "                if isinstance(value[0], dict):\n",
    "                    dict_keys = [str(i) for i in value[0].keys()]\n",
    "                    values_to_return.extend(dict_keys)\n",
    "        return values_to_return\n",
    "\n",
    "    df = df.with_columns(\n",
    "        pl.col('characteristic_attributes_mapping_1')\n",
    "            .map_elements(\n",
    "                lambda x: get_list_of_keys(json.loads(x)),\n",
    "                return_dtype=pl.List(pl.Utf8)\n",
    "        ).alias('attr_keys_1'),\n",
    "        pl.col('characteristic_attributes_mapping_1')\n",
    "            .map_elements(\n",
    "                lambda x: get_list_of_values(list(json.loads(x).values())),\n",
    "                return_dtype=pl.List(pl.Utf8)\n",
    "        ).alias('attr_vals_1')\n",
    "    )\n",
    "    \n",
    "    df = df.with_columns(\n",
    "        pl.col('characteristic_attributes_mapping_2')\n",
    "            .map_elements(\n",
    "                lambda x: get_list_of_keys(json.loads(x)),\n",
    "                return_dtype=pl.List(pl.Utf8)\n",
    "        ).alias('attr_keys_2'),\n",
    "        pl.col('characteristic_attributes_mapping_2')\n",
    "            .map_elements(\n",
    "                lambda x: get_list_of_values(list(json.loads(x).values())),\n",
    "                return_dtype=pl.List(pl.Utf8)\n",
    "        ).alias('attr_vals_2')\n",
    "    )\n",
    "    \n",
    "    return df"
   ]
  },
  {
   "cell_type": "code",
   "execution_count": 27,
   "id": "56e3d237",
   "metadata": {
    "execution": {
     "iopub.execute_input": "2025-04-20T09:20:37.247977Z",
     "iopub.status.busy": "2025-04-20T09:20:37.247578Z",
     "iopub.status.idle": "2025-04-20T09:20:37.253790Z",
     "shell.execute_reply": "2025-04-20T09:20:37.252752Z"
    },
    "papermill": {
     "duration": 0.018279,
     "end_time": "2025-04-20T09:20:37.255617",
     "exception": false,
     "start_time": "2025-04-20T09:20:37.237338",
     "status": "completed"
    },
    "tags": []
   },
   "outputs": [],
   "source": [
    "def get_lengths(df: pl.DataFrame) -> pl.DataFrame: \n",
    "    df = df.with_columns(\n",
    "        (pl.col('name_tokens_1').str.count_matches(' ') + 1).alias('name_tokens_len_1'),\n",
    "        (pl.col('description_tokens_1').str.count_matches(' ') + 1).alias('description_tokens_len_1'),\n",
    "        (pl.col('name_en_tokens_1').str.count_matches(' ') + 1).alias('name_en_tokens_len_1'),\n",
    "        (pl.col('description_en_tokens_1').str.count_matches(' ') + 1).alias('description_en_tokens_len_1'),\n",
    "        (pl.col('name_mix_tokens_1').str.count_matches(' ') + 1).alias('name_mix_tokens_len_1'),\n",
    "        (pl.col('description_mix_tokens_1').str.count_matches(' ') + 1).alias('description_mix_tokens_len_1'),\n",
    "        pl.col('attr_keys_1').list.len().alias('attr_keys_len_1'),\n",
    "        pl.col('attr_vals_1').list.len().alias('attr_vals_len_1'),\n",
    "    )\n",
    "    \n",
    "    df = df.with_columns(\n",
    "        (pl.col('name_tokens_2').str.count_matches(' ') + 1).alias('name_tokens_len_2'),\n",
    "        (pl.col('description_tokens_2').str.count_matches(' ') + 1).alias('description_tokens_len_2'),\n",
    "        (pl.col('name_en_tokens_2').str.count_matches(' ') + 1).alias('name_en_tokens_len_2'),\n",
    "        (pl.col('description_en_tokens_2').str.count_matches(' ') + 1).alias('description_en_tokens_len_2'),\n",
    "        (pl.col('name_mix_tokens_2').str.count_matches(' ') + 1).alias('name_mix_tokens_len_2'),\n",
    "        (pl.col('description_mix_tokens_2').str.count_matches(' ') + 1).alias('description_mix_tokens_len_2'),\n",
    "        pl.col('attr_keys_2').list.len().alias('attr_keys_len_2'),\n",
    "        pl.col('attr_vals_2').list.len().alias('attr_vals_len_2'),\n",
    "    )\n",
    "    \n",
    "    return df"
   ]
  },
  {
   "cell_type": "code",
   "execution_count": 28,
   "id": "4389ffa0",
   "metadata": {
    "execution": {
     "iopub.execute_input": "2025-04-20T09:20:37.275360Z",
     "iopub.status.busy": "2025-04-20T09:20:37.274969Z",
     "iopub.status.idle": "2025-04-20T09:20:37.281010Z",
     "shell.execute_reply": "2025-04-20T09:20:37.279948Z"
    },
    "papermill": {
     "duration": 0.018069,
     "end_time": "2025-04-20T09:20:37.283087",
     "exception": false,
     "start_time": "2025-04-20T09:20:37.265018",
     "status": "completed"
    },
    "tags": []
   },
   "outputs": [],
   "source": [
    "def get_digits_elements(df: pl.DataFrame) -> pl.DataFrame:\n",
    "    def extract_tokens_with_digits(text: str) -> str:\n",
    "        if not isinstance(text, str):\n",
    "            return ''\n",
    "        return ' '.join([token for token in text.split() if len(re.findall(r'\\d', token)) > 2])\n",
    "    \n",
    "    df = df.with_columns([\n",
    "        pl.col('name_tokens_1').map_elements(extract_tokens_with_digits, return_dtype=pl.Utf8).alias('name_tokens_w_digits_1'),\n",
    "        pl.col('description_tokens_1').map_elements(extract_tokens_with_digits, return_dtype=pl.Utf8).alias('description_tokens_w_digits_1'),\n",
    "    ])\n",
    "\n",
    "    df = df.with_columns([\n",
    "        pl.col('name_tokens_2').map_elements(extract_tokens_with_digits, return_dtype=pl.Utf8).alias('name_tokens_w_digits_2'),\n",
    "        pl.col('description_tokens_2').map_elements(extract_tokens_with_digits, return_dtype=pl.Utf8).alias('description_tokens_w_digits_2'),\n",
    "    ])\n",
    "    \n",
    "    return df"
   ]
  },
  {
   "cell_type": "code",
   "execution_count": 29,
   "id": "9749d776",
   "metadata": {
    "execution": {
     "iopub.execute_input": "2025-04-20T09:20:37.303342Z",
     "iopub.status.busy": "2025-04-20T09:20:37.302931Z",
     "iopub.status.idle": "2025-04-20T09:20:37.309231Z",
     "shell.execute_reply": "2025-04-20T09:20:37.308293Z"
    },
    "papermill": {
     "duration": 0.018549,
     "end_time": "2025-04-20T09:20:37.310974",
     "exception": false,
     "start_time": "2025-04-20T09:20:37.292425",
     "status": "completed"
    },
    "tags": []
   },
   "outputs": [],
   "source": [
    "def extract_brands(df: pl.DataFrame) -> pl.DataFrame:\n",
    "    global brands\n",
    "    brands_set = set(brands)\n",
    "\n",
    "    def find_brands(s: str) -> list[str]:\n",
    "        if s is None:\n",
    "            return []\n",
    "        words = s.split()\n",
    "        return list(set([word for word in words if word in brands_set]))\n",
    "\n",
    "    df = df.with_columns(\n",
    "        pl.col('name_1').map_elements(find_brands, return_dtype=pl.List(pl.Utf8)).alias('brands_name_1')\n",
    "    )\n",
    "    df = df.with_columns(\n",
    "        pl.col('description_1').map_elements(find_brands, return_dtype=pl.List(pl.Utf8)).alias('brands_desc_1')\n",
    "    )\n",
    "\n",
    "    df = df.with_columns(\n",
    "        pl.col('name_2').map_elements(find_brands, return_dtype=pl.List(pl.Utf8)).alias('brands_name_2')\n",
    "    )\n",
    "    df = df.with_columns(\n",
    "        pl.col('description_2').map_elements(find_brands, return_dtype=pl.List(pl.Utf8)).alias('brands_desc_2')\n",
    "    )\n",
    "    \n",
    "    return df"
   ]
  },
  {
   "cell_type": "code",
   "execution_count": 30,
   "id": "4e486178",
   "metadata": {
    "execution": {
     "iopub.execute_input": "2025-04-20T09:20:37.330666Z",
     "iopub.status.busy": "2025-04-20T09:20:37.330328Z",
     "iopub.status.idle": "2025-04-20T09:20:37.337090Z",
     "shell.execute_reply": "2025-04-20T09:20:37.336204Z"
    },
    "papermill": {
     "duration": 0.018783,
     "end_time": "2025-04-20T09:20:37.339026",
     "exception": false,
     "start_time": "2025-04-20T09:20:37.320243",
     "status": "completed"
    },
    "tags": []
   },
   "outputs": [],
   "source": [
    "def extract_colors(df: pl.DataFrame) -> pl.DataFrame:\n",
    "    global colors\n",
    "    colors_set = set(colors)\n",
    "\n",
    "    def find_colors(s: str) -> list[str]:\n",
    "        if s is None:\n",
    "            return []\n",
    "        words = s.split()\n",
    "        return list(set([word for word in words if word in colors_set]))\n",
    "\n",
    "    df = df.with_columns(\n",
    "        pl.col('name_1').map_elements(find_colors, return_dtype=pl.List(pl.Utf8)).alias('colors_name_1')\n",
    "    )\n",
    "    df = df.with_columns(\n",
    "        pl.col('description_1').map_elements(find_colors, return_dtype=pl.List(pl.Utf8)).alias('colors_desc_1')\n",
    "    )\n",
    "    \n",
    "    df = df.with_columns(\n",
    "        pl.col('name_2').map_elements(find_colors, return_dtype=pl.List(pl.Utf8)).alias('colors_name_2')\n",
    "    )\n",
    "    df = df.with_columns(\n",
    "        pl.col('description_2').map_elements(find_colors, return_dtype=pl.List(pl.Utf8)).alias('colors_desc_2')\n",
    "    )\n",
    "    \n",
    "    return df"
   ]
  },
  {
   "cell_type": "code",
   "execution_count": 31,
   "id": "f75a7849",
   "metadata": {
    "execution": {
     "iopub.execute_input": "2025-04-20T09:20:37.359650Z",
     "iopub.status.busy": "2025-04-20T09:20:37.359300Z",
     "iopub.status.idle": "2025-04-20T09:20:37.373232Z",
     "shell.execute_reply": "2025-04-20T09:20:37.372227Z"
    },
    "papermill": {
     "duration": 0.026691,
     "end_time": "2025-04-20T09:20:37.375177",
     "exception": false,
     "start_time": "2025-04-20T09:20:37.348486",
     "status": "completed"
    },
    "tags": []
   },
   "outputs": [],
   "source": [
    "def find_units(s: str) -> list[str]:\n",
    "    if s is None:\n",
    "        return []\n",
    "        \n",
    "    units = [\n",
    "        'мм', 'м', 'см', 'дм', 'км', 'нм', 'мкм', 'дюйм', 'сантиметр', 'миллиметр', 'километр', 'нанометр', 'km',\n",
    "        'мм²', 'см²', 'дм²', 'м²', 'км²',\n",
    "        'м³', 'см³', 'мм³',\n",
    "        'г', 'кг', 'мг', 'т', 'kg', 'g', 'грамм', 'килограмм', 'миллиграмм', 'mg',\n",
    "        'л', 'мл', 'куб\\.см', 'куб\\.м', 'литр', 'миллилитр', 'ml',\n",
    "        'гб', 'гбит', 'мб', 'мбит', 'кб', 'кбит', 'тб', 'тбит', 'байт', 'бит', 'гигабайт', 'гигабит', 'мегабайт', 'gb', 'kb', 'mb',\n",
    "        'час', 'ч', 'мин', 'сек', 'с', 'минут', 'секунд', 'min', 'sec', 'h',\n",
    "        'в', 'квт', 'мвт', 'вт', 'ва', 'ква', 'мва', 'а', 'ма', 'ка', 'мка', 'вольт', 'ампер', 'ампер-час', 'ач', 'мач', 'ватт', 'mah', 'w',\n",
    "        'ом', 'ohm', 'Ω', 'mΩ',\n",
    "        'ф', 'мкф', 'нф', 'пф', \n",
    "        'гц', 'кгц', 'мгц', 'ггц', 'герц', 'килогерц', 'мегагерц', 'гигагерц', 'hz', 'khz', 'mhz', 'ghz',\n",
    "        'дб', 'децибел', 'db',\n",
    "        'бар', 'паскаль', 'па', 'гпа', 'кпа', 'атм',\n",
    "        'градус', '°', 'рад', 'радиан',\n",
    "        '°c', '°f', 'град', 'цельсий', 'фаренгейт',\n",
    "        'процент', '%',\n",
    "        'шт', 'ед', 'штук',\n",
    "        'дж', 'кдж', 'ккал',\n",
    "        'моль',\n",
    "        'н', 'кн',\n",
    "        'лс', 'об/мин', 'км/ч', 'м/с', 'лошадиных сил', 'm/h', 'km/h', 'kmh', 'км/с', 'мм/с', 'миль/ч', \n",
    "        'г/см3', 'кг/м3',\n",
    "        'люмен', 'дптр',\n",
    "        'пиксель', 'пикс', 'px', 'dpi', 'ppi', 'кадр/с', 'fps',\n",
    "        'flops', 'gflops', 'tflops', 'mips', 'ipc',\n",
    "        '$', '€', '£', '¥', 'руб.', 'р.', 'rub', 'usd', 'eur',\n",
    "        'ядро', 'ядер', 'поток', 'потоков', 'thread', 'core', 'операций/с', 'op/s',\n",
    "        'дюймов', 'inch',\n",
    "        'MP', 'Мп', 'mpx', 'мегапиксель', 'мегапикселей',\n",
    "    ]\n",
    "    \n",
    "    units_sorted = sorted(units, key=len, reverse=True)\n",
    "    safe_units = [re.escape(u) for u in units_sorted]\n",
    "    units_pattern = '|'.join(safe_units)\n",
    "    \n",
    "    num_pattern = r'\\d+(?:[\\.,]\\d+)?'\n",
    "    pattern_string = rf'({num_pattern})(\\s)?({units_pattern})\\b'\n",
    "    \n",
    "    regex = re.compile(pattern_string, re.IGNORECASE)\n",
    "    matches = regex.findall(s)\n",
    "\n",
    "    unit_res = [f'{x[0]} {x[2]}' for x in matches]\n",
    "\n",
    "    size_pattern = r'(\\d+)\\s*[xх*]\\s*(\\d+)(?:\\s*[xх*]\\s*(\\d+))?'\n",
    "    matches = re.findall(size_pattern, s)\n",
    "    dim_res = []\n",
    "    for match in matches:\n",
    "        if match[2]: # 3d\n",
    "            dim_res.append(f'{match[0]}x{match[1]}x{match[2]}') \n",
    "        else: # 2d\n",
    "            dim_res.append(f'{match[0]}x{match[1]}')\n",
    "    \n",
    "    return list(set(unit_res + dim_res))\n",
    "\n",
    "def extract_units(df: pl.DataFrame) -> pl.DataFrame:\n",
    "    df = df.with_columns(\n",
    "        pl.col('name_1').map_elements(find_units, return_dtype=pl.List(pl.Utf8)).alias('units_name_1')\n",
    "    )\n",
    "    df = df.with_columns(\n",
    "        pl.col('description_1').map_elements(find_units, return_dtype=pl.List(pl.Utf8)).alias('units_desc_1')\n",
    "    )\n",
    "    \n",
    "    df = df.with_columns(\n",
    "        pl.col('name_2').map_elements(find_units, return_dtype=pl.List(pl.Utf8)).alias('units_name_2')\n",
    "    )\n",
    "    df = df.with_columns(\n",
    "        pl.col('description_2').map_elements(find_units, return_dtype=pl.List(pl.Utf8)).alias('units_desc_2')\n",
    "    )\n",
    "    \n",
    "    return df"
   ]
  },
  {
   "cell_type": "code",
   "execution_count": 32,
   "id": "913dd114",
   "metadata": {
    "execution": {
     "iopub.execute_input": "2025-04-20T09:20:37.394823Z",
     "iopub.status.busy": "2025-04-20T09:20:37.394467Z",
     "iopub.status.idle": "2025-04-20T09:20:37.401170Z",
     "shell.execute_reply": "2025-04-20T09:20:37.399914Z"
    },
    "papermill": {
     "duration": 0.018628,
     "end_time": "2025-04-20T09:20:37.403055",
     "exception": false,
     "start_time": "2025-04-20T09:20:37.384427",
     "status": "completed"
    },
    "tags": []
   },
   "outputs": [],
   "source": [
    "def fit_tfidf_vectorizers_combined(data: pl.DataFrame) -> Dict[str, TfidfVectorizer]:\n",
    "    global groups, tfidf_vectorizers\n",
    "    \n",
    "    for group_name, group_info in groups.items():\n",
    "        columns = group_info['columns']\n",
    "        params = group_info['params']\n",
    "        \n",
    "        combined_texts = []\n",
    "        for col in columns:\n",
    "            curr_data = [str(x) for x in data[col].to_list() if x is not None]\n",
    "            combined_texts.extend(curr_data)\n",
    "        \n",
    "        unique_texts = list(set(combined_texts))\n",
    "        vectorizer = TfidfVectorizer(**params)\n",
    "        vectorizer.fit(unique_texts)\n",
    "        tfidf_vectorizers[group_name] = vectorizer\n",
    "        \n",
    "        with open(f'{group_name}_tfidf_vectorizer.pkl', 'wb') as f:\n",
    "            pickle.dump(vectorizer, f)\n",
    "    \n",
    "    return data"
   ]
  },
  {
   "cell_type": "code",
   "execution_count": 33,
   "id": "4bacb13c",
   "metadata": {
    "execution": {
     "iopub.execute_input": "2025-04-20T09:20:37.423591Z",
     "iopub.status.busy": "2025-04-20T09:20:37.423213Z",
     "iopub.status.idle": "2025-04-20T09:20:37.430379Z",
     "shell.execute_reply": "2025-04-20T09:20:37.429329Z"
    },
    "papermill": {
     "duration": 0.019563,
     "end_time": "2025-04-20T09:20:37.432338",
     "exception": false,
     "start_time": "2025-04-20T09:20:37.412775",
     "status": "completed"
    },
    "tags": []
   },
   "outputs": [],
   "source": [
    "def tfidf_emb_gen_combined(\n",
    "    data: pl.DataFrame,\n",
    "    batch_size: int = 5000\n",
    ") -> pl.DataFrame:\n",
    "    global groups, tfidf_vectorizers\n",
    "    \n",
    "    for group_name, group_info in groups.items():\n",
    "        columns = group_info['columns']\n",
    "        vectorizer = tfidf_vectorizers[group_name]\n",
    "        \n",
    "        for col in columns:\n",
    "            tfidf_col_sparse = []\n",
    "            total_rows = len(data)\n",
    "            \n",
    "            for start in tqdm(\n",
    "                range(0, total_rows, batch_size),\n",
    "                desc=f'Processing {col}',\n",
    "                bar_format='{l_bar}{bar}| {n_fmt}/{total_fmt}',\n",
    "                colour='yellow'\n",
    "            ):\n",
    "                end = min(start + batch_size, total_rows)\n",
    "                \n",
    "                batch_texts = (data.slice(start, end - start)\n",
    "                    .get_column(col)\n",
    "                    .cast(pl.Utf8)\n",
    "                    .to_list()\n",
    "                )\n",
    "                tfidf_batch_sparse = vectorizer.transform(batch_texts)\n",
    "                tfidf_col_sparse.append(tfidf_batch_sparse)\n",
    "            \n",
    "            tfidf_col_sparse = sp.vstack(tfidf_col_sparse)\n",
    "            sparse_rows = [row for row in tfidf_col_sparse]\n",
    "            \n",
    "            data = data.with_columns(pl.Series(f'{col}_tfidf', sparse_rows))\n",
    "    \n",
    "    return data"
   ]
  },
  {
   "cell_type": "code",
   "execution_count": 34,
   "id": "a013a2fa",
   "metadata": {
    "execution": {
     "iopub.execute_input": "2025-04-20T09:20:37.478684Z",
     "iopub.status.busy": "2025-04-20T09:20:37.478324Z",
     "iopub.status.idle": "2025-04-20T09:20:37.483251Z",
     "shell.execute_reply": "2025-04-20T09:20:37.482260Z"
    },
    "papermill": {
     "duration": 0.016968,
     "end_time": "2025-04-20T09:20:37.485049",
     "exception": false,
     "start_time": "2025-04-20T09:20:37.468081",
     "status": "completed"
    },
    "tags": []
   },
   "outputs": [],
   "source": [
    "def find_anti_words(row):\n",
    "    words1 = set(re.findall(r'([a-z]+)', row['name_1'].lower()))\n",
    "    words2 = set(re.findall(r'([a-z]+)', row['name_2'].lower()))\n",
    "    xor_words = words1.symmetric_difference(words2)\n",
    "    return list(xor_words)"
   ]
  },
  {
   "cell_type": "code",
   "execution_count": 35,
   "id": "72100cc2",
   "metadata": {
    "execution": {
     "iopub.execute_input": "2025-04-20T09:20:37.504671Z",
     "iopub.status.busy": "2025-04-20T09:20:37.504296Z",
     "iopub.status.idle": "2025-04-20T09:20:37.514058Z",
     "shell.execute_reply": "2025-04-20T09:20:37.512876Z"
    },
    "papermill": {
     "duration": 0.021644,
     "end_time": "2025-04-20T09:20:37.516011",
     "exception": false,
     "start_time": "2025-04-20T09:20:37.494367",
     "status": "completed"
    },
    "tags": []
   },
   "outputs": [],
   "source": [
    "def calculate_idf_by_category_level(data, level):\n",
    "    kv_idf_by_models = {}\n",
    "    category_col = f'category_level_{level}'\n",
    "    unique_categories = data.select(category_col).unique().to_series().to_list()\n",
    "\n",
    "    for group_cat in unique_categories:\n",
    "        sub_group_df = data.filter(pl.col(category_col) == group_cat)\n",
    "        series_charactes = sub_group_df.select('characteristic_attributes_mapping').to_series()\n",
    "        \n",
    "        keys_idf = Counter()\n",
    "        values_idf = {}\n",
    "        \n",
    "        for row in series_charactes:\n",
    "            if row is None:\n",
    "                continue\n",
    "            row = json.loads(row)\n",
    "            for k, v in row.items():\n",
    "                keys_idf[k] += 1\n",
    "                if k not in values_idf:\n",
    "                    values_idf[k] = Counter()\n",
    "                values_idf[k][v] += 1\n",
    "                        \n",
    "        kv_idf_by_models[group_cat] = (keys_idf, values_idf, len(series_charactes))\n",
    "\n",
    "    pop_characts_tf_idf = {}\n",
    "\n",
    "    for group_cat in unique_categories:\n",
    "        characters = kv_idf_by_models[group_cat][0]\n",
    "        items_in_group = kv_idf_by_models[group_cat][2]        \n",
    "        characters_list = []\n",
    "        \n",
    "        for k in characters:\n",
    "            counts_k = kv_idf_by_models[group_cat][0][k]\n",
    "            key_tf = counts_k / items_in_group\n",
    "            counts_v = len(kv_idf_by_models[group_cat][1][k].keys())\n",
    "            if counts_v == 0:\n",
    "                print(f'{k=} in {group_cat=} has 0 unique values')\n",
    "                continue\n",
    "            value_idf = np.log(counts_k / counts_v)\n",
    "            tf_idf = key_tf * value_idf\n",
    "            characters_list.append((tf_idf, k))\n",
    "            \n",
    "        pop_characts_tf_idf[group_cat] = sorted(characters_list, reverse=True)\n",
    "\n",
    "    with open(f'../data/preprocessed/pop_characts_tf_idf_level_{level}.pkl', 'wb') as file:\n",
    "        pickle.dump(pop_characts_tf_idf, file)\n",
    "\n",
    "    return pop_characts_tf_idf"
   ]
  },
  {
   "cell_type": "code",
   "execution_count": 36,
   "id": "25fcddb7",
   "metadata": {
    "execution": {
     "iopub.execute_input": "2025-04-20T09:20:37.536017Z",
     "iopub.status.busy": "2025-04-20T09:20:37.535654Z",
     "iopub.status.idle": "2025-04-20T09:20:37.539796Z",
     "shell.execute_reply": "2025-04-20T09:20:37.538720Z"
    },
    "papermill": {
     "duration": 0.016363,
     "end_time": "2025-04-20T09:20:37.541709",
     "exception": false,
     "start_time": "2025-04-20T09:20:37.525346",
     "status": "completed"
    },
    "tags": []
   },
   "outputs": [],
   "source": [
    "# full_df = full_df.sample(n=10000, shuffle=True)"
   ]
  },
  {
   "cell_type": "code",
   "execution_count": null,
   "id": "e3a1ce68",
   "metadata": {
    "execution": {
     "iopub.execute_input": "2025-04-20T09:20:37.561536Z",
     "iopub.status.busy": "2025-04-20T09:20:37.561184Z",
     "iopub.status.idle": "2025-04-20T09:20:37.567618Z",
     "shell.execute_reply": "2025-04-20T09:20:37.566629Z"
    },
    "papermill": {
     "duration": 0.018359,
     "end_time": "2025-04-20T09:20:37.569428",
     "exception": false,
     "start_time": "2025-04-20T09:20:37.551069",
     "status": "completed"
    },
    "tags": []
   },
   "outputs": [
    {
     "ename": "",
     "evalue": "",
     "output_type": "error",
     "traceback": [
      "\u001b[1;31mThe Kernel crashed while executing code in the current cell or a previous cell. \n",
      "\u001b[1;31mPlease review the code in the cell(s) to identify a possible cause of the failure. \n",
      "\u001b[1;31mClick <a href='https://aka.ms/vscodeJupyterKernelCrash'>here</a> for more info. \n",
      "\u001b[1;31mView Jupyter <a href='command:jupyter.viewOutput'>log</a> for further details."
     ]
    }
   ],
   "source": [
    "processing_pipeline = [\n",
    "    normalize_names,\n",
    "    normalize_en_names,\n",
    "    normalize_mixed_names,\n",
    "    normalize_desc,\n",
    "    normalize_en_desc,\n",
    "    normalize_mixed_desc,\n",
    "    get_kv_from_attrs,\n",
    "    normalize_characteristic_attributes,\n",
    "    get_digits_elements,\n",
    "    get_lengths,\n",
    "    extract_units,\n",
    "    extract_brands,\n",
    "    extract_colors,\n",
    "    fit_tfidf_vectorizers_combined,\n",
    "    tfidf_emb_gen_combined\n",
    "]\n",
    "\n",
    "def preprocessing(data: pl.DataFrame, pipeline: List[Callable]) -> pl.DataFrame:\n",
    "    with tqdm(pipeline, desc='Data Preprocessing') as pbar:\n",
    "        for func in pbar:\n",
    "            pbar.set_postfix({'current_operation': func.__name__})\n",
    "            data = func(data)\n",
    "    return data\n",
    "\n",
    "tfidf_vectorizers = {}    \n",
    "\n",
    "groups = {\n",
    "    'concat_keyval': {\n",
    "        'columns': ['concat_keyval_1', 'concat_keyval_2'],\n",
    "        'params': {'tokenizer': str.split, 'preprocessor': None, 'token_pattern': None}\n",
    "    },\n",
    "    'name': {\n",
    "        'columns': ['name_1', 'name_2'],\n",
    "        'params': {}\n",
    "    },\n",
    "    'description': {\n",
    "        'columns': ['description_1', 'description_2'],\n",
    "        'params': {}\n",
    "    }\n",
    "}"
   ]
  },
  {
   "cell_type": "code",
   "execution_count": null,
   "id": "9380a14b",
   "metadata": {
    "execution": {
     "iopub.execute_input": "2025-04-20T09:20:37.589565Z",
     "iopub.status.busy": "2025-04-20T09:20:37.589191Z",
     "iopub.status.idle": "2025-04-20T11:12:52.749081Z",
     "shell.execute_reply": "2025-04-20T11:12:52.746299Z"
    },
    "papermill": {
     "duration": 6735.179286,
     "end_time": "2025-04-20T11:12:52.758202",
     "exception": false,
     "start_time": "2025-04-20T09:20:37.578916",
     "status": "completed"
    },
    "tags": []
   },
   "outputs": [
    {
     "data": {
      "application/vnd.jupyter.widget-view+json": {
       "model_id": "a06c0831fda243bfab54266a353247ec",
       "version_major": 2,
       "version_minor": 0
      },
      "text/plain": [
       "Data Preprocessing:   0%|          | 0/15 [00:00<?, ?it/s]"
      ]
     },
     "metadata": {},
     "output_type": "display_data"
    },
    {
     "data": {
      "application/vnd.jupyter.widget-view+json": {
       "model_id": "b3e45bb37854471ea4ab110e6b8b1da0",
       "version_major": 2,
       "version_minor": 0
      },
      "text/plain": [
       "Processing concat_keyval_1:   0%|          | 0/476"
      ]
     },
     "metadata": {},
     "output_type": "display_data"
    },
    {
     "data": {
      "application/vnd.jupyter.widget-view+json": {
       "model_id": "49e64ddf240442a7b396fe890e02b2b8",
       "version_major": 2,
       "version_minor": 0
      },
      "text/plain": [
       "Processing concat_keyval_2:   0%|          | 0/476"
      ]
     },
     "metadata": {},
     "output_type": "display_data"
    },
    {
     "data": {
      "application/vnd.jupyter.widget-view+json": {
       "model_id": "453acaa175944a038753b3b891520fbf",
       "version_major": 2,
       "version_minor": 0
      },
      "text/plain": [
       "Processing name_1:   0%|          | 0/476"
      ]
     },
     "metadata": {},
     "output_type": "display_data"
    },
    {
     "data": {
      "application/vnd.jupyter.widget-view+json": {
       "model_id": "1284cd0b7dfb47cea289fe89e8c91043",
       "version_major": 2,
       "version_minor": 0
      },
      "text/plain": [
       "Processing name_2:   0%|          | 0/476"
      ]
     },
     "metadata": {},
     "output_type": "display_data"
    }
   ],
   "source": [
    "preprocessed_df = preprocessing(full_df, processing_pipeline)"
   ]
  },
  {
   "cell_type": "code",
   "execution_count": null,
   "id": "46040ed6",
   "metadata": {
    "execution": {
     "iopub.execute_input": "2025-04-20T11:12:52.781685Z",
     "iopub.status.busy": "2025-04-20T11:12:52.781191Z",
     "iopub.status.idle": "2025-04-20T11:16:01.969546Z",
     "shell.execute_reply": "2025-04-20T11:16:01.963847Z"
    },
    "papermill": {
     "duration": 189.205118,
     "end_time": "2025-04-20T11:16:01.974883",
     "exception": false,
     "start_time": "2025-04-20T11:12:52.769765",
     "status": "completed"
    },
    "tags": []
   },
   "outputs": [],
   "source": [
    "preprocessed_df.drop(\n",
    "    [c for c in preprocessed_df.columns if 'tfidf' in c]\n",
    ").write_parquet('../data/preprocessed/all_products_preprocessed.parquet')\n",
    "\n",
    "for col in [c for c in preprocessed_df.columns if 'tfidf' in c]:\n",
    "    matrices = preprocessed_df[col].to_list()\n",
    "    sp.save_npz(f'../data/preprocessed/{col}_matrices.npz', sp.vstack(matrices))"
   ]
  },
  {
   "cell_type": "code",
   "execution_count": null,
   "id": "c677dd49",
   "metadata": {
    "execution": {
     "iopub.execute_input": "2025-04-20T11:16:28.004477Z",
     "iopub.status.busy": "2025-04-20T11:16:28.004071Z",
     "iopub.status.idle": "2025-04-20T11:17:13.339660Z",
     "shell.execute_reply": "2025-04-20T11:17:13.338473Z"
    },
    "papermill": {
     "duration": 45.348672,
     "end_time": "2025-04-20T11:17:13.342061",
     "exception": false,
     "start_time": "2025-04-20T11:16:27.993389",
     "status": "completed"
    },
    "tags": []
   },
   "outputs": [],
   "source": [
    "filtered = full_df.filter(pl.col('is_double') == 0)\n",
    "result = (\n",
    "    filtered\n",
    "    .with_columns(\n",
    "        pl.struct(['name_1', 'name_2']).map_elements(find_anti_words, return_dtype=pl.List(pl.Utf8)).alias('xor_words')\n",
    "    )\n",
    ")"
   ]
  },
  {
   "cell_type": "code",
   "execution_count": null,
   "id": "05fbcda6",
   "metadata": {
    "execution": {
     "iopub.execute_input": "2025-04-20T11:17:13.368083Z",
     "iopub.status.busy": "2025-04-20T11:17:13.367702Z",
     "iopub.status.idle": "2025-04-20T11:17:28.152520Z",
     "shell.execute_reply": "2025-04-20T11:17:28.151340Z"
    },
    "papermill": {
     "duration": 14.802042,
     "end_time": "2025-04-20T11:17:28.154664",
     "exception": false,
     "start_time": "2025-04-20T11:17:13.352622",
     "status": "completed"
    },
    "tags": []
   },
   "outputs": [],
   "source": [
    "anti_words = Counter()\n",
    "\n",
    "for words in result['xor_words']:\n",
    "    anti_words.update(words)\n",
    "\n",
    "filtered_anti_words = Counter({word: count for word, count in anti_words.items() if len(word) > 2})"
   ]
  },
  {
   "cell_type": "code",
   "execution_count": null,
   "id": "8a421dd7",
   "metadata": {
    "execution": {
     "iopub.execute_input": "2025-04-20T11:17:28.175385Z",
     "iopub.status.busy": "2025-04-20T11:17:28.174991Z",
     "iopub.status.idle": "2025-04-20T11:17:28.227440Z",
     "shell.execute_reply": "2025-04-20T11:17:28.226380Z"
    },
    "papermill": {
     "duration": 0.065108,
     "end_time": "2025-04-20T11:17:28.229651",
     "exception": false,
     "start_time": "2025-04-20T11:17:28.164543",
     "status": "completed"
    },
    "tags": []
   },
   "outputs": [],
   "source": [
    "with open('../data/preprocessed/anti_words.pkl', 'wb') as file:\n",
    "    pickle.dump(anti_words, file)\n",
    "\n",
    "with open('../data/preprocessed/filtered_anti_words.pkl', 'wb') as file:\n",
    "    pickle.dump(filtered_anti_words, file)"
   ]
  },
  {
   "cell_type": "code",
   "execution_count": null,
   "id": "bb123a0e",
   "metadata": {
    "execution": {
     "iopub.execute_input": "2025-04-20T11:17:28.250789Z",
     "iopub.status.busy": "2025-04-20T11:17:28.250432Z",
     "iopub.status.idle": "2025-04-20T11:17:28.271936Z",
     "shell.execute_reply": "2025-04-20T11:17:28.270862Z"
    },
    "papermill": {
     "duration": 0.038041,
     "end_time": "2025-04-20T11:17:28.277640",
     "exception": false,
     "start_time": "2025-04-20T11:17:28.239599",
     "status": "completed"
    },
    "tags": []
   },
   "outputs": [
    {
     "data": {
      "text/plain": [
       "[('nike', 12),\n",
       " ('adidas', 11),\n",
       " ('pro', 11),\n",
       " ('ford', 10),\n",
       " ('samsung', 10),\n",
       " ('air', 9),\n",
       " ('max', 8),\n",
       " ('black', 8),\n",
       " ('plus', 8),\n",
       " ('jordan', 7)]"
      ]
     },
     "execution_count": 55,
     "metadata": {},
     "output_type": "execute_result"
    }
   ],
   "source": [
    "filtered_anti_words.most_common(10)"
   ]
  },
  {
   "cell_type": "code",
   "execution_count": null,
   "id": "f562fc6b",
   "metadata": {},
   "outputs": [],
   "source": [
    "data = normalize_characteristic_attributes_prikol(data)"
   ]
  },
  {
   "cell_type": "code",
   "execution_count": null,
   "id": "c72df6c7",
   "metadata": {
    "execution": {
     "iopub.execute_input": "2025-04-20T11:17:28.298552Z",
     "iopub.status.busy": "2025-04-20T11:17:28.298212Z",
     "iopub.status.idle": "2025-04-20T11:20:19.031934Z",
     "shell.execute_reply": "2025-04-20T11:20:19.030800Z"
    },
    "papermill": {
     "duration": 170.747099,
     "end_time": "2025-04-20T11:20:19.034706",
     "exception": false,
     "start_time": "2025-04-20T11:17:28.287607",
     "status": "completed"
    },
    "tags": []
   },
   "outputs": [
    {
     "name": "stderr",
     "output_type": "stream",
     "text": [
      "/tmp/ipykernel_1939/3776242802.py:7: UserWarning: Comparisons with None always result in null. Consider using `.is_null()` or `.is_not_null()`.\n",
      "  sub_group_df = data.filter(pl.col(category_col) == group_cat)\n"
     ]
    }
   ],
   "source": [
    "pop_characts_tf_idf_c1 = calculate_idf_by_category_level(data, 1)\n",
    "pop_characts_tf_idf_c2 = calculate_idf_by_category_level(data, 2)\n",
    "pop_characts_tf_idf_c3 = calculate_idf_by_category_level(data, 3)\n",
    "pop_characts_tf_idf_c4 = calculate_idf_by_category_level(data, 4)"
   ]
  }
 ],
 "metadata": {
  "kaggle": {
   "accelerator": "none",
   "dataSources": [
    {
     "datasetId": 7019697,
     "sourceId": 11236562,
     "sourceType": "datasetVersion"
    },
    {
     "datasetId": 7192513,
     "sourceId": 11476177,
     "sourceType": "datasetVersion"
    }
   ],
   "dockerImageVersionId": 30918,
   "isGpuEnabled": false,
   "isInternetEnabled": true,
   "language": "python",
   "sourceType": "notebook"
  },
  "kernelspec": {
   "display_name": "Python 3",
   "language": "python",
   "name": "python3"
  },
  "language_info": {
   "codemirror_mode": {
    "name": "ipython",
    "version": 3
   },
   "file_extension": ".py",
   "mimetype": "text/x-python",
   "name": "python",
   "nbconvert_exporter": "python",
   "pygments_lexer": "ipython3",
   "version": "3.10.12"
  },
  "papermill": {
   "default_parameters": {},
   "duration": 7254.067034,
   "end_time": "2025-04-20T11:20:21.788196",
   "environment_variables": {},
   "exception": null,
   "input_path": "__notebook__.ipynb",
   "output_path": "__notebook__.ipynb",
   "parameters": {},
   "start_time": "2025-04-20T09:19:27.721162",
   "version": "2.6.0"
  },
  "widgets": {
   "application/vnd.jupyter.widget-state+json": {
    "state": {
     "011833c52e6746689ca4f15c6deb0330": {
      "model_module": "@jupyter-widgets/controls",
      "model_module_version": "2.0.0",
      "model_name": "ProgressStyleModel",
      "state": {
       "_model_module": "@jupyter-widgets/controls",
       "_model_module_version": "2.0.0",
       "_model_name": "ProgressStyleModel",
       "_view_count": null,
       "_view_module": "@jupyter-widgets/base",
       "_view_module_version": "2.0.0",
       "_view_name": "StyleView",
       "bar_color": null,
       "description_width": ""
      }
     },
     "0d24f31797ff4f7d8e5ea3bfc7752469": {
      "model_module": "@jupyter-widgets/controls",
      "model_module_version": "2.0.0",
      "model_name": "HTMLModel",
      "state": {
       "_dom_classes": [],
       "_model_module": "@jupyter-widgets/controls",
       "_model_module_version": "2.0.0",
       "_model_name": "HTMLModel",
       "_view_count": null,
       "_view_module": "@jupyter-widgets/controls",
       "_view_module_version": "2.0.0",
       "_view_name": "HTMLView",
       "description": "",
       "description_allow_html": false,
       "layout": "IPY_MODEL_276376e28ca74c81842ef8014eac12f1",
       "placeholder": "​",
       "style": "IPY_MODEL_8be2639bbee543748a0804d6b32529b4",
       "tabbable": null,
       "tooltip": null,
       "value": "Data Preprocessing: 100%"
      }
     },
     "0d944de7f05d426f821fcb3b1e713e0a": {
      "model_module": "@jupyter-widgets/base",
      "model_module_version": "2.0.0",
      "model_name": "LayoutModel",
      "state": {
       "_model_module": "@jupyter-widgets/base",
       "_model_module_version": "2.0.0",
       "_model_name": "LayoutModel",
       "_view_count": null,
       "_view_module": "@jupyter-widgets/base",
       "_view_module_version": "2.0.0",
       "_view_name": "LayoutView",
       "align_content": null,
       "align_items": null,
       "align_self": null,
       "border_bottom": null,
       "border_left": null,
       "border_right": null,
       "border_top": null,
       "bottom": null,
       "display": null,
       "flex": null,
       "flex_flow": null,
       "grid_area": null,
       "grid_auto_columns": null,
       "grid_auto_flow": null,
       "grid_auto_rows": null,
       "grid_column": null,
       "grid_gap": null,
       "grid_row": null,
       "grid_template_areas": null,
       "grid_template_columns": null,
       "grid_template_rows": null,
       "height": null,
       "justify_content": null,
       "justify_items": null,
       "left": null,
       "margin": null,
       "max_height": null,
       "max_width": null,
       "min_height": null,
       "min_width": null,
       "object_fit": null,
       "object_position": null,
       "order": null,
       "overflow": null,
       "padding": null,
       "right": null,
       "top": null,
       "visibility": null,
       "width": null
      }
     },
     "147d8bd7aa834cadbfd0006b0f88b124": {
      "model_module": "@jupyter-widgets/controls",
      "model_module_version": "2.0.0",
      "model_name": "HBoxModel",
      "state": {
       "_dom_classes": [],
       "_model_module": "@jupyter-widgets/controls",
       "_model_module_version": "2.0.0",
       "_model_name": "HBoxModel",
       "_view_count": null,
       "_view_module": "@jupyter-widgets/controls",
       "_view_module_version": "2.0.0",
       "_view_name": "HBoxView",
       "box_style": "",
       "children": [
        "IPY_MODEL_0d24f31797ff4f7d8e5ea3bfc7752469",
        "IPY_MODEL_ad63516229e248de85ff8d73be1c4367",
        "IPY_MODEL_678684046a8043df925ccdbbc0fce200"
       ],
       "layout": "IPY_MODEL_80bc14ee47d845e7992d889bac23a4a2",
       "tabbable": null,
       "tooltip": null
      }
     },
     "25c823f112bb45438a13d58876ca0491": {
      "model_module": "@jupyter-widgets/controls",
      "model_module_version": "2.0.0",
      "model_name": "HTMLModel",
      "state": {
       "_dom_classes": [],
       "_model_module": "@jupyter-widgets/controls",
       "_model_module_version": "2.0.0",
       "_model_name": "HTMLModel",
       "_view_count": null,
       "_view_module": "@jupyter-widgets/controls",
       "_view_module_version": "2.0.0",
       "_view_name": "HTMLView",
       "description": "",
       "description_allow_html": false,
       "layout": "IPY_MODEL_4fb7013347f94c38b1bd4a34394283c5",
       "placeholder": "​",
       "style": "IPY_MODEL_7c858ae988844ea187f9252efce828ff",
       "tabbable": null,
       "tooltip": null,
       "value": "100%"
      }
     },
     "276376e28ca74c81842ef8014eac12f1": {
      "model_module": "@jupyter-widgets/base",
      "model_module_version": "2.0.0",
      "model_name": "LayoutModel",
      "state": {
       "_model_module": "@jupyter-widgets/base",
       "_model_module_version": "2.0.0",
       "_model_name": "LayoutModel",
       "_view_count": null,
       "_view_module": "@jupyter-widgets/base",
       "_view_module_version": "2.0.0",
       "_view_name": "LayoutView",
       "align_content": null,
       "align_items": null,
       "align_self": null,
       "border_bottom": null,
       "border_left": null,
       "border_right": null,
       "border_top": null,
       "bottom": null,
       "display": null,
       "flex": null,
       "flex_flow": null,
       "grid_area": null,
       "grid_auto_columns": null,
       "grid_auto_flow": null,
       "grid_auto_rows": null,
       "grid_column": null,
       "grid_gap": null,
       "grid_row": null,
       "grid_template_areas": null,
       "grid_template_columns": null,
       "grid_template_rows": null,
       "height": null,
       "justify_content": null,
       "justify_items": null,
       "left": null,
       "margin": null,
       "max_height": null,
       "max_width": null,
       "min_height": null,
       "min_width": null,
       "object_fit": null,
       "object_position": null,
       "order": null,
       "overflow": null,
       "padding": null,
       "right": null,
       "top": null,
       "visibility": null,
       "width": null
      }
     },
     "48285ac4c0f64fca8d7e7ccfcbaac51c": {
      "model_module": "@jupyter-widgets/controls",
      "model_module_version": "2.0.0",
      "model_name": "HBoxModel",
      "state": {
       "_dom_classes": [],
       "_model_module": "@jupyter-widgets/controls",
       "_model_module_version": "2.0.0",
       "_model_name": "HBoxModel",
       "_view_count": null,
       "_view_module": "@jupyter-widgets/controls",
       "_view_module_version": "2.0.0",
       "_view_name": "HBoxView",
       "box_style": "",
       "children": [
        "IPY_MODEL_25c823f112bb45438a13d58876ca0491",
        "IPY_MODEL_80dd841a331f4dc6a491cf47afc2ebc5",
        "IPY_MODEL_84418f0b740e4547a8489588d5ea1944"
       ],
       "layout": "IPY_MODEL_55b0f3adf9994350b89cc0351eb5d417",
       "tabbable": null,
       "tooltip": null
      }
     },
     "4fb7013347f94c38b1bd4a34394283c5": {
      "model_module": "@jupyter-widgets/base",
      "model_module_version": "2.0.0",
      "model_name": "LayoutModel",
      "state": {
       "_model_module": "@jupyter-widgets/base",
       "_model_module_version": "2.0.0",
       "_model_name": "LayoutModel",
       "_view_count": null,
       "_view_module": "@jupyter-widgets/base",
       "_view_module_version": "2.0.0",
       "_view_name": "LayoutView",
       "align_content": null,
       "align_items": null,
       "align_self": null,
       "border_bottom": null,
       "border_left": null,
       "border_right": null,
       "border_top": null,
       "bottom": null,
       "display": null,
       "flex": null,
       "flex_flow": null,
       "grid_area": null,
       "grid_auto_columns": null,
       "grid_auto_flow": null,
       "grid_auto_rows": null,
       "grid_column": null,
       "grid_gap": null,
       "grid_row": null,
       "grid_template_areas": null,
       "grid_template_columns": null,
       "grid_template_rows": null,
       "height": null,
       "justify_content": null,
       "justify_items": null,
       "left": null,
       "margin": null,
       "max_height": null,
       "max_width": null,
       "min_height": null,
       "min_width": null,
       "object_fit": null,
       "object_position": null,
       "order": null,
       "overflow": null,
       "padding": null,
       "right": null,
       "top": null,
       "visibility": null,
       "width": null
      }
     },
     "528e884e192448f2b93cc61bc0622ebe": {
      "model_module": "@jupyter-widgets/controls",
      "model_module_version": "2.0.0",
      "model_name": "HTMLStyleModel",
      "state": {
       "_model_module": "@jupyter-widgets/controls",
       "_model_module_version": "2.0.0",
       "_model_name": "HTMLStyleModel",
       "_view_count": null,
       "_view_module": "@jupyter-widgets/base",
       "_view_module_version": "2.0.0",
       "_view_name": "StyleView",
       "background": null,
       "description_width": "",
       "font_size": null,
       "text_color": null
      }
     },
     "55b0f3adf9994350b89cc0351eb5d417": {
      "model_module": "@jupyter-widgets/base",
      "model_module_version": "2.0.0",
      "model_name": "LayoutModel",
      "state": {
       "_model_module": "@jupyter-widgets/base",
       "_model_module_version": "2.0.0",
       "_model_name": "LayoutModel",
       "_view_count": null,
       "_view_module": "@jupyter-widgets/base",
       "_view_module_version": "2.0.0",
       "_view_name": "LayoutView",
       "align_content": null,
       "align_items": null,
       "align_self": null,
       "border_bottom": null,
       "border_left": null,
       "border_right": null,
       "border_top": null,
       "bottom": null,
       "display": null,
       "flex": null,
       "flex_flow": null,
       "grid_area": null,
       "grid_auto_columns": null,
       "grid_auto_flow": null,
       "grid_auto_rows": null,
       "grid_column": null,
       "grid_gap": null,
       "grid_row": null,
       "grid_template_areas": null,
       "grid_template_columns": null,
       "grid_template_rows": null,
       "height": null,
       "justify_content": null,
       "justify_items": null,
       "left": null,
       "margin": null,
       "max_height": null,
       "max_width": null,
       "min_height": null,
       "min_width": null,
       "object_fit": null,
       "object_position": null,
       "order": null,
       "overflow": null,
       "padding": null,
       "right": null,
       "top": null,
       "visibility": null,
       "width": null
      }
     },
     "678684046a8043df925ccdbbc0fce200": {
      "model_module": "@jupyter-widgets/controls",
      "model_module_version": "2.0.0",
      "model_name": "HTMLModel",
      "state": {
       "_dom_classes": [],
       "_model_module": "@jupyter-widgets/controls",
       "_model_module_version": "2.0.0",
       "_model_name": "HTMLModel",
       "_view_count": null,
       "_view_module": "@jupyter-widgets/controls",
       "_view_module_version": "2.0.0",
       "_view_name": "HTMLView",
       "description": "",
       "description_allow_html": false,
       "layout": "IPY_MODEL_bd1a8b34da5c48358ade87fec594a414",
       "placeholder": "​",
       "style": "IPY_MODEL_528e884e192448f2b93cc61bc0622ebe",
       "tabbable": null,
       "tooltip": null,
       "value": " 13/13 [1:52:15&lt;00:00, 514.16s/it, current_operation=extract_colors]"
      }
     },
     "7c858ae988844ea187f9252efce828ff": {
      "model_module": "@jupyter-widgets/controls",
      "model_module_version": "2.0.0",
      "model_name": "HTMLStyleModel",
      "state": {
       "_model_module": "@jupyter-widgets/controls",
       "_model_module_version": "2.0.0",
       "_model_name": "HTMLStyleModel",
       "_view_count": null,
       "_view_module": "@jupyter-widgets/base",
       "_view_module_version": "2.0.0",
       "_view_name": "StyleView",
       "background": null,
       "description_width": "",
       "font_size": null,
       "text_color": null
      }
     },
     "80bc14ee47d845e7992d889bac23a4a2": {
      "model_module": "@jupyter-widgets/base",
      "model_module_version": "2.0.0",
      "model_name": "LayoutModel",
      "state": {
       "_model_module": "@jupyter-widgets/base",
       "_model_module_version": "2.0.0",
       "_model_name": "LayoutModel",
       "_view_count": null,
       "_view_module": "@jupyter-widgets/base",
       "_view_module_version": "2.0.0",
       "_view_name": "LayoutView",
       "align_content": null,
       "align_items": null,
       "align_self": null,
       "border_bottom": null,
       "border_left": null,
       "border_right": null,
       "border_top": null,
       "bottom": null,
       "display": null,
       "flex": null,
       "flex_flow": null,
       "grid_area": null,
       "grid_auto_columns": null,
       "grid_auto_flow": null,
       "grid_auto_rows": null,
       "grid_column": null,
       "grid_gap": null,
       "grid_row": null,
       "grid_template_areas": null,
       "grid_template_columns": null,
       "grid_template_rows": null,
       "height": null,
       "justify_content": null,
       "justify_items": null,
       "left": null,
       "margin": null,
       "max_height": null,
       "max_width": null,
       "min_height": null,
       "min_width": null,
       "object_fit": null,
       "object_position": null,
       "order": null,
       "overflow": null,
       "padding": null,
       "right": null,
       "top": null,
       "visibility": null,
       "width": null
      }
     },
     "80dd841a331f4dc6a491cf47afc2ebc5": {
      "model_module": "@jupyter-widgets/controls",
      "model_module_version": "2.0.0",
      "model_name": "FloatProgressModel",
      "state": {
       "_dom_classes": [],
       "_model_module": "@jupyter-widgets/controls",
       "_model_module_version": "2.0.0",
       "_model_name": "FloatProgressModel",
       "_view_count": null,
       "_view_module": "@jupyter-widgets/controls",
       "_view_module_version": "2.0.0",
       "_view_name": "ProgressView",
       "bar_style": "success",
       "description": "",
       "description_allow_html": false,
       "layout": "IPY_MODEL_958a959289ac46beb0bf58fcbf390728",
       "max": 6,
       "min": 0,
       "orientation": "horizontal",
       "style": "IPY_MODEL_e35fd3be070e4271b75d157db717e76d",
       "tabbable": null,
       "tooltip": null,
       "value": 6
      }
     },
     "840639c478dc4c1c8ca28b069e44ad99": {
      "model_module": "@jupyter-widgets/controls",
      "model_module_version": "2.0.0",
      "model_name": "HTMLStyleModel",
      "state": {
       "_model_module": "@jupyter-widgets/controls",
       "_model_module_version": "2.0.0",
       "_model_name": "HTMLStyleModel",
       "_view_count": null,
       "_view_module": "@jupyter-widgets/base",
       "_view_module_version": "2.0.0",
       "_view_name": "StyleView",
       "background": null,
       "description_width": "",
       "font_size": null,
       "text_color": null
      }
     },
     "84418f0b740e4547a8489588d5ea1944": {
      "model_module": "@jupyter-widgets/controls",
      "model_module_version": "2.0.0",
      "model_name": "HTMLModel",
      "state": {
       "_dom_classes": [],
       "_model_module": "@jupyter-widgets/controls",
       "_model_module_version": "2.0.0",
       "_model_name": "HTMLModel",
       "_view_count": null,
       "_view_module": "@jupyter-widgets/controls",
       "_view_module_version": "2.0.0",
       "_view_name": "HTMLView",
       "description": "",
       "description_allow_html": false,
       "layout": "IPY_MODEL_8e1e3751a20c426bb101f0c94bec1e51",
       "placeholder": "​",
       "style": "IPY_MODEL_840639c478dc4c1c8ca28b069e44ad99",
       "tabbable": null,
       "tooltip": null,
       "value": " 6/6 [00:20&lt;00:00,  3.05s/it]"
      }
     },
     "8be2639bbee543748a0804d6b32529b4": {
      "model_module": "@jupyter-widgets/controls",
      "model_module_version": "2.0.0",
      "model_name": "HTMLStyleModel",
      "state": {
       "_model_module": "@jupyter-widgets/controls",
       "_model_module_version": "2.0.0",
       "_model_name": "HTMLStyleModel",
       "_view_count": null,
       "_view_module": "@jupyter-widgets/base",
       "_view_module_version": "2.0.0",
       "_view_name": "StyleView",
       "background": null,
       "description_width": "",
       "font_size": null,
       "text_color": null
      }
     },
     "8e1e3751a20c426bb101f0c94bec1e51": {
      "model_module": "@jupyter-widgets/base",
      "model_module_version": "2.0.0",
      "model_name": "LayoutModel",
      "state": {
       "_model_module": "@jupyter-widgets/base",
       "_model_module_version": "2.0.0",
       "_model_name": "LayoutModel",
       "_view_count": null,
       "_view_module": "@jupyter-widgets/base",
       "_view_module_version": "2.0.0",
       "_view_name": "LayoutView",
       "align_content": null,
       "align_items": null,
       "align_self": null,
       "border_bottom": null,
       "border_left": null,
       "border_right": null,
       "border_top": null,
       "bottom": null,
       "display": null,
       "flex": null,
       "flex_flow": null,
       "grid_area": null,
       "grid_auto_columns": null,
       "grid_auto_flow": null,
       "grid_auto_rows": null,
       "grid_column": null,
       "grid_gap": null,
       "grid_row": null,
       "grid_template_areas": null,
       "grid_template_columns": null,
       "grid_template_rows": null,
       "height": null,
       "justify_content": null,
       "justify_items": null,
       "left": null,
       "margin": null,
       "max_height": null,
       "max_width": null,
       "min_height": null,
       "min_width": null,
       "object_fit": null,
       "object_position": null,
       "order": null,
       "overflow": null,
       "padding": null,
       "right": null,
       "top": null,
       "visibility": null,
       "width": null
      }
     },
     "958a959289ac46beb0bf58fcbf390728": {
      "model_module": "@jupyter-widgets/base",
      "model_module_version": "2.0.0",
      "model_name": "LayoutModel",
      "state": {
       "_model_module": "@jupyter-widgets/base",
       "_model_module_version": "2.0.0",
       "_model_name": "LayoutModel",
       "_view_count": null,
       "_view_module": "@jupyter-widgets/base",
       "_view_module_version": "2.0.0",
       "_view_name": "LayoutView",
       "align_content": null,
       "align_items": null,
       "align_self": null,
       "border_bottom": null,
       "border_left": null,
       "border_right": null,
       "border_top": null,
       "bottom": null,
       "display": null,
       "flex": null,
       "flex_flow": null,
       "grid_area": null,
       "grid_auto_columns": null,
       "grid_auto_flow": null,
       "grid_auto_rows": null,
       "grid_column": null,
       "grid_gap": null,
       "grid_row": null,
       "grid_template_areas": null,
       "grid_template_columns": null,
       "grid_template_rows": null,
       "height": null,
       "justify_content": null,
       "justify_items": null,
       "left": null,
       "margin": null,
       "max_height": null,
       "max_width": null,
       "min_height": null,
       "min_width": null,
       "object_fit": null,
       "object_position": null,
       "order": null,
       "overflow": null,
       "padding": null,
       "right": null,
       "top": null,
       "visibility": null,
       "width": null
      }
     },
     "ad63516229e248de85ff8d73be1c4367": {
      "model_module": "@jupyter-widgets/controls",
      "model_module_version": "2.0.0",
      "model_name": "FloatProgressModel",
      "state": {
       "_dom_classes": [],
       "_model_module": "@jupyter-widgets/controls",
       "_model_module_version": "2.0.0",
       "_model_name": "FloatProgressModel",
       "_view_count": null,
       "_view_module": "@jupyter-widgets/controls",
       "_view_module_version": "2.0.0",
       "_view_name": "ProgressView",
       "bar_style": "success",
       "description": "",
       "description_allow_html": false,
       "layout": "IPY_MODEL_0d944de7f05d426f821fcb3b1e713e0a",
       "max": 13,
       "min": 0,
       "orientation": "horizontal",
       "style": "IPY_MODEL_011833c52e6746689ca4f15c6deb0330",
       "tabbable": null,
       "tooltip": null,
       "value": 13
      }
     },
     "bd1a8b34da5c48358ade87fec594a414": {
      "model_module": "@jupyter-widgets/base",
      "model_module_version": "2.0.0",
      "model_name": "LayoutModel",
      "state": {
       "_model_module": "@jupyter-widgets/base",
       "_model_module_version": "2.0.0",
       "_model_name": "LayoutModel",
       "_view_count": null,
       "_view_module": "@jupyter-widgets/base",
       "_view_module_version": "2.0.0",
       "_view_name": "LayoutView",
       "align_content": null,
       "align_items": null,
       "align_self": null,
       "border_bottom": null,
       "border_left": null,
       "border_right": null,
       "border_top": null,
       "bottom": null,
       "display": null,
       "flex": null,
       "flex_flow": null,
       "grid_area": null,
       "grid_auto_columns": null,
       "grid_auto_flow": null,
       "grid_auto_rows": null,
       "grid_column": null,
       "grid_gap": null,
       "grid_row": null,
       "grid_template_areas": null,
       "grid_template_columns": null,
       "grid_template_rows": null,
       "height": null,
       "justify_content": null,
       "justify_items": null,
       "left": null,
       "margin": null,
       "max_height": null,
       "max_width": null,
       "min_height": null,
       "min_width": null,
       "object_fit": null,
       "object_position": null,
       "order": null,
       "overflow": null,
       "padding": null,
       "right": null,
       "top": null,
       "visibility": null,
       "width": null
      }
     },
     "e35fd3be070e4271b75d157db717e76d": {
      "model_module": "@jupyter-widgets/controls",
      "model_module_version": "2.0.0",
      "model_name": "ProgressStyleModel",
      "state": {
       "_model_module": "@jupyter-widgets/controls",
       "_model_module_version": "2.0.0",
       "_model_name": "ProgressStyleModel",
       "_view_count": null,
       "_view_module": "@jupyter-widgets/base",
       "_view_module_version": "2.0.0",
       "_view_name": "StyleView",
       "bar_color": null,
       "description_width": ""
      }
     }
    },
    "version_major": 2,
    "version_minor": 0
   }
  }
 },
 "nbformat": 4,
 "nbformat_minor": 5
}
