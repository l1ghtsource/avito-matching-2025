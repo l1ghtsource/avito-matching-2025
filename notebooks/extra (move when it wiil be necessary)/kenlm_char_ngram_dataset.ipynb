{
 "cells": [
  {
   "cell_type": "code",
   "execution_count": 1,
   "id": "852e71c2-c08c-4afc-b0d0-d2e17207f4ba",
   "metadata": {},
   "outputs": [
    {
     "data": {
      "application/vnd.jupyter.widget-view+json": {
       "model_id": "78a017a34ab8464e85a46824eccab9d1",
       "version_major": 2,
       "version_minor": 0
      },
      "text/plain": [
       "Resolving data files:   0%|          | 0/17 [00:00<?, ?it/s]"
      ]
     },
     "metadata": {},
     "output_type": "display_data"
    },
    {
     "data": {
      "application/vnd.jupyter.widget-view+json": {
       "model_id": "5f8ca867e744490099ad5f3ea8d99cef",
       "version_major": 2,
       "version_minor": 0
      },
      "text/plain": [
       "Resolving data files:   0%|          | 0/17 [00:00<?, ?it/s]"
      ]
     },
     "metadata": {},
     "output_type": "display_data"
    }
   ],
   "source": [
    "# from huggingface_hub import hf_hub_download\n",
    "from datasets import load_dataset\n",
    "dataset = load_dataset('thexdk/wiki_ru', split=\"train\", streaming=True)"
   ]
  },
  {
   "cell_type": "code",
   "execution_count": 39,
   "id": "bcad1f1c-303e-4d22-af46-aa3831c3cfe0",
   "metadata": {
    "scrolled": true
   },
   "outputs": [
    {
     "name": "stderr",
     "output_type": "stream",
     "text": [
      "1097341it [1:40:51, 181.35it/s]                                                                                        \n"
     ]
    }
   ],
   "source": [
    "import ftfy\n",
    "from razdel import tokenize\n",
    "from tqdm import tqdm\n",
    "\n",
    "# total_document = [None for _ in range(1e6)]\n",
    "with open('wiki_ru', 'a', encoding=\"utf-8\") as f:\n",
    "    for i in tqdm(dataset, total=1e6):\n",
    "        text = i['text']\n",
    "        if not text:\n",
    "            continue # just in case\n",
    "        res = ' '.join([j.text.lower() for j in tokenize(text)])\n",
    "        res = ' '.join([\n",
    "            '<space>' if j == ' ' else j \n",
    "            for j in res\n",
    "        ])\n",
    "        print(res, file=f, end=' ')"
   ]
  },
  {
   "cell_type": "code",
   "execution_count": 43,
   "id": "e1291016-145e-4333-a834-8d09b7ffffbe",
   "metadata": {},
   "outputs": [
    {
     "data": {
      "application/vnd.jupyter.widget-view+json": {
       "model_id": "c78aaab2041c48358a1e7ff31dbda622",
       "version_major": 2,
       "version_minor": 0
      },
      "text/plain": [
       "Resolving data files:   0%|          | 0/31 [00:00<?, ?it/s]"
      ]
     },
     "metadata": {},
     "output_type": "display_data"
    },
    {
     "data": {
      "application/vnd.jupyter.widget-view+json": {
       "model_id": "b18f1e0b23334b5b941c9bc59da3eea0",
       "version_major": 2,
       "version_minor": 0
      },
      "text/plain": [
       "Resolving data files:   0%|          | 0/31 [00:00<?, ?it/s]"
      ]
     },
     "metadata": {},
     "output_type": "display_data"
    }
   ],
   "source": [
    "dataset = load_dataset('daje/en_wiki', split=\"train\", streaming=True)"
   ]
  },
  {
   "cell_type": "code",
   "execution_count": 47,
   "id": "9fbd52c8-e523-4d99-9307-c21235b8783b",
   "metadata": {},
   "outputs": [
    {
     "name": "stderr",
     "output_type": "stream",
     "text": [
      "100%|█████████████████████████████████████████████████████████████████████▉| 999999/1000000.0 [55:20<00:00, 301.20it/s]\n"
     ]
    }
   ],
   "source": [
    "c = 0\n",
    "with open('wiki_en', 'a', encoding=\"utf-8\") as f:\n",
    "    for i in tqdm(dataset, total=1e6):\n",
    "        text = i['text']\n",
    "        # text = ftfy.fix_text(text, normalization='NFKD')\n",
    "        if not text:\n",
    "            continue # just in case\n",
    "        res = ' '.join([j.text.lower() for j in tokenize(text)])\n",
    "        res = ' '.join([\n",
    "            '<space>' if j == ' ' else j \n",
    "            for j in res\n",
    "        ])\n",
    "        print(res, file=f, end=' ')\n",
    "        c += 1\n",
    "        if c == 1000000:\n",
    "            break"
   ]
  },
  {
   "cell_type": "code",
   "execution_count": 42,
   "id": "bd42a95a-72b2-4632-88e3-af0981a47754",
   "metadata": {},
   "outputs": [
    {
     "data": {
      "text/plain": [
       "'train'"
      ]
     },
     "execution_count": 42,
     "metadata": {},
     "output_type": "execute_result"
    }
   ],
   "source": [
    "# [j for j in ' '.join([j.text.lower() for j in tokenize(text)])][5]\n",
    "i"
   ]
  },
  {
   "cell_type": "code",
   "execution_count": 19,
   "id": "9c43e969-5f65-4e66-b8d3-12a0340156a7",
   "metadata": {},
   "outputs": [],
   "source": [
    "with open('wiki_ru', 'a') as f:\n",
    "    print(res, file=f, end=' ')"
   ]
  },
  {
   "cell_type": "code",
   "execution_count": 5,
   "id": "9f7ae528-5fa2-4da1-9b29-44dd22c05882",
   "metadata": {},
   "outputs": [],
   "source": [
    "# dataset = load_dataset('daje/en_wiki')"
   ]
  },
  {
   "cell_type": "code",
   "execution_count": 6,
   "id": "2d0a30f5-33ef-495f-a49e-5a2388c5cece",
   "metadata": {},
   "outputs": [],
   "source": [
    "# !pip install razdel"
   ]
  },
  {
   "cell_type": "code",
   "execution_count": 7,
   "id": "eb420b8b-a489-4247-b07a-8ccd1467f3fd",
   "metadata": {
    "scrolled": true
   },
   "outputs": [],
   "source": [
    "# dataset['train']['text']"
   ]
  },
  {
   "cell_type": "code",
   "execution_count": null,
   "id": "e6d1c5ac-8667-4ae0-85af-2b7ab53aa1ff",
   "metadata": {},
   "outputs": [],
   "source": [
    "# dataset['train']['text'][0]"
   ]
  }
 ],
 "metadata": {
  "kernelspec": {
   "display_name": "Python 3 (ipykernel)",
   "language": "python",
   "name": "python3"
  },
  "language_info": {
   "codemirror_mode": {
    "name": "ipython",
    "version": 3
   },
   "file_extension": ".py",
   "mimetype": "text/x-python",
   "name": "python",
   "nbconvert_exporter": "python",
   "pygments_lexer": "ipython3",
   "version": "3.11.9"
  }
 },
 "nbformat": 4,
 "nbformat_minor": 5
}
