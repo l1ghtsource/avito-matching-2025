{
 "cells": [
  {
   "cell_type": "code",
   "execution_count": null,
   "id": "344edae2",
   "metadata": {},
   "outputs": [],
   "source": [
    "import pandas as pd\n",
    "\n",
    "df = pd.read_parquet('../data/preprocessed/all_products_preprocessed.parquet')\n",
    "df_train = df[df['is_double'] != -1]\n",
    "df_test = df[df['is_double'] != 1]\n",
    "\n",
    "cols_to_use = [\n",
    "    'variantid_1', 'variantid_2',\n",
    "    'name_1', 'name_2',\n",
    "    'description_1', 'description_2',\n",
    "    'category_level_1_1', 'category_level_1_2',\n",
    "    'category_level_2_1', 'category_level_2_2',\n",
    "    'category_level_3_1', 'category_level_3_2',\n",
    "    'category_level_4_1', 'category_level_4_2',\n",
    "    'characteristic_attributes_mapping_1', 'characteristic_attributes_mapping_2',\n",
    "]\n",
    "\n",
    "df_train = df_train[cols_to_use + ['group_id', 'is_double']]\n",
    "df_test = df_test[cols_to_use]\n",
    "\n",
    "df_train.to_parquet('../data/preprocessed/train_texts.parquet')\n",
    "df_test.to_parquet('../data/preprocessed/test_texts.parquet')"
   ]
  }
 ],
 "metadata": {
  "kernelspec": {
   "display_name": "base",
   "language": "python",
   "name": "python3"
  },
  "language_info": {
   "name": "python",
   "version": "3.11.7"
  }
 },
 "nbformat": 4,
 "nbformat_minor": 5
}
