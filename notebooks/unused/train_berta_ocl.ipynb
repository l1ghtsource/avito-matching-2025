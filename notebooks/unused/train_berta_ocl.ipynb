{
 "cells": [
  {
   "cell_type": "code",
   "execution_count": null,
   "id": "e818e504",
   "metadata": {
    "execution": {
     "iopub.execute_input": "2025-05-10T09:22:44.951093Z",
     "iopub.status.busy": "2025-05-10T09:22:44.950869Z",
     "iopub.status.idle": "2025-05-10T09:23:59.430255Z",
     "shell.execute_reply": "2025-05-10T09:23:59.429290Z"
    },
    "papermill": {
     "duration": 74.485116,
     "end_time": "2025-05-10T09:23:59.431939",
     "exception": false,
     "start_time": "2025-05-10T09:22:44.946823",
     "status": "completed"
    },
    "tags": []
   },
   "outputs": [],
   "source": [
    "!pip install -U -q sentence_transformers"
   ]
  },
  {
   "cell_type": "code",
   "execution_count": null,
   "id": "91842757",
   "metadata": {
    "_cell_guid": "b1076dfc-b9ad-4769-8c92-a6c4dae69d19",
    "_uuid": "8f2839f25d086af736a60e9eeb907d3b93b6e0e5",
    "execution": {
     "iopub.execute_input": "2025-05-10T09:23:59.472869Z",
     "iopub.status.busy": "2025-05-10T09:23:59.472580Z",
     "iopub.status.idle": "2025-05-10T09:24:29.284779Z",
     "shell.execute_reply": "2025-05-10T09:24:29.283966Z"
    },
    "papermill": {
     "duration": 29.834367,
     "end_time": "2025-05-10T09:24:29.286308",
     "exception": false,
     "start_time": "2025-05-10T09:23:59.451941",
     "status": "completed"
    },
    "tags": []
   },
   "outputs": [],
   "source": [
    "import gc\n",
    "import os\n",
    "import random\n",
    "import traceback\n",
    "import pandas as pd\n",
    "import numpy as np\n",
    "from datetime import datetime\n",
    "\n",
    "from sklearn.model_selection import StratifiedGroupKFold\n",
    "\n",
    "from datasets import Dataset\n",
    "\n",
    "from sentence_transformers import SentenceTransformer\n",
    "from sentence_transformers.evaluation import BinaryClassificationEvaluator\n",
    "from sentence_transformers.losses import OnlineContrastiveLoss, ContrastiveLoss\n",
    "from sentence_transformers.losses.ContrastiveLoss import SiameseDistanceMetric\n",
    "from sentence_transformers.trainer import SentenceTransformerTrainer\n",
    "from sentence_transformers.training_args import BatchSamplers, SentenceTransformerTrainingArguments"
   ]
  },
  {
   "cell_type": "code",
   "execution_count": null,
   "id": "b846bdd0",
   "metadata": {
    "execution": {
     "iopub.execute_input": "2025-05-10T09:24:29.329379Z",
     "iopub.status.busy": "2025-05-10T09:24:29.328845Z",
     "iopub.status.idle": "2025-05-10T09:24:29.333035Z",
     "shell.execute_reply": "2025-05-10T09:24:29.332345Z"
    },
    "papermill": {
     "duration": 0.026308,
     "end_time": "2025-05-10T09:24:29.334083",
     "exception": false,
     "start_time": "2025-05-10T09:24:29.307775",
     "status": "completed"
    },
    "tags": []
   },
   "outputs": [],
   "source": [
    "import torch\n",
    "import _codecs\n",
    "\n",
    "torch.serialization.add_safe_globals([\n",
    "    np.core.multiarray.scalar, \n",
    "    np.dtype, \n",
    "    np.dtypes.Float64DType, \n",
    "    np.dtypes.UInt32DType,\n",
    "    np.core.multiarray._reconstruct,\n",
    "    np.ndarray,\n",
    "    _codecs.encode, \n",
    "])"
   ]
  },
  {
   "cell_type": "code",
   "execution_count": null,
   "id": "52cf0694",
   "metadata": {
    "execution": {
     "iopub.execute_input": "2025-05-10T09:24:29.373722Z",
     "iopub.status.busy": "2025-05-10T09:24:29.373481Z",
     "iopub.status.idle": "2025-05-10T09:24:29.377641Z",
     "shell.execute_reply": "2025-05-10T09:24:29.376929Z"
    },
    "papermill": {
     "duration": 0.024841,
     "end_time": "2025-05-10T09:24:29.378710",
     "exception": false,
     "start_time": "2025-05-10T09:24:29.353869",
     "status": "completed"
    },
    "tags": []
   },
   "outputs": [],
   "source": [
    "VER = 1\n",
    "N_FOLD = 0\n",
    "\n",
    "os.environ['WANDB_API_KEY'] = '...'\n",
    "os.environ['WANDB_PROJECT'] = f'ft-fixed-berta-fold{N_FOLD}-online-contrastive'\n",
    "os.environ['WANDB_NOTES'] = f'ft-fixed-berta-fold{N_FOLD}-online-contrastive-{VER}'\n",
    "os.environ['WANDB_NAME'] = f'ft-fixed-berta-fold{N_FOLD}-online-contrastive-{VER}'"
   ]
  },
  {
   "cell_type": "code",
   "execution_count": null,
   "id": "68389053",
   "metadata": {
    "execution": {
     "iopub.execute_input": "2025-05-10T09:24:29.418222Z",
     "iopub.status.busy": "2025-05-10T09:24:29.418018Z",
     "iopub.status.idle": "2025-05-10T09:24:29.421764Z",
     "shell.execute_reply": "2025-05-10T09:24:29.421078Z"
    },
    "papermill": {
     "duration": 0.024551,
     "end_time": "2025-05-10T09:24:29.422802",
     "exception": false,
     "start_time": "2025-05-10T09:24:29.398251",
     "status": "completed"
    },
    "tags": []
   },
   "outputs": [],
   "source": [
    "num_train_epochs = 1\n",
    "batch_size = 16\n",
    "\n",
    "output_dir = f'output/fold{N_FOLD}_training_ocl-' + datetime.now().strftime('%Y-%m-%d_%H-%M-%S')"
   ]
  },
  {
   "cell_type": "code",
   "execution_count": null,
   "id": "4f1b317f",
   "metadata": {
    "execution": {
     "iopub.execute_input": "2025-05-10T09:24:29.461719Z",
     "iopub.status.busy": "2025-05-10T09:24:29.461508Z",
     "iopub.status.idle": "2025-05-10T09:26:09.897959Z",
     "shell.execute_reply": "2025-05-10T09:26:09.897291Z"
    },
    "papermill": {
     "duration": 100.457349,
     "end_time": "2025-05-10T09:26:09.899395",
     "exception": false,
     "start_time": "2025-05-10T09:24:29.442046",
     "status": "completed"
    },
    "tags": []
   },
   "outputs": [],
   "source": [
    "df = pd.read_parquet(\n",
    "    'data/preprocessed/train_texts.parquet',\n",
    "    columns=['variantid_1', 'variantid_2', 'group_id', 'is_double']\n",
    ")\n",
    "\n",
    "df = df.sort_values(by=['variantid_1', 'variantid_2'])\n",
    "df = df.sample(len(df), random_state=42)\n",
    "\n",
    "sgkf = StratifiedGroupKFold(n_splits=5)\n",
    "\n",
    "fold_mapping = {\n",
    "    '0': {\n",
    "        'train_idxs': [],\n",
    "        'val_idxs': [],\n",
    "    },\n",
    "    '1': {\n",
    "        'train_idxs': [],\n",
    "        'val_idxs': [],\n",
    "    },\n",
    "    '2': {\n",
    "        'train_idxs': [],\n",
    "        'val_idxs': [],\n",
    "    },\n",
    "    '3': {\n",
    "        'train_idxs': [],\n",
    "        'val_idxs': [],\n",
    "    },\n",
    "    '4': {\n",
    "        'train_idxs': [],\n",
    "        'val_idxs': [],\n",
    "    },\n",
    "}\n",
    "\n",
    "for fold, (train_idx, val_idx) in enumerate(sgkf.split(df, df['is_double'], groups=df['group_id'])):\n",
    "    fold_mapping[str(fold)]['train_idxs'] = train_idx\n",
    "    fold_mapping[str(fold)]['val_idxs'] = val_idx"
   ]
  },
  {
   "cell_type": "code",
   "execution_count": null,
   "id": "821c5826",
   "metadata": {
    "execution": {
     "iopub.execute_input": "2025-05-10T09:26:09.940380Z",
     "iopub.status.busy": "2025-05-10T09:26:09.940157Z",
     "iopub.status.idle": "2025-05-10T09:26:59.340394Z",
     "shell.execute_reply": "2025-05-10T09:26:59.339636Z"
    },
    "papermill": {
     "duration": 49.4223,
     "end_time": "2025-05-10T09:26:59.342046",
     "exception": false,
     "start_time": "2025-05-10T09:26:09.919746",
     "status": "completed"
    },
    "tags": []
   },
   "outputs": [],
   "source": [
    "dataset = Dataset.from_parquet('avito-for-dl-training.parquet')\n",
    "dataset = dataset.remove_columns(['group_id', 'variantid_1', 'variantid_2', '__index_level_0__'])"
   ]
  },
  {
   "cell_type": "code",
   "execution_count": null,
   "id": "764e7c14",
   "metadata": {
    "execution": {
     "iopub.execute_input": "2025-05-10T09:26:59.384217Z",
     "iopub.status.busy": "2025-05-10T09:26:59.383596Z",
     "iopub.status.idle": "2025-05-10T09:27:02.145772Z",
     "shell.execute_reply": "2025-05-10T09:27:02.145127Z"
    },
    "papermill": {
     "duration": 2.784336,
     "end_time": "2025-05-10T09:27:02.147154",
     "exception": false,
     "start_time": "2025-05-10T09:26:59.362818",
     "status": "completed"
    },
    "tags": []
   },
   "outputs": [],
   "source": [
    "train_dataset = dataset.select(fold_mapping[str(N_FOLD)]['train_idxs'].tolist())\n",
    "eval_dataset = dataset.select(fold_mapping[str(N_FOLD)]['val_idxs'].tolist())"
   ]
  },
  {
   "cell_type": "code",
   "execution_count": null,
   "id": "e7e6c5f8",
   "metadata": {
    "execution": {
     "iopub.execute_input": "2025-05-10T09:27:02.199189Z",
     "iopub.status.busy": "2025-05-10T09:27:02.198611Z",
     "iopub.status.idle": "2025-05-10T09:27:02.203235Z",
     "shell.execute_reply": "2025-05-10T09:27:02.202601Z"
    },
    "papermill": {
     "duration": 0.034546,
     "end_time": "2025-05-10T09:27:02.204274",
     "exception": false,
     "start_time": "2025-05-10T09:27:02.169728",
     "status": "completed"
    },
    "tags": []
   },
   "outputs": [],
   "source": [
    "len(train_dataset), len(eval_dataset)"
   ]
  },
  {
   "cell_type": "code",
   "execution_count": null,
   "id": "29312dde",
   "metadata": {
    "execution": {
     "iopub.execute_input": "2025-05-10T09:27:02.246692Z",
     "iopub.status.busy": "2025-05-10T09:27:02.246504Z",
     "iopub.status.idle": "2025-05-10T09:27:02.253280Z",
     "shell.execute_reply": "2025-05-10T09:27:02.252619Z"
    },
    "papermill": {
     "duration": 0.028937,
     "end_time": "2025-05-10T09:27:02.254397",
     "exception": false,
     "start_time": "2025-05-10T09:27:02.225460",
     "status": "completed"
    },
    "tags": []
   },
   "outputs": [],
   "source": [
    "train_dataset[0]"
   ]
  },
  {
   "cell_type": "code",
   "execution_count": null,
   "id": "69a3f38b",
   "metadata": {
    "execution": {
     "iopub.execute_input": "2025-05-10T09:27:02.297344Z",
     "iopub.status.busy": "2025-05-10T09:27:02.296805Z",
     "iopub.status.idle": "2025-05-10T09:27:02.301577Z",
     "shell.execute_reply": "2025-05-10T09:27:02.300989Z"
    },
    "papermill": {
     "duration": 0.027074,
     "end_time": "2025-05-10T09:27:02.302557",
     "exception": false,
     "start_time": "2025-05-10T09:27:02.275483",
     "status": "completed"
    },
    "tags": []
   },
   "outputs": [],
   "source": [
    "eval_dataset[0]"
   ]
  },
  {
   "cell_type": "code",
   "execution_count": null,
   "id": "3915e886",
   "metadata": {
    "execution": {
     "iopub.execute_input": "2025-05-10T09:27:02.347773Z",
     "iopub.status.busy": "2025-05-10T09:27:02.347552Z",
     "iopub.status.idle": "2025-05-10T09:27:19.438550Z",
     "shell.execute_reply": "2025-05-10T09:27:19.437718Z"
    },
    "papermill": {
     "duration": 17.115698,
     "end_time": "2025-05-10T09:27:19.440057",
     "exception": false,
     "start_time": "2025-05-10T09:27:02.324359",
     "status": "completed"
    },
    "tags": []
   },
   "outputs": [],
   "source": [
    "model = SentenceTransformer('sergeyzh/BERTA')"
   ]
  },
  {
   "cell_type": "code",
   "execution_count": null,
   "id": "e9294cba",
   "metadata": {
    "execution": {
     "iopub.execute_input": "2025-05-10T09:27:19.484953Z",
     "iopub.status.busy": "2025-05-10T09:27:19.484710Z",
     "iopub.status.idle": "2025-05-10T09:27:19.487820Z",
     "shell.execute_reply": "2025-05-10T09:27:19.487297Z"
    },
    "papermill": {
     "duration": 0.026136,
     "end_time": "2025-05-10T09:27:19.488849",
     "exception": false,
     "start_time": "2025-05-10T09:27:19.462713",
     "status": "completed"
    },
    "tags": []
   },
   "outputs": [],
   "source": [
    "# model.max_seq_length = 1024"
   ]
  },
  {
   "cell_type": "code",
   "execution_count": null,
   "id": "adb9c50b",
   "metadata": {
    "execution": {
     "iopub.execute_input": "2025-05-10T09:27:19.535170Z",
     "iopub.status.busy": "2025-05-10T09:27:19.534922Z",
     "iopub.status.idle": "2025-05-10T09:27:19.539475Z",
     "shell.execute_reply": "2025-05-10T09:27:19.538909Z"
    },
    "papermill": {
     "duration": 0.029807,
     "end_time": "2025-05-10T09:27:19.540490",
     "exception": false,
     "start_time": "2025-05-10T09:27:19.510683",
     "status": "completed"
    },
    "tags": []
   },
   "outputs": [],
   "source": [
    "model"
   ]
  },
  {
   "cell_type": "code",
   "execution_count": null,
   "id": "f48363dd",
   "metadata": {
    "execution": {
     "iopub.execute_input": "2025-05-10T09:27:19.586022Z",
     "iopub.status.busy": "2025-05-10T09:27:19.585363Z",
     "iopub.status.idle": "2025-05-10T09:27:19.589166Z",
     "shell.execute_reply": "2025-05-10T09:27:19.588655Z"
    },
    "papermill": {
     "duration": 0.026943,
     "end_time": "2025-05-10T09:27:19.590110",
     "exception": false,
     "start_time": "2025-05-10T09:27:19.563167",
     "status": "completed"
    },
    "tags": []
   },
   "outputs": [],
   "source": [
    "margin = 0.75\n",
    "distance_metric = SiameseDistanceMetric.COSINE_DISTANCE\n",
    "train_loss = OnlineContrastiveLoss(model=model, distance_metric=distance_metric, margin=margin)\n",
    "\n",
    "# loss = losses.MatryoshkaLoss(model, loss, [312, 256, 128, 64])"
   ]
  },
  {
   "cell_type": "code",
   "execution_count": null,
   "id": "303606bb",
   "metadata": {
    "execution": {
     "iopub.execute_input": "2025-05-10T09:27:19.634557Z",
     "iopub.status.busy": "2025-05-10T09:27:19.634129Z",
     "iopub.status.idle": "2025-05-10T09:27:32.998396Z",
     "shell.execute_reply": "2025-05-10T09:27:32.997801Z"
    },
    "papermill": {
     "duration": 13.387646,
     "end_time": "2025-05-10T09:27:32.999795",
     "exception": false,
     "start_time": "2025-05-10T09:27:19.612149",
     "status": "completed"
    },
    "tags": []
   },
   "outputs": [],
   "source": [
    "binary_acc_evaluator = BinaryClassificationEvaluator(\n",
    "    sentences1=eval_dataset['sentence1'],\n",
    "    sentences2=eval_dataset['sentence2'],\n",
    "    labels=eval_dataset['label'],\n",
    "    name='avito-duplicates',\n",
    ")"
   ]
  },
  {
   "cell_type": "code",
   "execution_count": null,
   "id": "d4043734",
   "metadata": {
    "execution": {
     "iopub.execute_input": "2025-05-10T09:27:33.070920Z",
     "iopub.status.busy": "2025-05-10T09:27:33.070693Z",
     "iopub.status.idle": "2025-05-10T09:27:33.073602Z",
     "shell.execute_reply": "2025-05-10T09:27:33.072994Z"
    },
    "papermill": {
     "duration": 0.052312,
     "end_time": "2025-05-10T09:27:33.074701",
     "exception": false,
     "start_time": "2025-05-10T09:27:33.022389",
     "status": "completed"
    },
    "tags": []
   },
   "outputs": [],
   "source": [
    "# binary_acc_evaluator(model, epoch=0, steps=0)"
   ]
  },
  {
   "cell_type": "code",
   "execution_count": null,
   "id": "6e076763",
   "metadata": {
    "execution": {
     "iopub.execute_input": "2025-05-10T09:27:33.121450Z",
     "iopub.status.busy": "2025-05-10T09:27:33.121208Z",
     "iopub.status.idle": "2025-05-10T09:27:33.160038Z",
     "shell.execute_reply": "2025-05-10T09:27:33.159563Z"
    },
    "papermill": {
     "duration": 0.062937,
     "end_time": "2025-05-10T09:27:33.161086",
     "exception": false,
     "start_time": "2025-05-10T09:27:33.098149",
     "status": "completed"
    },
    "tags": []
   },
   "outputs": [],
   "source": [
    "args = SentenceTransformerTrainingArguments(\n",
    "    output_dir=output_dir,\n",
    "    num_train_epochs=num_train_epochs,\n",
    "    per_device_train_batch_size=batch_size,\n",
    "    # per_device_eval_batch_size=batch_size,\n",
    "    warmup_ratio=0.03,\n",
    "    fp16=True,\n",
    "    bf16=False,\n",
    "    batch_sampler=BatchSamplers.NO_DUPLICATES,\n",
    "    # eval_strategy='epoch',\n",
    "    save_strategy='steps',\n",
    "    save_steps=500,\n",
    "    save_total_limit=4,\n",
    "    logging_steps=1,\n",
    "    run_name='online-contrastive-loss',\n",
    ")"
   ]
  },
  {
   "cell_type": "code",
   "execution_count": null,
   "id": "a7a09fc1",
   "metadata": {
    "execution": {
     "iopub.execute_input": "2025-05-10T09:27:33.206546Z",
     "iopub.status.busy": "2025-05-10T09:27:33.206321Z",
     "iopub.status.idle": "2025-05-10T09:27:34.978123Z",
     "shell.execute_reply": "2025-05-10T09:27:34.977393Z"
    },
    "papermill": {
     "duration": 1.795717,
     "end_time": "2025-05-10T09:27:34.979251",
     "exception": false,
     "start_time": "2025-05-10T09:27:33.183534",
     "status": "completed"
    },
    "tags": []
   },
   "outputs": [],
   "source": [
    "trainer = SentenceTransformerTrainer(\n",
    "    model=model,\n",
    "    args=args,\n",
    "    train_dataset=train_dataset,\n",
    "    # eval_dataset=eval_dataset,\n",
    "    loss=train_loss,\n",
    "    # evaluator=binary_acc_evaluator,\n",
    ")"
   ]
  },
  {
   "cell_type": "code",
   "execution_count": null,
   "id": "7cfcc434",
   "metadata": {
    "execution": {
     "iopub.execute_input": "2025-05-10T09:27:35.026870Z",
     "iopub.status.busy": "2025-05-10T09:27:35.026626Z"
    },
    "papermill": {
     "duration": null,
     "end_time": null,
     "exception": false,
     "start_time": "2025-05-10T09:27:35.002321",
     "status": "running"
    },
    "tags": []
   },
   "outputs": [],
   "source": [
    "trainer.train()"
   ]
  },
  {
   "cell_type": "code",
   "execution_count": null,
   "id": "a698339d",
   "metadata": {
    "papermill": {
     "duration": null,
     "end_time": null,
     "exception": null,
     "start_time": null,
     "status": "pending"
    },
    "tags": []
   },
   "outputs": [],
   "source": [
    "final_output_dir = f'{output_dir}/final_fold{N_FOLD}'\n",
    "model.save(final_output_dir)"
   ]
  }
 ],
 "metadata": {
  "kaggle": {
   "accelerator": "nvidiaTeslaT4",
   "dataSources": [
    {
     "datasetId": 7260659,
     "sourceId": 11579984,
     "sourceType": "datasetVersion"
    },
    {
     "datasetId": 7366727,
     "isSourceIdPinned": true,
     "sourceId": 11734707,
     "sourceType": "datasetVersion"
    }
   ],
   "dockerImageVersionId": 31011,
   "isGpuEnabled": true,
   "isInternetEnabled": true,
   "language": "python",
   "sourceType": "notebook"
  },
  "kernelspec": {
   "display_name": "Python 3",
   "language": "python",
   "name": "python3"
  },
  "language_info": {
   "codemirror_mode": {
    "name": "ipython",
    "version": 3
   },
   "file_extension": ".py",
   "mimetype": "text/x-python",
   "name": "python",
   "nbconvert_exporter": "python",
   "pygments_lexer": "ipython3",
   "version": "3.11.11"
  },
  "papermill": {
   "default_parameters": {},
   "duration": null,
   "end_time": null,
   "environment_variables": {},
   "exception": null,
   "input_path": "__notebook__.ipynb",
   "output_path": "__notebook__.ipynb",
   "parameters": {},
   "start_time": "2025-05-10T09:22:40.725159",
   "version": "2.6.0"
  }
 },
 "nbformat": 4,
 "nbformat_minor": 5
}
