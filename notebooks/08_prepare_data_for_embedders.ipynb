{
 "cells": [
  {
   "cell_type": "code",
   "execution_count": 1,
   "id": "29f607b1",
   "metadata": {
    "_cell_guid": "b1076dfc-b9ad-4769-8c92-a6c4dae69d19",
    "_uuid": "8f2839f25d086af736a60e9eeb907d3b93b6e0e5",
    "execution": {
     "iopub.execute_input": "2025-04-28T16:49:41.765583Z",
     "iopub.status.busy": "2025-04-28T16:49:41.765352Z",
     "iopub.status.idle": "2025-04-28T16:49:43.521861Z",
     "shell.execute_reply": "2025-04-28T16:49:43.515929Z"
    },
    "papermill": {
     "duration": 1.765232,
     "end_time": "2025-04-28T16:49:43.525093",
     "exception": false,
     "start_time": "2025-04-28T16:49:41.759861",
     "status": "completed"
    },
    "tags": []
   },
   "outputs": [],
   "source": [
    "import pandas as pd\n",
    "import gc"
   ]
  },
  {
   "cell_type": "code",
   "execution_count": null,
   "id": "e64034fd",
   "metadata": {},
   "outputs": [],
   "source": [
    "df = pd.read_parquet('../data/preprocessed/train_texts.parquet')\n",
    "\n",
    "df = df.sort_values(by=['variantid_1', 'variantid_2'])\n",
    "df = df.sample(len(df), random_state=42)\n",
    "\n",
    "cat_cols = [\n",
    "    'category_level_1_1', 'category_level_1_2', \n",
    "    'category_level_2_1', 'category_level_2_2',\n",
    "    'category_level_3_1', 'category_level_3_2', \n",
    "    'category_level_4_1', 'category_level_4_2'\n",
    "]\n",
    "\n",
    "for col in cat_cols:\n",
    "    df[col] = df[col].fillna('none')\n",
    "\n",
    "df['product_a'] = 'NAME: ' + df['name_1'] + '\\nCATEGORY: ' + df['category_level_1_1'] + '->' + df['category_level_2_1'] + '->' + df['category_level_3_1'] + '->' + df['category_level_4_1'] + '\\nDESCRIPTION: ' + df['description_1']\n",
    "df['product_b'] = 'NAME: ' + df['name_2'] + '\\nCATEGORY: ' + df['category_level_1_2'] + '->' + df['category_level_2_2'] + '->' + df['category_level_3_2'] + '->' + df['category_level_4_2'] + '\\nDESCRIPTION: ' + df['description_2']\n",
    "\n",
    "del df['name_1'], df['name_2'], df['category_level_1_1'], df['category_level_1_2'], df['category_level_2_1'], df['category_level_2_2'], df['category_level_3_1'], df['category_level_3_2'], df['category_level_4_1'], df['category_level_4_2'], df['description_1'], df['description_2']\n",
    "gc.collect()\n",
    "\n",
    "df = df[['variantid_1', 'variantid_2', 'product_a', 'product_b', 'group_id', 'is_double']]\n",
    "\n",
    "df.rename(columns={\n",
    "    'product_a': 'sentence1',\n",
    "    'product_b': 'sentence2',\n",
    "    'is_double': 'label',\n",
    "}, inplace=True)\n",
    "\n",
    "df.to_parquet('avito-for-dl-training.parquet')"
   ]
  },
  {
   "cell_type": "code",
   "execution_count": null,
   "id": "fab7e90f",
   "metadata": {},
   "outputs": [],
   "source": [
    "df = pd.read_parquet('../data/preprocessed/test_texts.parquet')\n",
    "\n",
    "df = df.sort_values(by=['variantid_1', 'variantid_2'])\n",
    "\n",
    "cat_cols = [\n",
    "    'category_level_1_1', 'category_level_1_2', \n",
    "    'category_level_2_1', 'category_level_2_2',\n",
    "    'category_level_3_1', 'category_level_3_2', \n",
    "    'category_level_4_1', 'category_level_4_2'\n",
    "]\n",
    "\n",
    "for col in cat_cols:\n",
    "    df[col] = df[col].fillna('none')\n",
    "\n",
    "df['product_a'] = 'NAME: ' + df['name_1'] + '\\nCATEGORY: ' + df['category_level_1_1'] + '->' + df['category_level_2_1'] + '->' + df['category_level_3_1'] + '->' + df['category_level_4_1'] + '\\nDESCRIPTION: ' + df['description_1']\n",
    "df['product_b'] = 'NAME: ' + df['name_2'] + '\\nCATEGORY: ' + df['category_level_1_2'] + '->' + df['category_level_2_2'] + '->' + df['category_level_3_2'] + '->' + df['category_level_4_2'] + '\\nDESCRIPTION: ' + df['description_2']\n",
    "\n",
    "del df['name_1'], df['name_2'], df['category_level_1_1'], df['category_level_1_2'], df['category_level_2_1'], df['category_level_2_2'], df['category_level_3_1'], df['category_level_3_2'], df['category_level_4_1'], df['category_level_4_2'], df['description_1'], df['description_2']\n",
    "gc.collect()\n",
    "\n",
    "df = df[['variantid_1', 'variantid_2', 'product_a', 'product_b']]\n",
    "\n",
    "df.rename(columns={\n",
    "    'product_a': 'sentence1',\n",
    "    'product_b': 'sentence2',\n",
    "}, inplace=True)\n",
    "\n",
    "df.to_parquet('avito-for-dl-testing.parquet')"
   ]
  }
 ],
 "metadata": {
  "kaggle": {
   "accelerator": "tpu1vmV38",
   "dataSources": [
    {
     "datasetId": 7260659,
     "sourceId": 11579984,
     "sourceType": "datasetVersion"
    }
   ],
   "dockerImageVersionId": 31012,
   "isGpuEnabled": false,
   "isInternetEnabled": true,
   "language": "python",
   "sourceType": "notebook"
  },
  "kernelspec": {
   "display_name": "Python 3",
   "language": "python",
   "name": "python3"
  },
  "language_info": {
   "codemirror_mode": {
    "name": "ipython",
    "version": 3
   },
   "file_extension": ".py",
   "mimetype": "text/x-python",
   "name": "python",
   "nbconvert_exporter": "python",
   "pygments_lexer": "ipython3",
   "version": "3.10.16"
  },
  "papermill": {
   "default_parameters": {},
   "duration": 170.769545,
   "end_time": "2025-04-28T16:52:29.381064",
   "environment_variables": {},
   "exception": null,
   "input_path": "__notebook__.ipynb",
   "output_path": "__notebook__.ipynb",
   "parameters": {},
   "start_time": "2025-04-28T16:49:38.611519",
   "version": "2.6.0"
  }
 },
 "nbformat": 4,
 "nbformat_minor": 5
}
