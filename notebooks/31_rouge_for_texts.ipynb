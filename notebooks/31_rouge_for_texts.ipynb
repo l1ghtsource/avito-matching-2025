{
 "cells": [
  {
   "cell_type": "code",
   "execution_count": null,
   "id": "b8a1f6a1-e58a-4d55-a1f1-5ee809aa5f7a",
   "metadata": {},
   "outputs": [],
   "source": [
    "import joblib\n",
    "import pandas as pd\n",
    "import numpy as np"
   ]
  },
  {
   "cell_type": "code",
   "execution_count": null,
   "id": "38d86a91-9c2a-4756-ad46-840545ede193",
   "metadata": {
    "scrolled": true
   },
   "outputs": [],
   "source": [
    "train = pd.read_parquet('train_texts.parquet')"
   ]
  },
  {
   "cell_type": "code",
   "execution_count": 8,
   "id": "cb1eafb9-e4a3-48fe-afdf-9178f8ddfc9c",
   "metadata": {},
   "outputs": [],
   "source": [
    "train = train.sort_values(by=['variantid_1', 'variantid_2'])\n",
    "train = train.sample(len(train), random_state=42)"
   ]
  },
  {
   "cell_type": "code",
   "execution_count": null,
   "id": "e72ef4db-9fcd-4a4b-ace0-695c67f9dc19",
   "metadata": {
    "scrolled": true
   },
   "outputs": [],
   "source": [
    "test = pd.read_parquet('test_texts.parquet')"
   ]
  },
  {
   "cell_type": "code",
   "execution_count": null,
   "id": "3adb4d03-2f0e-4992-9aa3-62dbf696e4fa",
   "metadata": {},
   "outputs": [],
   "source": [
    "from rouge_metric import PyRouge\n",
    "\n",
    "metric = PyRouge(\n",
    "    rouge_n=(1, 2, 3, 4), \n",
    "    rouge_l=False, \n",
    "    # rouge_w=True, \n",
    "    # rouge_w_weight=1.2, \n",
    "    rouge_s=True, rouge_su=True, skip_gap=4\n",
    ")\n",
    "metric_w = PyRouge(\n",
    "    rouge_n=(), \n",
    "    rouge_l=False, \n",
    "    rouge_w=True, \n",
    "    # rouge_w_weight=1.2, \n",
    "    # rouge_s=True, rouge_su=True, skip_gap=4\n",
    ")"
   ]
  },
  {
   "cell_type": "code",
   "execution_count": 552,
   "id": "5e1028fe-5379-481b-85c8-0cdaae65d081",
   "metadata": {},
   "outputs": [
    {
     "data": {
      "text/plain": [
       "{'rouge-w-1.2': {'r': 0.4352752816480622, 'p': 0.5, 'f': 0.46539803861923656}}"
      ]
     },
     "execution_count": 552,
     "metadata": {},
     "output_type": "execute_result"
    }
   ],
   "source": [
    "from razdel import tokenize, sentenize \n",
    "from functools import lru_cache\n",
    "\n",
    "@lru_cache(None)\n",
    "def s(text):\n",
    "    return [i.text for i in sentenize(text)]\n",
    "\n",
    "@lru_cache(None)\n",
    "def t(text):\n",
    "    return [i.text for i in tokenize(text)]\n",
    "\n",
    "metric_w.evaluate(['Диван лофт'], [['Диван книжка']], sentencizer=s, tokenizer=t)"
   ]
  },
  {
   "cell_type": "code",
   "execution_count": null,
   "id": "bda2a554-9335-4694-99bc-45629355563e",
   "metadata": {
    "scrolled": true
   },
   "outputs": [
    {
     "data": {
      "text/plain": [
       "({'rouge-1': {'r': 0.8095238095238095, 'p': 0.8125, 'f': 0.8110091743119265},\n",
       "  'rouge-2': {'r': 0.6727941176470589,\n",
       "   'p': 0.6752767527675276,\n",
       "   'f': 0.6740331491712708},\n",
       "  'rouge-3': {'r': 0.5830258302583026,\n",
       "   'p': 0.5851851851851851,\n",
       "   'f': 0.5841035120147874},\n",
       "  'rouge-4': {'r': 0.5185185185185185,\n",
       "   'p': 0.5204460966542751,\n",
       "   'f': 0.5194805194805194},\n",
       "  'rouge-s4': {'r': 0.6570370370370371,\n",
       "   'p': 0.6594795539033457,\n",
       "   'f': 0.6582560296846011},\n",
       "  'rouge-su4': {'r': 0.6824907521578298,\n",
       "   'p': 0.6850247524752475,\n",
       "   'f': 0.6837554045707227}},\n",
       " {'rouge-1': {'r': 0.8125, 'p': 0.8095238095238095, 'f': 0.8110091743119265},\n",
       "  'rouge-2': {'r': 0.6752767527675276,\n",
       "   'p': 0.6727941176470589,\n",
       "   'f': 0.6740331491712708},\n",
       "  'rouge-3': {'r': 0.5851851851851851,\n",
       "   'p': 0.5830258302583026,\n",
       "   'f': 0.5841035120147874},\n",
       "  'rouge-4': {'r': 0.5204460966542751,\n",
       "   'p': 0.5185185185185185,\n",
       "   'f': 0.5194805194805194},\n",
       "  'rouge-s4': {'r': 0.6594795539033457,\n",
       "   'p': 0.6570370370370371,\n",
       "   'f': 0.6582560296846011},\n",
       "  'rouge-su4': {'r': 0.6850247524752475,\n",
       "   'p': 0.6824907521578298,\n",
       "   'f': 0.6837554045707227}})"
      ]
     },
     "execution_count": 564,
     "metadata": {},
     "output_type": "execute_result"
    }
   ],
   "source": [
    "row = train[train['is_double'] == 1].iloc[2]\n",
    "\n",
    "metric.evaluate(\n",
    "        [row['name_1'] + '\\n' + row['description_1']], \n",
    "        [[row['name_2'] + '\\n' + row['description_2']]], sentencizer=s, tokenizer=t),\\\n",
    "metric.evaluate(\n",
    "        [row['name_2'] + '\\n' + row['description_2']], \n",
    "        [[row['name_1'] + '\\n' + row['description_1']]], sentencizer=s, tokenizer=t)"
   ]
  },
  {
   "cell_type": "code",
   "execution_count": null,
   "id": "3108a1d8-b4f9-4821-a064-a0c3855e574d",
   "metadata": {},
   "outputs": [],
   "source": [
    "def get_rogues(row):\n",
    "    r1 = metric.evaluate(\n",
    "        ['\\n'.join([row['name_1'], row['description_1']])], \n",
    "        [['\\n'.join([row['name_2'], row['description_2']])]], \n",
    "        sentencizer=s, tokenizer=t)\n",
    "    # r2 = metric.evaluate(\n",
    "    #     [row['name_2'] + '\\n' + row['description_2']], \n",
    "    #     [[row['name_1'] + '\\n' + row['description_1']]], sentencizer=s, tokenizer=t)\n",
    "    # print(desc_r1)\n",
    "    # print(desc_r2)\n",
    "    # rw = metric_w.evaluate(\n",
    "    #     [row['name_1'] + '\\n' + row['description_1']], \n",
    "    #     [[row['name_2'] + '\\n' + row['description_2']]], sentencizer=s, tokenizer=t)\n",
    "    # rw2 = metric_w.evaluate(\n",
    "    #     [row['name_2'] + '\\n' + row['description_2']], \n",
    "    #     [[row['name_1'] + '\\n' + row['description_1']]], sentencizer=s, tokenizer=t)\n",
    "    \n",
    "    # return pd.Series([\n",
    "    return pd.Series([\n",
    "        # (r1[k]['f']+r2[k]['f'])/2 for k in r1.keys()\n",
    "        r1[k]['f'] for k in r1.keys()\n",
    "    # ] + [\n",
    "    #     (rw['rouge-w-1.2']['f']+rw2['rouge-w-1.2']['f'])/2\n",
    "    ])"
   ]
  },
  {
   "cell_type": "code",
   "execution_count": 555,
   "id": "df2180b2-fd6c-4646-b2e2-eaff119a254a",
   "metadata": {},
   "outputs": [
    {
     "data": {
      "text/plain": [
       "0    0.200000\n",
       "1    0.000000\n",
       "2    0.000000\n",
       "3    0.000000\n",
       "4    0.050000\n",
       "5    0.081081\n",
       "dtype: float64"
      ]
     },
     "execution_count": 555,
     "metadata": {},
     "output_type": "execute_result"
    }
   ],
   "source": [
    "get_rogues(train.iloc[2])"
   ]
  },
  {
   "cell_type": "code",
   "execution_count": 557,
   "id": "d0f8b74f-fa1a-4392-9ef8-92c47c02867f",
   "metadata": {},
   "outputs": [
    {
     "name": "stdout",
     "output_type": "stream",
     "text": [
      "7.27 ms ± 124 µs per loop (mean ± std. dev. of 7 runs, 100 loops each)\n"
     ]
    }
   ],
   "source": [
    "a = train[train['is_double'] == 1].iloc[2]\n",
    "%timeit get_rogues(a)"
   ]
  },
  {
   "cell_type": "code",
   "execution_count": 516,
   "id": "f3a73934-84e4-4937-9e16-09aab5a54ba1",
   "metadata": {},
   "outputs": [],
   "source": [
    "from tqdm import tqdm\n",
    "tqdm.pandas()"
   ]
  },
  {
   "cell_type": "code",
   "execution_count": 558,
   "id": "8c45e46a-a728-4a5a-b47a-7accb53acd47",
   "metadata": {},
   "outputs": [
    {
     "name": "stderr",
     "output_type": "stream",
     "text": [
      "100%|█████████████████████████████████████████████████████████████████████| 1879555/1879555 [2:21:24<00:00, 221.53it/s]\n"
     ]
    }
   ],
   "source": [
    "rogues = train.progress_apply(get_rogues, axis=1)"
   ]
  },
  {
   "cell_type": "code",
   "execution_count": 559,
   "id": "5f02fe6c-2a0d-49b7-8bc1-c8c339103897",
   "metadata": {},
   "outputs": [
    {
     "name": "stderr",
     "output_type": "stream",
     "text": [
      "100%|█████████████████████████████████████████████████████████████████████████| 500000/500000 [29:27<00:00, 282.94it/s]\n"
     ]
    }
   ],
   "source": [
    "rogues_test = test.progress_apply(get_rogues, axis=1)"
   ]
  },
  {
   "cell_type": "code",
   "execution_count": null,
   "id": "b8767183-9f88-4492-ad35-1d7cb0bea3fd",
   "metadata": {},
   "outputs": [],
   "source": [
    "colnames = ['rouge_' + i for i in ['1', '2', '3', '4', 's4', 'su4']]"
   ]
  },
  {
   "cell_type": "code",
   "execution_count": 566,
   "id": "cb1cea1f-bf91-4ed3-ab32-c0c180d47e2c",
   "metadata": {},
   "outputs": [],
   "source": [
    "rogues.columns = colnames\n",
    "rogues_test.columns = colnames"
   ]
  },
  {
   "cell_type": "code",
   "execution_count": 570,
   "id": "eddba377-e67b-4331-aadd-8d8d91c0adf3",
   "metadata": {},
   "outputs": [],
   "source": [
    "train_with_rouge = pd.concat([train[['variantid_1', 'variantid_2']], rogues], axis=1)\n",
    "test_with_rouge = pd.concat([test[['variantid_1', 'variantid_2']], rogues_test], axis=1)"
   ]
  },
  {
   "cell_type": "code",
   "execution_count": 575,
   "id": "54cb70db-6618-453f-b5c3-66d5b1270fc4",
   "metadata": {},
   "outputs": [
    {
     "data": {
      "text/html": [
       "<div>\n",
       "<style scoped>\n",
       "    .dataframe tbody tr th:only-of-type {\n",
       "        vertical-align: middle;\n",
       "    }\n",
       "\n",
       "    .dataframe tbody tr th {\n",
       "        vertical-align: top;\n",
       "    }\n",
       "\n",
       "    .dataframe thead th {\n",
       "        text-align: right;\n",
       "    }\n",
       "</style>\n",
       "<table border=\"1\" class=\"dataframe\">\n",
       "  <thead>\n",
       "    <tr style=\"text-align: right;\">\n",
       "      <th></th>\n",
       "      <th>variantid_1</th>\n",
       "      <th>variantid_2</th>\n",
       "      <th>rouge_1</th>\n",
       "      <th>rouge_2</th>\n",
       "      <th>rouge_3</th>\n",
       "      <th>rouge_4</th>\n",
       "      <th>rouge_s4</th>\n",
       "      <th>rouge_su4</th>\n",
       "    </tr>\n",
       "  </thead>\n",
       "  <tbody>\n",
       "    <tr>\n",
       "      <th>0</th>\n",
       "      <td>00001e4f563a4dc91c63663a8b64068b82b5d046cc7b24...</td>\n",
       "      <td>883cb78f30a3cb90b26c674c4477464c11ac4fca8bf713...</td>\n",
       "      <td>0.402948</td>\n",
       "      <td>0.281481</td>\n",
       "      <td>0.248139</td>\n",
       "      <td>0.219451</td>\n",
       "      <td>0.240399</td>\n",
       "      <td>0.267220</td>\n",
       "    </tr>\n",
       "    <tr>\n",
       "      <th>1</th>\n",
       "      <td>00001e4f563a4dc91c63663a8b64068b82b5d046cc7b24...</td>\n",
       "      <td>afd827a7e59d8e855f0079b18d78048495757e2a2a4351...</td>\n",
       "      <td>0.403226</td>\n",
       "      <td>0.308108</td>\n",
       "      <td>0.271739</td>\n",
       "      <td>0.240437</td>\n",
       "      <td>0.260109</td>\n",
       "      <td>0.283636</td>\n",
       "    </tr>\n",
       "    <tr>\n",
       "      <th>2</th>\n",
       "      <td>00001e4f563a4dc91c63663a8b64068b82b5d046cc7b24...</td>\n",
       "      <td>d4969ce50032645ba4dfea0d4aeeb0316df579788caa22...</td>\n",
       "      <td>0.347368</td>\n",
       "      <td>0.238095</td>\n",
       "      <td>0.202128</td>\n",
       "      <td>0.176471</td>\n",
       "      <td>0.203209</td>\n",
       "      <td>0.226868</td>\n",
       "    </tr>\n",
       "    <tr>\n",
       "      <th>3</th>\n",
       "      <td>0000649b9fb42fec39328949bc74877e98f6687714136d...</td>\n",
       "      <td>ba6045b39544dd904b7be112d0802ee1fe15d279df137e...</td>\n",
       "      <td>0.603604</td>\n",
       "      <td>0.371041</td>\n",
       "      <td>0.268182</td>\n",
       "      <td>0.205479</td>\n",
       "      <td>0.310502</td>\n",
       "      <td>0.359422</td>\n",
       "    </tr>\n",
       "    <tr>\n",
       "      <th>4</th>\n",
       "      <td>00010817f43942cd236fc300f0d8d497127cf48bd65245...</td>\n",
       "      <td>04b0e2595bf4fe466418d4158f8acf724549825519676a...</td>\n",
       "      <td>0.186495</td>\n",
       "      <td>0.012903</td>\n",
       "      <td>0.000000</td>\n",
       "      <td>0.000000</td>\n",
       "      <td>0.011688</td>\n",
       "      <td>0.040541</td>\n",
       "    </tr>\n",
       "    <tr>\n",
       "      <th>...</th>\n",
       "      <td>...</td>\n",
       "      <td>...</td>\n",
       "      <td>...</td>\n",
       "      <td>...</td>\n",
       "      <td>...</td>\n",
       "      <td>...</td>\n",
       "      <td>...</td>\n",
       "      <td>...</td>\n",
       "    </tr>\n",
       "    <tr>\n",
       "      <th>499995</th>\n",
       "      <td>ffff336a8447d1c9f24c47fc85af5edd26671d68171523...</td>\n",
       "      <td>8ee26e594c6ab4ed3f368eee38b14ae7a8fd4712ecfe5a...</td>\n",
       "      <td>0.229508</td>\n",
       "      <td>0.000000</td>\n",
       "      <td>0.000000</td>\n",
       "      <td>0.000000</td>\n",
       "      <td>0.021818</td>\n",
       "      <td>0.053892</td>\n",
       "    </tr>\n",
       "    <tr>\n",
       "      <th>499996</th>\n",
       "      <td>ffff6b7f2e635225076944eb333e422d4a19d87d6c5b41...</td>\n",
       "      <td>42814661b581f992113b20e73b7386f5b5bc7be4f44105...</td>\n",
       "      <td>0.964187</td>\n",
       "      <td>0.930748</td>\n",
       "      <td>0.896936</td>\n",
       "      <td>0.885154</td>\n",
       "      <td>0.934454</td>\n",
       "      <td>0.939422</td>\n",
       "    </tr>\n",
       "    <tr>\n",
       "      <th>499997</th>\n",
       "      <td>ffff7c60d34773608a9ca373d2cb10d12d15357cbe63c4...</td>\n",
       "      <td>731f44210320229d83dbd906e41f37c2a871e6a6f007fe...</td>\n",
       "      <td>0.340426</td>\n",
       "      <td>0.130435</td>\n",
       "      <td>0.066667</td>\n",
       "      <td>0.045455</td>\n",
       "      <td>0.090909</td>\n",
       "      <td>0.131579</td>\n",
       "    </tr>\n",
       "    <tr>\n",
       "      <th>499998</th>\n",
       "      <td>ffff97e250e7e5e9c10c79ad9c9c36c1a2d7d019655ef7...</td>\n",
       "      <td>1e15aa5d08f69e0c6cfb35f228c0ecc5a1d15027ab9665...</td>\n",
       "      <td>0.970732</td>\n",
       "      <td>0.950980</td>\n",
       "      <td>0.931034</td>\n",
       "      <td>0.910891</td>\n",
       "      <td>0.946535</td>\n",
       "      <td>0.950577</td>\n",
       "    </tr>\n",
       "    <tr>\n",
       "      <th>499999</th>\n",
       "      <td>ffffac031235b0627fe56c23054529d794ca14dee7c91a...</td>\n",
       "      <td>9d099f458ed503bc55aa14a8cf275abdc41ab6a4420f8a...</td>\n",
       "      <td>0.310559</td>\n",
       "      <td>0.037736</td>\n",
       "      <td>0.000000</td>\n",
       "      <td>0.000000</td>\n",
       "      <td>0.069677</td>\n",
       "      <td>0.109208</td>\n",
       "    </tr>\n",
       "  </tbody>\n",
       "</table>\n",
       "<p>500000 rows × 8 columns</p>\n",
       "</div>"
      ],
      "text/plain": [
       "                                              variantid_1  \\\n",
       "0       00001e4f563a4dc91c63663a8b64068b82b5d046cc7b24...   \n",
       "1       00001e4f563a4dc91c63663a8b64068b82b5d046cc7b24...   \n",
       "2       00001e4f563a4dc91c63663a8b64068b82b5d046cc7b24...   \n",
       "3       0000649b9fb42fec39328949bc74877e98f6687714136d...   \n",
       "4       00010817f43942cd236fc300f0d8d497127cf48bd65245...   \n",
       "...                                                   ...   \n",
       "499995  ffff336a8447d1c9f24c47fc85af5edd26671d68171523...   \n",
       "499996  ffff6b7f2e635225076944eb333e422d4a19d87d6c5b41...   \n",
       "499997  ffff7c60d34773608a9ca373d2cb10d12d15357cbe63c4...   \n",
       "499998  ffff97e250e7e5e9c10c79ad9c9c36c1a2d7d019655ef7...   \n",
       "499999  ffffac031235b0627fe56c23054529d794ca14dee7c91a...   \n",
       "\n",
       "                                              variantid_2   rouge_1   rouge_2  \\\n",
       "0       883cb78f30a3cb90b26c674c4477464c11ac4fca8bf713...  0.402948  0.281481   \n",
       "1       afd827a7e59d8e855f0079b18d78048495757e2a2a4351...  0.403226  0.308108   \n",
       "2       d4969ce50032645ba4dfea0d4aeeb0316df579788caa22...  0.347368  0.238095   \n",
       "3       ba6045b39544dd904b7be112d0802ee1fe15d279df137e...  0.603604  0.371041   \n",
       "4       04b0e2595bf4fe466418d4158f8acf724549825519676a...  0.186495  0.012903   \n",
       "...                                                   ...       ...       ...   \n",
       "499995  8ee26e594c6ab4ed3f368eee38b14ae7a8fd4712ecfe5a...  0.229508  0.000000   \n",
       "499996  42814661b581f992113b20e73b7386f5b5bc7be4f44105...  0.964187  0.930748   \n",
       "499997  731f44210320229d83dbd906e41f37c2a871e6a6f007fe...  0.340426  0.130435   \n",
       "499998  1e15aa5d08f69e0c6cfb35f228c0ecc5a1d15027ab9665...  0.970732  0.950980   \n",
       "499999  9d099f458ed503bc55aa14a8cf275abdc41ab6a4420f8a...  0.310559  0.037736   \n",
       "\n",
       "         rouge_3   rouge_4  rouge_s4  rouge_su4  \n",
       "0       0.248139  0.219451  0.240399   0.267220  \n",
       "1       0.271739  0.240437  0.260109   0.283636  \n",
       "2       0.202128  0.176471  0.203209   0.226868  \n",
       "3       0.268182  0.205479  0.310502   0.359422  \n",
       "4       0.000000  0.000000  0.011688   0.040541  \n",
       "...          ...       ...       ...        ...  \n",
       "499995  0.000000  0.000000  0.021818   0.053892  \n",
       "499996  0.896936  0.885154  0.934454   0.939422  \n",
       "499997  0.066667  0.045455  0.090909   0.131579  \n",
       "499998  0.931034  0.910891  0.946535   0.950577  \n",
       "499999  0.000000  0.000000  0.069677   0.109208  \n",
       "\n",
       "[500000 rows x 8 columns]"
      ]
     },
     "execution_count": 575,
     "metadata": {},
     "output_type": "execute_result"
    }
   ],
   "source": [
    "test_with_rouge"
   ]
  },
  {
   "cell_type": "code",
   "execution_count": 576,
   "id": "3b131ecd-f5aa-4613-8502-026cedd7e00a",
   "metadata": {},
   "outputs": [],
   "source": [
    "train_with_rouge.to_csv('train_rouge.csv')\n",
    "test_with_rouge.to_csv('test_rouge.csv')"
   ]
  }
 ],
 "metadata": {
  "kernelspec": {
   "display_name": "Python 3 (ipykernel)",
   "language": "python",
   "name": "python3"
  },
  "language_info": {
   "codemirror_mode": {
    "name": "ipython",
    "version": 3
   },
   "file_extension": ".py",
   "mimetype": "text/x-python",
   "name": "python",
   "nbconvert_exporter": "python",
   "pygments_lexer": "ipython3",
   "version": "3.11.9"
  }
 },
 "nbformat": 4,
 "nbformat_minor": 5
}
