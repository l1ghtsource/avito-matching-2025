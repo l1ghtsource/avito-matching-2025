{
 "cells": [
  {
   "cell_type": "code",
   "execution_count": 76,
   "metadata": {
    "execution": {
     "iopub.execute_input": "2025-05-27T07:16:41.736774Z",
     "iopub.status.busy": "2025-05-27T07:16:41.735826Z",
     "iopub.status.idle": "2025-05-27T07:16:46.019900Z",
     "shell.execute_reply": "2025-05-27T07:16:46.018810Z",
     "shell.execute_reply.started": "2025-05-27T07:16:41.736741Z"
    },
    "scrolled": true,
    "trusted": true
   },
   "outputs": [],
   "source": [
    "!pip install lightautoml -q"
   ]
  },
  {
   "cell_type": "code",
   "execution_count": 77,
   "metadata": {
    "_cell_guid": "b1076dfc-b9ad-4769-8c92-a6c4dae69d19",
    "_uuid": "8f2839f25d086af736a60e9eeb907d3b93b6e0e5",
    "execution": {
     "iopub.execute_input": "2025-05-27T07:16:46.022604Z",
     "iopub.status.busy": "2025-05-27T07:16:46.022262Z",
     "iopub.status.idle": "2025-05-27T07:16:46.027872Z",
     "shell.execute_reply": "2025-05-27T07:16:46.026924Z",
     "shell.execute_reply.started": "2025-05-27T07:16:46.022566Z"
    },
    "trusted": true
   },
   "outputs": [],
   "source": [
    "import joblib\n",
    "import pandas as pd\n",
    "import numpy as np\n",
    "from tqdm import tqdm"
   ]
  },
  {
   "cell_type": "code",
   "execution_count": null,
   "metadata": {
    "execution": {
     "iopub.execute_input": "2025-05-27T07:16:46.029217Z",
     "iopub.status.busy": "2025-05-27T07:16:46.028906Z",
     "iopub.status.idle": "2025-05-27T07:16:46.835776Z",
     "shell.execute_reply": "2025-05-27T07:16:46.834893Z",
     "shell.execute_reply.started": "2025-05-27T07:16:46.029195Z"
    },
    "trusted": true
   },
   "outputs": [],
   "source": [
    "test = pd.read_parquet(\n",
    "    'test_df.parquet',\n",
    "    columns=[\n",
    "        'variantid_1', 'variantid_2', \n",
    "        'category_level_1_1', 'category_level_1_2', \n",
    "        'category_level_2_1', 'category_level_2_2', \n",
    "        'category_level_3_1', 'category_level_3_2', \n",
    "        'category_level_4_1', 'category_level_4_2', \n",
    "    ]\n",
    ")"
   ]
  },
  {
   "cell_type": "code",
   "execution_count": 79,
   "metadata": {
    "execution": {
     "iopub.execute_input": "2025-05-27T07:16:46.838027Z",
     "iopub.status.busy": "2025-05-27T07:16:46.837765Z",
     "iopub.status.idle": "2025-05-27T07:16:46.853799Z",
     "shell.execute_reply": "2025-05-27T07:16:46.853010Z",
     "shell.execute_reply.started": "2025-05-27T07:16:46.838009Z"
    },
    "trusted": true
   },
   "outputs": [
    {
     "data": {
      "text/html": [
       "<div>\n",
       "<style scoped>\n",
       "    .dataframe tbody tr th:only-of-type {\n",
       "        vertical-align: middle;\n",
       "    }\n",
       "\n",
       "    .dataframe tbody tr th {\n",
       "        vertical-align: top;\n",
       "    }\n",
       "\n",
       "    .dataframe thead th {\n",
       "        text-align: right;\n",
       "    }\n",
       "</style>\n",
       "<table border=\"1\" class=\"dataframe\">\n",
       "  <thead>\n",
       "    <tr style=\"text-align: right;\">\n",
       "      <th></th>\n",
       "      <th>variantid_1</th>\n",
       "      <th>variantid_2</th>\n",
       "      <th>category_level_1_1</th>\n",
       "      <th>category_level_1_2</th>\n",
       "      <th>category_level_2_1</th>\n",
       "      <th>category_level_2_2</th>\n",
       "      <th>category_level_3_1</th>\n",
       "      <th>category_level_3_2</th>\n",
       "      <th>category_level_4_1</th>\n",
       "      <th>category_level_4_2</th>\n",
       "    </tr>\n",
       "  </thead>\n",
       "  <tbody>\n",
       "    <tr>\n",
       "      <th>0</th>\n",
       "      <td>00001e4f563a4dc91c63663a8b64068b82b5d046cc7b24...</td>\n",
       "      <td>883cb78f30a3cb90b26c674c4477464c11ac4fca8bf713...</td>\n",
       "      <td>Электроника</td>\n",
       "      <td>Электроника</td>\n",
       "      <td>Товары для компьютера</td>\n",
       "      <td>Товары для компьютера</td>\n",
       "      <td>Аксессуары</td>\n",
       "      <td>Клавиатуры и мыши</td>\n",
       "      <td>None</td>\n",
       "      <td>None</td>\n",
       "    </tr>\n",
       "    <tr>\n",
       "      <th>1</th>\n",
       "      <td>00001e4f563a4dc91c63663a8b64068b82b5d046cc7b24...</td>\n",
       "      <td>afd827a7e59d8e855f0079b18d78048495757e2a2a4351...</td>\n",
       "      <td>Электроника</td>\n",
       "      <td>Электроника</td>\n",
       "      <td>Товары для компьютера</td>\n",
       "      <td>Товары для компьютера</td>\n",
       "      <td>Аксессуары</td>\n",
       "      <td>Веб-камеры</td>\n",
       "      <td>None</td>\n",
       "      <td>None</td>\n",
       "    </tr>\n",
       "    <tr>\n",
       "      <th>2</th>\n",
       "      <td>00001e4f563a4dc91c63663a8b64068b82b5d046cc7b24...</td>\n",
       "      <td>d4969ce50032645ba4dfea0d4aeeb0316df579788caa22...</td>\n",
       "      <td>Электроника</td>\n",
       "      <td>Электроника</td>\n",
       "      <td>Товары для компьютера</td>\n",
       "      <td>Товары для компьютера</td>\n",
       "      <td>Аксессуары</td>\n",
       "      <td>Аксессуары</td>\n",
       "      <td>None</td>\n",
       "      <td>None</td>\n",
       "    </tr>\n",
       "    <tr>\n",
       "      <th>3</th>\n",
       "      <td>0000649b9fb42fec39328949bc74877e98f6687714136d...</td>\n",
       "      <td>ba6045b39544dd904b7be112d0802ee1fe15d279df137e...</td>\n",
       "      <td>Хобби и отдых</td>\n",
       "      <td>Хобби и отдых</td>\n",
       "      <td>Спорт и отдых</td>\n",
       "      <td>Спорт и отдых</td>\n",
       "      <td>Зимний спорт</td>\n",
       "      <td>Зимний спорт</td>\n",
       "      <td>Хоккей</td>\n",
       "      <td>Хоккей</td>\n",
       "    </tr>\n",
       "    <tr>\n",
       "      <th>4</th>\n",
       "      <td>00010817f43942cd236fc300f0d8d497127cf48bd65245...</td>\n",
       "      <td>04b0e2595bf4fe466418d4158f8acf724549825519676a...</td>\n",
       "      <td>Услуги</td>\n",
       "      <td>Услуги</td>\n",
       "      <td>Предложение услуг</td>\n",
       "      <td>Предложение услуг</td>\n",
       "      <td>IT, дизайн, маркетинг</td>\n",
       "      <td>IT, дизайн, маркетинг</td>\n",
       "      <td>Реклама, PR, маркетинг</td>\n",
       "      <td>Реклама, PR, маркетинг</td>\n",
       "    </tr>\n",
       "    <tr>\n",
       "      <th>...</th>\n",
       "      <td>...</td>\n",
       "      <td>...</td>\n",
       "      <td>...</td>\n",
       "      <td>...</td>\n",
       "      <td>...</td>\n",
       "      <td>...</td>\n",
       "      <td>...</td>\n",
       "      <td>...</td>\n",
       "      <td>...</td>\n",
       "      <td>...</td>\n",
       "    </tr>\n",
       "    <tr>\n",
       "      <th>499995</th>\n",
       "      <td>ffff336a8447d1c9f24c47fc85af5edd26671d68171523...</td>\n",
       "      <td>8ee26e594c6ab4ed3f368eee38b14ae7a8fd4712ecfe5a...</td>\n",
       "      <td>Электроника</td>\n",
       "      <td>Электроника</td>\n",
       "      <td>Телефоны</td>\n",
       "      <td>Телефоны</td>\n",
       "      <td>Аксессуары</td>\n",
       "      <td>Аксессуары</td>\n",
       "      <td>Чехлы и плёнки</td>\n",
       "      <td>Чехлы и плёнки</td>\n",
       "    </tr>\n",
       "    <tr>\n",
       "      <th>499996</th>\n",
       "      <td>ffff6b7f2e635225076944eb333e422d4a19d87d6c5b41...</td>\n",
       "      <td>42814661b581f992113b20e73b7386f5b5bc7be4f44105...</td>\n",
       "      <td>Транспорт</td>\n",
       "      <td>Транспорт</td>\n",
       "      <td>Запчасти и аксессуары</td>\n",
       "      <td>Запчасти и аксессуары</td>\n",
       "      <td>Шины, диски и колёса</td>\n",
       "      <td>Шины, диски и колёса</td>\n",
       "      <td>Легковые шины</td>\n",
       "      <td>Легковые шины</td>\n",
       "    </tr>\n",
       "    <tr>\n",
       "      <th>499997</th>\n",
       "      <td>ffff7c60d34773608a9ca373d2cb10d12d15357cbe63c4...</td>\n",
       "      <td>731f44210320229d83dbd906e41f37c2a871e6a6f007fe...</td>\n",
       "      <td>Животные</td>\n",
       "      <td>Животные</td>\n",
       "      <td>Товары для животных</td>\n",
       "      <td>Товары для животных</td>\n",
       "      <td>None</td>\n",
       "      <td>None</td>\n",
       "      <td>None</td>\n",
       "      <td>None</td>\n",
       "    </tr>\n",
       "    <tr>\n",
       "      <th>499998</th>\n",
       "      <td>ffff97e250e7e5e9c10c79ad9c9c36c1a2d7d019655ef7...</td>\n",
       "      <td>1e15aa5d08f69e0c6cfb35f228c0ecc5a1d15027ab9665...</td>\n",
       "      <td>Транспорт</td>\n",
       "      <td>Транспорт</td>\n",
       "      <td>Запчасти и аксессуары</td>\n",
       "      <td>Запчасти и аксессуары</td>\n",
       "      <td>Запчасти</td>\n",
       "      <td>Запчасти</td>\n",
       "      <td>Для автомобилей</td>\n",
       "      <td>Для автомобилей</td>\n",
       "    </tr>\n",
       "    <tr>\n",
       "      <th>499999</th>\n",
       "      <td>ffffac031235b0627fe56c23054529d794ca14dee7c91a...</td>\n",
       "      <td>9d099f458ed503bc55aa14a8cf275abdc41ab6a4420f8a...</td>\n",
       "      <td>Животные</td>\n",
       "      <td>Животные</td>\n",
       "      <td>Товары для животных</td>\n",
       "      <td>Товары для животных</td>\n",
       "      <td>None</td>\n",
       "      <td>None</td>\n",
       "      <td>None</td>\n",
       "      <td>None</td>\n",
       "    </tr>\n",
       "  </tbody>\n",
       "</table>\n",
       "<p>500000 rows × 10 columns</p>\n",
       "</div>"
      ],
      "text/plain": [
       "                                              variantid_1  \\\n",
       "0       00001e4f563a4dc91c63663a8b64068b82b5d046cc7b24...   \n",
       "1       00001e4f563a4dc91c63663a8b64068b82b5d046cc7b24...   \n",
       "2       00001e4f563a4dc91c63663a8b64068b82b5d046cc7b24...   \n",
       "3       0000649b9fb42fec39328949bc74877e98f6687714136d...   \n",
       "4       00010817f43942cd236fc300f0d8d497127cf48bd65245...   \n",
       "...                                                   ...   \n",
       "499995  ffff336a8447d1c9f24c47fc85af5edd26671d68171523...   \n",
       "499996  ffff6b7f2e635225076944eb333e422d4a19d87d6c5b41...   \n",
       "499997  ffff7c60d34773608a9ca373d2cb10d12d15357cbe63c4...   \n",
       "499998  ffff97e250e7e5e9c10c79ad9c9c36c1a2d7d019655ef7...   \n",
       "499999  ffffac031235b0627fe56c23054529d794ca14dee7c91a...   \n",
       "\n",
       "                                              variantid_2 category_level_1_1  \\\n",
       "0       883cb78f30a3cb90b26c674c4477464c11ac4fca8bf713...        Электроника   \n",
       "1       afd827a7e59d8e855f0079b18d78048495757e2a2a4351...        Электроника   \n",
       "2       d4969ce50032645ba4dfea0d4aeeb0316df579788caa22...        Электроника   \n",
       "3       ba6045b39544dd904b7be112d0802ee1fe15d279df137e...      Хобби и отдых   \n",
       "4       04b0e2595bf4fe466418d4158f8acf724549825519676a...             Услуги   \n",
       "...                                                   ...                ...   \n",
       "499995  8ee26e594c6ab4ed3f368eee38b14ae7a8fd4712ecfe5a...        Электроника   \n",
       "499996  42814661b581f992113b20e73b7386f5b5bc7be4f44105...          Транспорт   \n",
       "499997  731f44210320229d83dbd906e41f37c2a871e6a6f007fe...           Животные   \n",
       "499998  1e15aa5d08f69e0c6cfb35f228c0ecc5a1d15027ab9665...          Транспорт   \n",
       "499999  9d099f458ed503bc55aa14a8cf275abdc41ab6a4420f8a...           Животные   \n",
       "\n",
       "       category_level_1_2     category_level_2_1     category_level_2_2  \\\n",
       "0             Электроника  Товары для компьютера  Товары для компьютера   \n",
       "1             Электроника  Товары для компьютера  Товары для компьютера   \n",
       "2             Электроника  Товары для компьютера  Товары для компьютера   \n",
       "3           Хобби и отдых          Спорт и отдых          Спорт и отдых   \n",
       "4                  Услуги      Предложение услуг      Предложение услуг   \n",
       "...                   ...                    ...                    ...   \n",
       "499995        Электроника               Телефоны               Телефоны   \n",
       "499996          Транспорт  Запчасти и аксессуары  Запчасти и аксессуары   \n",
       "499997           Животные    Товары для животных    Товары для животных   \n",
       "499998          Транспорт  Запчасти и аксессуары  Запчасти и аксессуары   \n",
       "499999           Животные    Товары для животных    Товары для животных   \n",
       "\n",
       "           category_level_3_1     category_level_3_2      category_level_4_1  \\\n",
       "0                  Аксессуары      Клавиатуры и мыши                    None   \n",
       "1                  Аксессуары             Веб-камеры                    None   \n",
       "2                  Аксессуары             Аксессуары                    None   \n",
       "3                Зимний спорт           Зимний спорт                  Хоккей   \n",
       "4       IT, дизайн, маркетинг  IT, дизайн, маркетинг  Реклама, PR, маркетинг   \n",
       "...                       ...                    ...                     ...   \n",
       "499995             Аксессуары             Аксессуары          Чехлы и плёнки   \n",
       "499996   Шины, диски и колёса   Шины, диски и колёса           Легковые шины   \n",
       "499997                   None                   None                    None   \n",
       "499998               Запчасти               Запчасти         Для автомобилей   \n",
       "499999                   None                   None                    None   \n",
       "\n",
       "            category_level_4_2  \n",
       "0                         None  \n",
       "1                         None  \n",
       "2                         None  \n",
       "3                       Хоккей  \n",
       "4       Реклама, PR, маркетинг  \n",
       "...                        ...  \n",
       "499995          Чехлы и плёнки  \n",
       "499996           Легковые шины  \n",
       "499997                    None  \n",
       "499998         Для автомобилей  \n",
       "499999                    None  \n",
       "\n",
       "[500000 rows x 10 columns]"
      ]
     },
     "execution_count": 79,
     "metadata": {},
     "output_type": "execute_result"
    }
   ],
   "source": [
    "test"
   ]
  },
  {
   "cell_type": "code",
   "execution_count": 80,
   "metadata": {
    "execution": {
     "iopub.execute_input": "2025-05-27T07:16:46.855235Z",
     "iopub.status.busy": "2025-05-27T07:16:46.854927Z",
     "iopub.status.idle": "2025-05-27T07:16:47.822808Z",
     "shell.execute_reply": "2025-05-27T07:16:47.821968Z",
     "shell.execute_reply.started": "2025-05-27T07:16:46.855213Z"
    },
    "trusted": true
   },
   "outputs": [],
   "source": [
    "test['unique_cat_1'] = test['category_level_1_1'] + '_' + test['category_level_1_2']\n",
    "test['unique_cat_2'] = test['category_level_2_1'] + '_' + test['category_level_2_2']\n",
    "test['unique_cat_3'] = test['category_level_3_1'] + '_' + test['category_level_3_2']\n",
    "test['unique_cat_4'] = test['category_level_4_1'] + '_' + test['category_level_4_2']"
   ]
  },
  {
   "cell_type": "code",
   "execution_count": 81,
   "metadata": {
    "execution": {
     "iopub.execute_input": "2025-05-27T07:16:47.824185Z",
     "iopub.status.busy": "2025-05-27T07:16:47.823799Z",
     "iopub.status.idle": "2025-05-27T07:16:47.829101Z",
     "shell.execute_reply": "2025-05-27T07:16:47.828150Z",
     "shell.execute_reply.started": "2025-05-27T07:16:47.824155Z"
    },
    "trusted": true
   },
   "outputs": [],
   "source": [
    "def prauc_metric(y_true, y_pred, sample_weight, **kwargs):\n",
    "    pass"
   ]
  },
  {
   "cell_type": "code",
   "execution_count": null,
   "metadata": {
    "execution": {
     "iopub.execute_input": "2025-05-27T07:16:47.830483Z",
     "iopub.status.busy": "2025-05-27T07:16:47.830119Z",
     "iopub.status.idle": "2025-05-27T07:16:47.848678Z",
     "shell.execute_reply": "2025-05-27T07:16:47.847819Z",
     "shell.execute_reply.started": "2025-05-27T07:16:47.830456Z"
    },
    "trusted": true
   },
   "outputs": [],
   "source": [
    "probas = joblib.load('27-05-avito-lama-pizda/test_pred.joblib').data.squeeze()\n",
    "# probas = joblib.load('19-05-avito-add-rouge-cb/ensemble_predictions_cb.joblib')"
   ]
  },
  {
   "cell_type": "code",
   "execution_count": 83,
   "metadata": {
    "execution": {
     "iopub.execute_input": "2025-05-27T07:16:47.849943Z",
     "iopub.status.busy": "2025-05-27T07:16:47.849637Z",
     "iopub.status.idle": "2025-05-27T07:16:47.863922Z",
     "shell.execute_reply": "2025-05-27T07:16:47.862975Z",
     "shell.execute_reply.started": "2025-05-27T07:16:47.849904Z"
    },
    "trusted": true
   },
   "outputs": [],
   "source": [
    "test['all_probability'] = probas\n",
    "test['cat1_probability'] = probas\n",
    "# test['cat2_probability'] = probas"
   ]
  },
  {
   "cell_type": "code",
   "execution_count": 84,
   "metadata": {
    "execution": {
     "iopub.execute_input": "2025-05-27T07:16:47.865302Z",
     "iopub.status.busy": "2025-05-27T07:16:47.865030Z",
     "iopub.status.idle": "2025-05-27T07:16:47.878676Z",
     "shell.execute_reply": "2025-05-27T07:16:47.877688Z",
     "shell.execute_reply.started": "2025-05-27T07:16:47.865282Z"
    },
    "trusted": true
   },
   "outputs": [],
   "source": [
    "cat1_mapping = {\n",
    "    'Электроника': 'el',\n",
    "    'Хобби и отдых': 'hob',\n",
    "    'Животные': 'zhiv',\n",
    "    'Личные вещи': 'lyc',\n",
    "    'Для дома и дачи': 'dom',\n",
    "    'Готовый бизнес и оборудование': 'got',\n",
    "    'Транспорт': 'trans'\n",
    "}\n",
    "\n",
    "cat2_mapping = {\n",
    "    'Коллекционирование': 'kolekc',\n",
    "    'Оргтехника и расходники': 'orgtech',\n",
    "    'Ремонт и строительство': 'remont',\n",
    "    'Телефоны': 'telef',\n",
    "    'Детская одежда и обувь': 'detod',\n",
    "    'Одежда, обувь, аксессуары': 'odezda',\n",
    "    'Оборудование для бизнеса': 'oborud',\n",
    "    'Аудио и видео': 'audio',\n",
    "    'Мебель и интерьер': 'mebel',\n",
    "    'Запчасти и аксессуары': 'zapch',\n",
    "} # only where cat_size > 40000"
   ]
  },
  {
   "cell_type": "code",
   "execution_count": 85,
   "metadata": {
    "execution": {
     "iopub.execute_input": "2025-05-27T07:16:47.881942Z",
     "iopub.status.busy": "2025-05-27T07:16:47.881658Z",
     "iopub.status.idle": "2025-05-27T07:16:47.897438Z",
     "shell.execute_reply": "2025-05-27T07:16:47.896536Z",
     "shell.execute_reply.started": "2025-05-27T07:16:47.881922Z"
    },
    "trusted": true
   },
   "outputs": [
    {
     "data": {
      "text/plain": [
       "7"
      ]
     },
     "execution_count": 85,
     "metadata": {},
     "output_type": "execute_result"
    }
   ],
   "source": [
    "len(cat1_mapping)#, len(cat2_mapping)"
   ]
  },
  {
   "cell_type": "code",
   "execution_count": null,
   "metadata": {
    "execution": {
     "iopub.execute_input": "2025-05-27T07:16:47.899486Z",
     "iopub.status.busy": "2025-05-27T07:16:47.898573Z",
     "iopub.status.idle": "2025-05-27T07:16:48.578767Z",
     "shell.execute_reply": "2025-05-27T07:16:48.577807Z",
     "shell.execute_reply.started": "2025-05-27T07:16:47.899455Z"
    },
    "trusted": true
   },
   "outputs": [
    {
     "name": "stderr",
     "output_type": "stream",
     "text": [
      "category='Электроника':   0%|          | 0/7 [00:00<?, ?it/s]/tmp/ipykernel_32/2811698314.py:14: FutureWarning: Setting an item of incompatible dtype is deprecated and will raise an error in a future version of pandas. Value '[0.01426355 0.00705843 0.01455234 ... 0.00234322 0.00120495 0.0014843 ]' has dtype incompatible with float32, please explicitly cast to a compatible dtype first.\n",
      "  test.loc[index, 'cat1_probability'] = cat_probas\n",
      "category='Транспорт': 100%|██████████| 7/7 [00:00<00:00, 12.90it/s]                    \n"
     ]
    }
   ],
   "source": [
    "categories1 = test['unique_cat_1'].unique()\n",
    "categories1 = [cat.split('_')[0] for cat in categories1 if cat.split('_')[0] == cat.split('_')[1]]\n",
    "categories1 = [x for x in categories1 if x in cat1_mapping.keys()]\n",
    "\n",
    "progress_bar = tqdm(categories1)\n",
    "for category in progress_bar:\n",
    "    progress_bar.set_description(f\"{category=}\")\n",
    "\n",
    "    cat_probas1 = joblib.load(f'23-05-avito-rouge-cat1-10folds/rouge_cat1_10folds/{cat1_mapping[category]}.joblib')\n",
    "    cat_probas2 = joblib.load(f'24-05-avito-cat1lamas-rouge-10folds/cat1lamas_rouge_10folds/{cat1_mapping[category]}.joblib').data.squeeze()\n",
    "    cat_probas = cat_probas1 * 0.7 + cat_probas2 * 0.3\n",
    "\n",
    "    index = test[test['unique_cat_1'] == f'{category}_{category}'].index\n",
    "    test.loc[index, 'cat1_probability'] = cat_probas\n",
    "\n",
    "# categories2 = test['unique_cat_2'].unique()\n",
    "# categories2 = [cat.split('_')[0] for cat in categories2 if cat.split('_')[0] == cat.split('_')[1]]\n",
    "# categories2 = [x for x in categories2 if x in cat2_mapping.keys()]\n",
    "\n",
    "# progress_bar = tqdm(categories2)\n",
    "# for category in progress_bar:\n",
    "#     progress_bar.set_description(f\"{category=}\")\n",
    "\n",
    "#     cat_probas = joblib.load(f'19-05-avito-cat2-cb-preds/{cat2_mapping[category]}.joblib')\n",
    "\n",
    "#     index = test[test['unique_cat_2'] == f'{category}_{category}'].index\n",
    "#     test.loc[index, 'cat2_probability'] = cat_probas"
   ]
  },
  {
   "cell_type": "code",
   "execution_count": 87,
   "metadata": {
    "execution": {
     "iopub.execute_input": "2025-05-27T07:16:48.580129Z",
     "iopub.status.busy": "2025-05-27T07:16:48.579731Z",
     "iopub.status.idle": "2025-05-27T07:16:48.588366Z",
     "shell.execute_reply": "2025-05-27T07:16:48.587531Z",
     "shell.execute_reply.started": "2025-05-27T07:16:48.580106Z"
    },
    "trusted": true
   },
   "outputs": [],
   "source": [
    "# test['probability'] = test['all_probability']\n",
    "test['probability'] = (test['all_probability'] * 0.5 + test['cat1_probability'] * 0.5)\n",
    "# test['probability'] = (test['all_probability'] * 0.4 + test['cat1_probability'] * 0.4 + test['cat2_probability'] * 0.2)"
   ]
  },
  {
   "cell_type": "code",
   "execution_count": 88,
   "metadata": {
    "execution": {
     "iopub.execute_input": "2025-05-27T07:16:48.589855Z",
     "iopub.status.busy": "2025-05-27T07:16:48.589410Z",
     "iopub.status.idle": "2025-05-27T07:16:48.602731Z",
     "shell.execute_reply": "2025-05-27T07:16:48.601730Z",
     "shell.execute_reply.started": "2025-05-27T07:16:48.589832Z"
    },
    "trusted": true
   },
   "outputs": [],
   "source": [
    "test.rename(columns={\n",
    "    'variantid_1': 'base_id',\n",
    "    'variantid_2': 'cand_id',\n",
    "}, inplace=True)"
   ]
  },
  {
   "cell_type": "code",
   "execution_count": 89,
   "metadata": {
    "execution": {
     "iopub.execute_input": "2025-05-27T07:16:48.604100Z",
     "iopub.status.busy": "2025-05-27T07:16:48.603857Z",
     "iopub.status.idle": "2025-05-27T07:16:48.853895Z",
     "shell.execute_reply": "2025-05-27T07:16:48.852967Z",
     "shell.execute_reply.started": "2025-05-27T07:16:48.604079Z"
    },
    "trusted": true
   },
   "outputs": [
    {
     "data": {
      "text/plain": [
       "<Axes: ylabel='Frequency'>"
      ]
     },
     "execution_count": 89,
     "metadata": {},
     "output_type": "execute_result"
    },
    {
     "data": {
      "image/png": "[encoded data removed]",
      "text/plain": [
       "<Figure size 640x480 with 1 Axes>"
      ]
     },
     "metadata": {},
     "output_type": "display_data"
    }
   ],
   "source": [
    "test['probability'].plot(kind='hist')"
   ]
  },
  {
   "cell_type": "code",
   "execution_count": 90,
   "metadata": {
    "execution": {
     "iopub.execute_input": "2025-05-27T07:16:48.855529Z",
     "iopub.status.busy": "2025-05-27T07:16:48.855245Z",
     "iopub.status.idle": "2025-05-27T07:16:49.089093Z",
     "shell.execute_reply": "2025-05-27T07:16:49.088218Z",
     "shell.execute_reply.started": "2025-05-27T07:16:48.855508Z"
    },
    "trusted": true
   },
   "outputs": [
    {
     "data": {
      "text/plain": [
       "<Axes: ylabel='Frequency'>"
      ]
     },
     "execution_count": 90,
     "metadata": {},
     "output_type": "execute_result"
    },
    {
     "data": {
      "image/png": "[encoded data removed]",
      "text/plain": [
       "<Figure size 640x480 with 1 Axes>"
      ]
     },
     "metadata": {},
     "output_type": "display_data"
    }
   ],
   "source": [
    "test[test['category_level_1_1'] == 'Животные']['probability'].plot(kind='hist')"
   ]
  },
  {
   "cell_type": "code",
   "execution_count": 91,
   "metadata": {
    "execution": {
     "iopub.execute_input": "2025-05-27T07:16:49.090487Z",
     "iopub.status.busy": "2025-05-27T07:16:49.090116Z",
     "iopub.status.idle": "2025-05-27T07:16:49.138029Z",
     "shell.execute_reply": "2025-05-27T07:16:49.137151Z",
     "shell.execute_reply.started": "2025-05-27T07:16:49.090458Z"
    },
    "trusted": true
   },
   "outputs": [],
   "source": [
    "test.loc[test['category_level_1_1'] == 'Животные', 'probability'] *= 1.3\n",
    "test['probability'] = test['probability'].clip(0, 1)"
   ]
  },
  {
   "cell_type": "code",
   "execution_count": 92,
   "metadata": {
    "execution": {
     "iopub.execute_input": "2025-05-27T07:16:49.139494Z",
     "iopub.status.busy": "2025-05-27T07:16:49.139128Z",
     "iopub.status.idle": "2025-05-27T07:16:49.388513Z",
     "shell.execute_reply": "2025-05-27T07:16:49.387269Z",
     "shell.execute_reply.started": "2025-05-27T07:16:49.139463Z"
    },
    "trusted": true
   },
   "outputs": [
    {
     "data": {
      "text/plain": [
       "<Axes: ylabel='Frequency'>"
      ]
     },
     "execution_count": 92,
     "metadata": {},
     "output_type": "execute_result"
    },
    {
     "data": {
      "image/png": "[encoded data removed]",
      "text/plain": [
       "<Figure size 640x480 with 1 Axes>"
      ]
     },
     "metadata": {},
     "output_type": "display_data"
    }
   ],
   "source": [
    "test[test['category_level_1_1'] == 'Животные']['probability'].plot(kind='hist')"
   ]
  },
  {
   "cell_type": "code",
   "execution_count": 93,
   "metadata": {
    "execution": {
     "iopub.execute_input": "2025-05-27T07:16:49.390649Z",
     "iopub.status.busy": "2025-05-27T07:16:49.390293Z",
     "iopub.status.idle": "2025-05-27T07:16:49.645507Z",
     "shell.execute_reply": "2025-05-27T07:16:49.644553Z",
     "shell.execute_reply.started": "2025-05-27T07:16:49.390620Z"
    },
    "trusted": true
   },
   "outputs": [
    {
     "data": {
      "text/plain": [
       "<Axes: ylabel='Frequency'>"
      ]
     },
     "execution_count": 93,
     "metadata": {},
     "output_type": "execute_result"
    },
    {
     "data": {
      "image/png": "[encoded data removed]",
      "text/plain": [
       "<Figure size 640x480 with 1 Axes>"
      ]
     },
     "metadata": {},
     "output_type": "display_data"
    }
   ],
   "source": [
    "test[test['category_level_1_1'] == 'Электроника']['probability'].plot(kind='hist')"
   ]
  },
  {
   "cell_type": "code",
   "execution_count": 94,
   "metadata": {
    "execution": {
     "iopub.execute_input": "2025-05-27T07:16:49.647222Z",
     "iopub.status.busy": "2025-05-27T07:16:49.646745Z",
     "iopub.status.idle": "2025-05-27T07:16:49.698681Z",
     "shell.execute_reply": "2025-05-27T07:16:49.697717Z",
     "shell.execute_reply.started": "2025-05-27T07:16:49.647197Z"
    },
    "trusted": true
   },
   "outputs": [],
   "source": [
    "test.loc[test['category_level_1_1'] == 'Электроника', 'probability'] *= 1.3\n",
    "test['probability'] = test['probability'].clip(0, 1)"
   ]
  },
  {
   "cell_type": "code",
   "execution_count": 95,
   "metadata": {
    "execution": {
     "iopub.execute_input": "2025-05-27T07:16:49.699979Z",
     "iopub.status.busy": "2025-05-27T07:16:49.699569Z",
     "iopub.status.idle": "2025-05-27T07:16:49.960630Z",
     "shell.execute_reply": "2025-05-27T07:16:49.959842Z",
     "shell.execute_reply.started": "2025-05-27T07:16:49.699943Z"
    },
    "trusted": true
   },
   "outputs": [
    {
     "data": {
      "text/plain": [
       "<Axes: ylabel='Frequency'>"
      ]
     },
     "execution_count": 95,
     "metadata": {},
     "output_type": "execute_result"
    },
    {
     "data": {
      "image/png": "[encoded data removed]",
      "text/plain": [
       "<Figure size 640x480 with 1 Axes>"
      ]
     },
     "metadata": {},
     "output_type": "display_data"
    }
   ],
   "source": [
    "test[test['category_level_1_1'] == 'Электроника']['probability'].plot(kind='hist')"
   ]
  },
  {
   "cell_type": "code",
   "execution_count": 96,
   "metadata": {
    "execution": {
     "iopub.execute_input": "2025-05-27T07:16:49.961781Z",
     "iopub.status.busy": "2025-05-27T07:16:49.961548Z",
     "iopub.status.idle": "2025-05-27T07:16:50.211842Z",
     "shell.execute_reply": "2025-05-27T07:16:50.210990Z",
     "shell.execute_reply.started": "2025-05-27T07:16:49.961763Z"
    },
    "trusted": true
   },
   "outputs": [
    {
     "data": {
      "text/plain": [
       "<Axes: ylabel='Frequency'>"
      ]
     },
     "execution_count": 96,
     "metadata": {},
     "output_type": "execute_result"
    },
    {
     "data": {
      "image/png": "[encoded data removed]",
      "text/plain": [
       "<Figure size 640x480 with 1 Axes>"
      ]
     },
     "metadata": {},
     "output_type": "display_data"
    }
   ],
   "source": [
    "test[test['category_level_1_1'] == 'Транспорт']['probability'].plot(kind='hist')"
   ]
  },
  {
   "cell_type": "code",
   "execution_count": 97,
   "metadata": {
    "execution": {
     "iopub.execute_input": "2025-05-27T07:16:50.213020Z",
     "iopub.status.busy": "2025-05-27T07:16:50.212731Z",
     "iopub.status.idle": "2025-05-27T07:16:50.263380Z",
     "shell.execute_reply": "2025-05-27T07:16:50.262355Z",
     "shell.execute_reply.started": "2025-05-27T07:16:50.212999Z"
    },
    "trusted": true
   },
   "outputs": [],
   "source": [
    "test.loc[test['category_level_1_1'] == 'Транспорт', 'probability'] *= 1.2\n",
    "test['probability'] = test['probability'].clip(0, 1)"
   ]
  },
  {
   "cell_type": "code",
   "execution_count": 98,
   "metadata": {
    "execution": {
     "iopub.execute_input": "2025-05-27T07:16:50.264767Z",
     "iopub.status.busy": "2025-05-27T07:16:50.264441Z",
     "iopub.status.idle": "2025-05-27T07:16:50.797976Z",
     "shell.execute_reply": "2025-05-27T07:16:50.797072Z",
     "shell.execute_reply.started": "2025-05-27T07:16:50.264738Z"
    },
    "trusted": true
   },
   "outputs": [
    {
     "data": {
      "text/plain": [
       "<Axes: ylabel='Frequency'>"
      ]
     },
     "execution_count": 98,
     "metadata": {},
     "output_type": "execute_result"
    },
    {
     "data": {
      "image/png": "[encoded data removed]",
      "text/plain": [
       "<Figure size 640x480 with 1 Axes>"
      ]
     },
     "metadata": {},
     "output_type": "display_data"
    }
   ],
   "source": [
    "test[test['category_level_1_1'] == 'Транспорт']['probability'].plot(kind='hist')"
   ]
  },
  {
   "cell_type": "code",
   "execution_count": 99,
   "metadata": {
    "execution": {
     "iopub.execute_input": "2025-05-27T07:16:50.799291Z",
     "iopub.status.busy": "2025-05-27T07:16:50.798965Z",
     "iopub.status.idle": "2025-05-27T07:16:50.825570Z",
     "shell.execute_reply": "2025-05-27T07:16:50.824726Z",
     "shell.execute_reply.started": "2025-05-27T07:16:50.799270Z"
    },
    "trusted": true
   },
   "outputs": [],
   "source": [
    "test = test[['base_id', 'cand_id', 'probability']]"
   ]
  },
  {
   "cell_type": "code",
   "execution_count": 100,
   "metadata": {
    "execution": {
     "iopub.execute_input": "2025-05-27T07:16:50.827006Z",
     "iopub.status.busy": "2025-05-27T07:16:50.826563Z",
     "iopub.status.idle": "2025-05-27T07:16:54.182844Z",
     "shell.execute_reply": "2025-05-27T07:16:54.181855Z",
     "shell.execute_reply.started": "2025-05-27T07:16:50.826982Z"
    },
    "trusted": true
   },
   "outputs": [],
   "source": [
    "test.to_csv('z_e_1_3_t_1_25_0_5baselama_3seeds_0_5((0_3cat1lamas_0_7cat1cbs)_10f).csv', index=False)"
   ]
  }
 ],
 "metadata": {
  "kaggle": {
   "accelerator": "none",
   "dataSources": [
    {
     "datasetId": 7210517,
     "isSourceIdPinned": false,
     "sourceId": 11590590,
     "sourceType": "datasetVersion"
    },
    {
     "datasetId": 7291288,
     "sourceId": 11622602,
     "sourceType": "datasetVersion"
    },
    {
     "datasetId": 7352574,
     "sourceId": 11713573,
     "sourceType": "datasetVersion"
    },
    {
     "datasetId": 7353108,
     "sourceId": 11714383,
     "sourceType": "datasetVersion"
    },
    {
     "datasetId": 7357751,
     "sourceId": 11720827,
     "sourceType": "datasetVersion"
    },
    {
     "datasetId": 7361172,
     "sourceId": 11726753,
     "sourceType": "datasetVersion"
    },
    {
     "datasetId": 7364926,
     "sourceId": 11732120,
     "sourceType": "datasetVersion"
    },
    {
     "datasetId": 7365009,
     "sourceId": 11732238,
     "sourceType": "datasetVersion"
    },
    {
     "datasetId": 7373697,
     "sourceId": 11746077,
     "sourceType": "datasetVersion"
    },
    {
     "datasetId": 7376217,
     "sourceId": 11749661,
     "sourceType": "datasetVersion"
    },
    {
     "datasetId": 7386884,
     "sourceId": 11766507,
     "sourceType": "datasetVersion"
    },
    {
     "datasetId": 7401152,
     "sourceId": 11787504,
     "sourceType": "datasetVersion"
    },
    {
     "datasetId": 7401298,
     "sourceId": 11787694,
     "sourceType": "datasetVersion"
    },
    {
     "datasetId": 7404638,
     "sourceId": 11792395,
     "sourceType": "datasetVersion"
    },
    {
     "datasetId": 7410736,
     "sourceId": 11800717,
     "sourceType": "datasetVersion"
    },
    {
     "datasetId": 7410930,
     "sourceId": 11801005,
     "sourceType": "datasetVersion"
    },
    {
     "datasetId": 7411085,
     "sourceId": 11801220,
     "sourceType": "datasetVersion"
    },
    {
     "datasetId": 7413687,
     "sourceId": 11805067,
     "sourceType": "datasetVersion"
    },
    {
     "datasetId": 7427360,
     "sourceId": 11823793,
     "sourceType": "datasetVersion"
    },
    {
     "datasetId": 7427382,
     "sourceId": 11823827,
     "sourceType": "datasetVersion"
    },
    {
     "datasetId": 7429997,
     "sourceId": 11827433,
     "sourceType": "datasetVersion"
    },
    {
     "datasetId": 7433471,
     "sourceId": 11832363,
     "sourceType": "datasetVersion"
    },
    {
     "datasetId": 7446817,
     "sourceId": 11851303,
     "sourceType": "datasetVersion"
    },
    {
     "datasetId": 7462676,
     "sourceId": 11874592,
     "sourceType": "datasetVersion"
    },
    {
     "datasetId": 7462754,
     "sourceId": 11874696,
     "sourceType": "datasetVersion"
    },
    {
     "datasetId": 7462809,
     "sourceId": 11874770,
     "sourceType": "datasetVersion"
    },
    {
     "datasetId": 7465357,
     "sourceId": 11878774,
     "sourceType": "datasetVersion"
    },
    {
     "datasetId": 7465442,
     "sourceId": 11878912,
     "sourceType": "datasetVersion"
    },
    {
     "datasetId": 7480420,
     "sourceId": 11899853,
     "sourceType": "datasetVersion"
    },
    {
     "datasetId": 7480504,
     "sourceId": 11899980,
     "sourceType": "datasetVersion"
    },
    {
     "datasetId": 7485598,
     "sourceId": 11907526,
     "sourceType": "datasetVersion"
    },
    {
     "datasetId": 7496438,
     "sourceId": 11923571,
     "sourceType": "datasetVersion"
    },
    {
     "datasetId": 7497397,
     "sourceId": 11924933,
     "sourceType": "datasetVersion"
    },
    {
     "datasetId": 7501306,
     "sourceId": 11931427,
     "sourceType": "datasetVersion"
    },
    {
     "datasetId": 7509445,
     "sourceId": 11945240,
     "sourceType": "datasetVersion"
    },
    {
     "datasetId": 7524707,
     "sourceId": 11966496,
     "sourceType": "datasetVersion"
    }
   ],
   "dockerImageVersionId": 31012,
   "isGpuEnabled": false,
   "isInternetEnabled": true,
   "language": "python",
   "sourceType": "notebook"
  },
  "kernelspec": {
   "display_name": "Python 3",
   "language": "python",
   "name": "python3"
  },
  "language_info": {
   "codemirror_mode": {
    "name": "ipython",
    "version": 3
   },
   "file_extension": ".py",
   "mimetype": "text/x-python",
   "name": "python",
   "nbconvert_exporter": "python",
   "pygments_lexer": "ipython3",
   "version": "3.11.11"
  }
 },
 "nbformat": 4,
 "nbformat_minor": 4
}
