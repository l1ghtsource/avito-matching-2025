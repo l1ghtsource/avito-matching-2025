{
 "cells": [
  {
   "cell_type": "code",
   "execution_count": 1,
   "id": "3af17440",
   "metadata": {},
   "outputs": [],
   "source": [
    "import opendatasets as od"
   ]
  },
  {
   "cell_type": "code",
   "execution_count": 2,
   "id": "a7d4c870",
   "metadata": {},
   "outputs": [
    {
     "name": "stdout",
     "output_type": "stream",
     "text": [
      "Please provide your Kaggle credentials to download this dataset. Learn more: http://bit.ly/kaggle-creds\n",
      "Your Kaggle username:Your Kaggle Key:Dataset URL: https://www.kaggle.com/datasets/strangerone/ebychiy-avito\n"
     ]
    }
   ],
   "source": [
    "dataset_url = 'https://www.kaggle.com/datasets/strangerone/ebychiy-avito'\n",
    "od.download(dataset_url)"
   ]
  },
  {
   "cell_type": "code",
   "execution_count": null,
   "id": "16b5cb40",
   "metadata": {},
   "outputs": [],
   "source": [
    "!mv ebychiy-avito avito-orig-data"
   ]
  },
  {
   "cell_type": "code",
   "execution_count": 3,
   "id": "44d2a90b",
   "metadata": {},
   "outputs": [
    {
     "name": "stdout",
     "output_type": "stream",
     "text": [
      "Please provide your Kaggle credentials to download this dataset. Learn more: http://bit.ly/kaggle-creds\n",
      "Your Kaggle username:Your Kaggle Key:Dataset URL: https://www.kaggle.com/datasets/l1ghtsource/brands-and-colors\n"
     ]
    }
   ],
   "source": [
    "dataset_url = 'https://www.kaggle.com/datasets/l1ghtsource/brands-and-colors'\n",
    "od.download(dataset_url)"
   ]
  },
  {
   "cell_type": "code",
   "execution_count": 2,
   "id": "173f317f",
   "metadata": {},
   "outputs": [
    {
     "name": "stdout",
     "output_type": "stream",
     "text": [
      "Please provide your Kaggle credentials to download this dataset. Learn more: http://bit.ly/kaggle-creds\n",
      "Your Kaggle username:Your Kaggle Key:Dataset URL: https://www.kaggle.com/datasets/timo13113/names-descs-avito-fixed\n"
     ]
    }
   ],
   "source": [
    "dataset_url = 'https://www.kaggle.com/datasets/timo13113/names-descs-avito-fixed'\n",
    "od.download(dataset_url)"
   ]
  },
  {
   "cell_type": "code",
   "execution_count": 3,
   "id": "b8287521",
   "metadata": {},
   "outputs": [],
   "source": [
    "!mv names-descs-avito-fixed fix-letters-kenlm"
   ]
  }
 ],
 "metadata": {
  "kernelspec": {
   "display_name": "Python 3",
   "language": "python",
   "name": "python3"
  },
  "language_info": {
   "codemirror_mode": {
    "name": "ipython",
    "version": 3
   },
   "file_extension": ".py",
   "mimetype": "text/x-python",
   "name": "python",
   "nbconvert_exporter": "python",
   "pygments_lexer": "ipython3",
   "version": "3.10.12"
  }
 },
 "nbformat": 4,
 "nbformat_minor": 5
}
